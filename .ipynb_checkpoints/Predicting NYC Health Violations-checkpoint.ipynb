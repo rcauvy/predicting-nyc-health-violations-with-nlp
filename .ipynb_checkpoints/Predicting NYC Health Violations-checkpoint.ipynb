{
 "cells": [
  {
   "cell_type": "markdown",
   "metadata": {},
   "source": [
    "# Introduction"
   ]
  },
  {
   "cell_type": "markdown",
   "metadata": {
    "ExecuteTime": {
     "end_time": "2022-05-17T01:03:10.893420Z",
     "start_time": "2022-05-17T01:03:10.861202Z"
    }
   },
   "source": [
    "https://www.nycfoodpolicy.org/restaurant-grading-system-hunter-college-nyc-food-policy-center/"
   ]
  },
  {
   "cell_type": "markdown",
   "metadata": {},
   "source": [
    "Cities across the United States are capitalizing on big data. Predictive policing is becoming a prominent tool for public safety in many cities. In Boston, an algorithm helps determine “problem properties” where the city can target interventions. In Chicago, they are protecting citizens by predicting which landlords are not complying with city ordinances. In New York, the Fire Department sends inspectors to the highest risk buildings so they can prevent deadly fires from breaking out."
   ]
  },
  {
   "cell_type": "markdown",
   "metadata": {},
   "source": [
    "According to the CDC, more than 48 million Americans per year become sick from food, and an estimated 75% of the outbreaks came from food prepared by caterers, delis, and restaurants. In most cities, health inspections are generally random, which can increase time spent on spot checks at clean restaurants that have been following the rules closely — and missed opportunities to improve health and hygiene at places with more pressing food safety issues.\n",
    "\n",
    "The goal for this project is to leverage public citizen generated data from social media to narrow the search for critical health and safety violations in New York City. As the City of New York manages  an open data portal, everyone can access historical hygiene inspections and violation records. By combine these two data source this project aims to determine which words, phrases, ratings, and patterns among restaurants lead to critical health and safety violations. This model can assist city health inspectors do their job better by prioritizing the kitchens most likely to be in violation of code."
   ]
  },
  {
   "cell_type": "markdown",
   "metadata": {},
   "source": [
    "The New York Health Department inspects the approximately 27,000 restaurants within the city to monitor their compliance with food safety regulations. Inspectors observe how food is prepared, served and stored and whether restaurant workers are practicing good hygiene. They check food temperatures, equipment maintenance and pest control measures."
   ]
  },
  {
   "cell_type": "markdown",
   "metadata": {},
   "source": [
    "### Imports"
   ]
  },
  {
   "cell_type": "code",
   "execution_count": 2,
   "metadata": {
    "ExecuteTime": {
     "end_time": "2022-08-02T18:10:27.469170Z",
     "start_time": "2022-08-02T18:10:21.052276Z"
    }
   },
   "outputs": [],
   "source": [
    "from IPython import display\n",
    "from bs4 import BeautifulSoup as bs\n",
    "import requests\n",
    "import json\n",
    "import pandas as pd\n",
    "import numpy as np\n",
    "\n",
    "import matplotlib.pyplot as plt\n",
    "%matplotlib inline\n",
    "import seaborn as sns\n",
    "import geopandas as gpd\n",
    "from shapely.geometry import Point, Polygon\n",
    "import plotly.express as px\n",
    "\n",
    "import warnings\n",
    "import time\n",
    "\n",
    "import folium\n",
    "import folium.plugins as plugins\n",
    "\n",
    "# misc\n",
    "import glob, os\n",
    "import ast\n",
    "\n",
    "call_apis = False\n",
    "warnings.filterwarnings(\"ignore\")\n",
    "pd.set_option('display.max_colwidth',200)\n",
    "pd.set_option('display.max_columns',50)\n",
    "pd.options.display.float_format = '{:.2f}'.format\n",
    "\n",
    "from sklearn.preprocessing import OneHotEncoder\n",
    "\n",
    "#NLP \n",
    "import spacy\n",
    "nlp = spacy.load(\"en_core_web_lg\")\n",
    "from spacy import displacy\n",
    "import nltk \n",
    "import string\n",
    "from nltk.collocations import *\n",
    "from nltk import word_tokenize,wordpunct_tokenize\n",
    "from nltk.tokenize import RegexpTokenizer\n",
    "from nltk.sentiment.vader import SentimentIntensityAnalyzer\n",
    "from wordcloud import WordCloud\n",
    "from nltk import FreqDist\n",
    "from nltk.corpus import stopwords\n",
    "from nltk.stem.wordnet import WordNetLemmatizer\n",
    "#nltk.download('wordnet')\n",
    "\n",
    "# sk-learn\n",
    "from sklearn import metrics\n",
    "from sklearn.model_selection import train_test_split\n",
    "from sklearn.pipeline import Pipeline\n",
    "from sklearn.feature_extraction.text import TfidfTransformer, CountVectorizer\n",
    "from sklearn.tree import DecisionTreeClassifier"
   ]
  },
  {
   "cell_type": "markdown",
   "metadata": {},
   "source": [
    "### Can you predict if a restaurant has received a C Grade?\n",
    "### Can you predict a restaurants yelp rating based on its review text?\n",
    "### Can you recommend a similar restaurant nearby with a better health score for restaurants searched for with a C"
   ]
  },
  {
   "cell_type": "markdown",
   "metadata": {},
   "source": [
    "# Obtain"
   ]
  },
  {
   "cell_type": "markdown",
   "metadata": {},
   "source": [
    "For this project there will be two sources and types of data used:\n",
    "\n",
    "* Historical health and hygiene inspections recorded by New York City Department of Health and Mental Hygiene (DOHMH) public health inspectors\n",
    "* User generated Yelp business ratings and reviews"
   ]
  },
  {
   "cell_type": "markdown",
   "metadata": {},
   "source": [
    "This project requires data pulled from two different sources, the City of New York and Yelp. To obtain the data we will call the API keys."
   ]
  },
  {
   "cell_type": "markdown",
   "metadata": {},
   "source": [
    " > The dataset contains every sustained or not yet adjudicated violation citation from every full or special program inspection conducted up to three years prior to the most recent inspection for restaurants and college cafeterias in an active status on the RECORD DATE (date of the data pull). When an inspection results in more than one violation, values for associated fields are repeated for each additional violation record. Establishments are uniquely identified by their CAMIS (record ID) number. Keep in mind that thousands of restaurants start business and go out of business every year; only restaurants in an active status are included in the dataset.\n",
    "Records are also included for each restaurant that has applied for a permit but has not yet been inspected and for inspections resulting in no violations. Establishments with inspection date of 1/1/1900 are new establishments that have not yet received an inspection. Restaurants that received no violations are represented by a single row and coded as having no violations using the ACTION field.\n",
    "Because this dataset is compiled from several large administrative data systems, it contains some illogical values that could be a result of data entry or transfer errors. Data may also be missing.\n",
    "This dataset and the information on the Health Department’s Restaurant Grading website come from the same data source. The Health Department’s Restaurant Grading website is here:\n",
    "http://www1.nyc.gov/site/doh/services/restaurant-grades.page"
   ]
  },
  {
   "cell_type": "markdown",
   "metadata": {},
   "source": [
    "> Why does the Health Department inspect restaurants?\n",
    "The Health Department inspects the approximately 27,000 restaurants in New York City to monitor their compliance with food safety regulations. Inspectors observe how food is prepared, served and stored and whether restaurant workers are practicing good hygiene. They check food temperatures, equipment maintenance and pest control measures."
   ]
  },
  {
   "cell_type": "markdown",
   "metadata": {},
   "source": [
    "> Since 2010, New York City has required restaurants to post letter grades that correspond to scores received from sanitary inspections. An inspection score of 0 to 13 is an A, 14 to 27 points is a B, and 28 or more points is a C. Grade cards must be posted where they can easily be seen by people passing by."
   ]
  },
  {
   "cell_type": "markdown",
   "metadata": {},
   "source": [
    "> The New York City Health Department inspects all food service establishments to make sure they meet Health Code requirements, which helps prevent\n",
    "foodborne illness. How often a restaurant is inspected depends on its inspection score. Restaurants that receive a low score on the initial or first inspection\n",
    "in the inspection cycle are inspected less often than those that receive a high score."
   ]
  },
  {
   "cell_type": "markdown",
   "metadata": {},
   "source": [
    "> The points for a particular violation depend on the health risk it poses to the public. Violations fall into three categories:\n",
    ">* A public health hazard, such as failing to keep food at the right temperature, triggers a minimum of 7 points. If the violation can’t be corrected before the inspection ends, the Health Department may close the restaurant until it’s fixed.\n",
    ">* A critical violation, for example, serving raw food such as a salad without properly washing it first, carries a minimum of 5 points.\n",
    ">* A general violation, such as not properly sanitizing\n",
    "cooking utensils, receives at least 2 points.\n",
    "\n",
    ">Inspectors assign additional points to reflect the extent of the\n",
    "violation. A violation’s condition level can range from 1 (least\n",
    "extensive) to 5 (most extensive). For example, the presence of\n",
    "one contaminated food item is a condition level 1 violation,\n",
    "generating 7 points. Four or more contaminated food items\n",
    "is a condition level 4 violation, resulting in 10 points. "
   ]
  },
  {
   "cell_type": "markdown",
   "metadata": {},
   "source": [
    "> How are restaurants graded?\n",
    "Violations found during inspections carry point values, and a restaurant’s score corresponds to a letter grade. The point/grade cut-offs are the same as for mobile food vending letter grading, with fewer points corresponding to a better grade:\n",
    "\n",
    ">* \"A\" grade: 0 to 13 points for sanitary violations\n",
    ">* \"B\" grade: 14 to 27 points for sanitary violations\n",
    ">* \"C\" grade: 28 or more points for sanitary violations\n"
   ]
  },
  {
   "cell_type": "markdown",
   "metadata": {},
   "source": [
    "The City of New York inspects all restaurants cyclically. And if a business does not pass it's initial inspection for the cycle, it will be re-inspected in 3-5 months."
   ]
  },
  {
   "cell_type": "markdown",
   "metadata": {},
   "source": [
    "## Obtaining Restaurant Inspection Results from NYC Open Data Portal"
   ]
  },
  {
   "cell_type": "markdown",
   "metadata": {
    "ExecuteTime": {
     "end_time": "2022-04-19T15:04:10.996002Z",
     "start_time": "2022-04-19T15:04:10.983796Z"
    }
   },
   "source": [
    "The dataset can be obtained here\n",
    "\n",
    "https://data.cityofnewyork.us/Health/DOHMH-New-York-City-Restaurant-Inspection-Results/43nn-pn8j"
   ]
  },
  {
   "cell_type": "markdown",
   "metadata": {},
   "source": [
    "The dataset was downloaded and saved to this repository. Let's load it in and explore its contents."
   ]
  },
  {
   "cell_type": "markdown",
   "metadata": {},
   "source": [
    "Detailed descriptions about each column can be found in the Restaurant Inspection Data Dictionary."
   ]
  },
  {
   "cell_type": "code",
   "execution_count": 3,
   "metadata": {
    "ExecuteTime": {
     "end_time": "2022-08-02T18:10:36.705368Z",
     "start_time": "2022-08-02T18:10:33.870702Z"
    }
   },
   "outputs": [
    {
     "data": {
      "text/html": [
       "<div>\n",
       "<style scoped>\n",
       "    .dataframe tbody tr th:only-of-type {\n",
       "        vertical-align: middle;\n",
       "    }\n",
       "\n",
       "    .dataframe tbody tr th {\n",
       "        vertical-align: top;\n",
       "    }\n",
       "\n",
       "    .dataframe thead th {\n",
       "        text-align: right;\n",
       "    }\n",
       "</style>\n",
       "<table border=\"1\" class=\"dataframe\">\n",
       "  <thead>\n",
       "    <tr style=\"text-align: right;\">\n",
       "      <th></th>\n",
       "      <th>CAMIS</th>\n",
       "      <th>DBA</th>\n",
       "      <th>BORO</th>\n",
       "      <th>BUILDING</th>\n",
       "      <th>STREET</th>\n",
       "      <th>ZIPCODE</th>\n",
       "      <th>PHONE</th>\n",
       "      <th>CUISINE DESCRIPTION</th>\n",
       "      <th>INSPECTION DATE</th>\n",
       "      <th>ACTION</th>\n",
       "      <th>VIOLATION CODE</th>\n",
       "      <th>VIOLATION DESCRIPTION</th>\n",
       "      <th>CRITICAL FLAG</th>\n",
       "      <th>SCORE</th>\n",
       "      <th>GRADE</th>\n",
       "      <th>GRADE DATE</th>\n",
       "      <th>RECORD DATE</th>\n",
       "      <th>INSPECTION TYPE</th>\n",
       "      <th>Latitude</th>\n",
       "      <th>Longitude</th>\n",
       "      <th>Community Board</th>\n",
       "      <th>Council District</th>\n",
       "      <th>Census Tract</th>\n",
       "      <th>BIN</th>\n",
       "      <th>BBL</th>\n",
       "      <th>NTA</th>\n",
       "    </tr>\n",
       "  </thead>\n",
       "  <tbody>\n",
       "    <tr>\n",
       "      <th>0</th>\n",
       "      <td>50008319</td>\n",
       "      <td>POULETTE</td>\n",
       "      <td>Manhattan</td>\n",
       "      <td>790</td>\n",
       "      <td>9 AVENUE</td>\n",
       "      <td>10019.00</td>\n",
       "      <td>2129569488</td>\n",
       "      <td>Chicken</td>\n",
       "      <td>01/28/2019</td>\n",
       "      <td>Violations were cited in the following area(s).</td>\n",
       "      <td>04D</td>\n",
       "      <td>Food worker does not wash hands thoroughly after using the toilet, coughing, sneezing, smoking, eating, preparing raw foods or otherwise contaminating hands.</td>\n",
       "      <td>Critical</td>\n",
       "      <td>22</td>\n",
       "      <td>NaN</td>\n",
       "      <td>NaN</td>\n",
       "      <td>03/24/2022</td>\n",
       "      <td>Cycle Inspection / Initial Inspection</td>\n",
       "      <td>40.77</td>\n",
       "      <td>-73.99</td>\n",
       "      <td>104.00</td>\n",
       "      <td>3.00</td>\n",
       "      <td>13300.00</td>\n",
       "      <td>1025235.00</td>\n",
       "      <td>1010430004.00</td>\n",
       "      <td>MN15</td>\n",
       "    </tr>\n",
       "    <tr>\n",
       "      <th>1</th>\n",
       "      <td>41678734</td>\n",
       "      <td>TINY'S DINER</td>\n",
       "      <td>Bronx</td>\n",
       "      <td>3603</td>\n",
       "      <td>RIVERDALE AVENUE</td>\n",
       "      <td>10463.00</td>\n",
       "      <td>7187087600</td>\n",
       "      <td>American</td>\n",
       "      <td>09/23/2019</td>\n",
       "      <td>Violations were cited in the following area(s).</td>\n",
       "      <td>04M</td>\n",
       "      <td>Live roaches present in facility's food and/or non-food areas.</td>\n",
       "      <td>Critical</td>\n",
       "      <td>24</td>\n",
       "      <td>NaN</td>\n",
       "      <td>NaN</td>\n",
       "      <td>03/24/2022</td>\n",
       "      <td>Cycle Inspection / Initial Inspection</td>\n",
       "      <td>40.89</td>\n",
       "      <td>-73.91</td>\n",
       "      <td>208.00</td>\n",
       "      <td>11.00</td>\n",
       "      <td>29500.00</td>\n",
       "      <td>2084186.00</td>\n",
       "      <td>2057960167.00</td>\n",
       "      <td>BX29</td>\n",
       "    </tr>\n",
       "    <tr>\n",
       "      <th>2</th>\n",
       "      <td>40795021</td>\n",
       "      <td>TAO RESTAURANT</td>\n",
       "      <td>Manhattan</td>\n",
       "      <td>42</td>\n",
       "      <td>EAST   58 STREET</td>\n",
       "      <td>10022.00</td>\n",
       "      <td>2128882288</td>\n",
       "      <td>Asian/Asian Fusion</td>\n",
       "      <td>03/11/2020</td>\n",
       "      <td>Violations were cited in the following area(s).</td>\n",
       "      <td>10F</td>\n",
       "      <td>Non-food contact surface improperly constructed. Unacceptable material used. Non-food contact surface or equipment improperly maintained and/or not properly sealed, raised, spaced or movable to al...</td>\n",
       "      <td>Not Critical</td>\n",
       "      <td>9</td>\n",
       "      <td>NaN</td>\n",
       "      <td>NaN</td>\n",
       "      <td>03/24/2022</td>\n",
       "      <td>Cycle Inspection / Initial Inspection</td>\n",
       "      <td>40.76</td>\n",
       "      <td>-73.97</td>\n",
       "      <td>105.00</td>\n",
       "      <td>4.00</td>\n",
       "      <td>11202.00</td>\n",
       "      <td>1036073.00</td>\n",
       "      <td>1012930047.00</td>\n",
       "      <td>MN17</td>\n",
       "    </tr>\n",
       "    <tr>\n",
       "      <th>3</th>\n",
       "      <td>40795021</td>\n",
       "      <td>TAO RESTAURANT</td>\n",
       "      <td>Manhattan</td>\n",
       "      <td>42</td>\n",
       "      <td>EAST   58 STREET</td>\n",
       "      <td>10022.00</td>\n",
       "      <td>2128882288</td>\n",
       "      <td>Asian/Asian Fusion</td>\n",
       "      <td>03/11/2020</td>\n",
       "      <td>Violations were cited in the following area(s).</td>\n",
       "      <td>10F</td>\n",
       "      <td>Non-food contact surface improperly constructed. Unacceptable material used. Non-food contact surface or equipment improperly maintained and/or not properly sealed, raised, spaced or movable to al...</td>\n",
       "      <td>Not Critical</td>\n",
       "      <td>9</td>\n",
       "      <td>NaN</td>\n",
       "      <td>NaN</td>\n",
       "      <td>03/24/2022</td>\n",
       "      <td>Cycle Inspection / Initial Inspection</td>\n",
       "      <td>40.76</td>\n",
       "      <td>-73.97</td>\n",
       "      <td>105.00</td>\n",
       "      <td>4.00</td>\n",
       "      <td>11202.00</td>\n",
       "      <td>1036073.00</td>\n",
       "      <td>1012930047.00</td>\n",
       "      <td>MN17</td>\n",
       "    </tr>\n",
       "    <tr>\n",
       "      <th>4</th>\n",
       "      <td>40538234</td>\n",
       "      <td>DUNKIN',' BASKIN ROBBINS</td>\n",
       "      <td>Queens</td>\n",
       "      <td>9925</td>\n",
       "      <td>HORACE HARDING EXPRESSWAY</td>\n",
       "      <td>11368.00</td>\n",
       "      <td>7182719222</td>\n",
       "      <td>Donuts</td>\n",
       "      <td>07/29/2021</td>\n",
       "      <td>Violations were cited in the following area(s).</td>\n",
       "      <td>06E</td>\n",
       "      <td>Sanitized equipment or utensil, including in-use food dispensing utensil, improperly used or stored.</td>\n",
       "      <td>Critical</td>\n",
       "      <td>10</td>\n",
       "      <td>A</td>\n",
       "      <td>07/29/2021</td>\n",
       "      <td>03/24/2022</td>\n",
       "      <td>Cycle Inspection / Initial Inspection</td>\n",
       "      <td>40.74</td>\n",
       "      <td>-73.86</td>\n",
       "      <td>404.00</td>\n",
       "      <td>21.00</td>\n",
       "      <td>43702.00</td>\n",
       "      <td>4047915.00</td>\n",
       "      <td>4019480019.00</td>\n",
       "      <td>QN25</td>\n",
       "    </tr>\n",
       "    <tr>\n",
       "      <th>...</th>\n",
       "      <td>...</td>\n",
       "      <td>...</td>\n",
       "      <td>...</td>\n",
       "      <td>...</td>\n",
       "      <td>...</td>\n",
       "      <td>...</td>\n",
       "      <td>...</td>\n",
       "      <td>...</td>\n",
       "      <td>...</td>\n",
       "      <td>...</td>\n",
       "      <td>...</td>\n",
       "      <td>...</td>\n",
       "      <td>...</td>\n",
       "      <td>...</td>\n",
       "      <td>...</td>\n",
       "      <td>...</td>\n",
       "      <td>...</td>\n",
       "      <td>...</td>\n",
       "      <td>...</td>\n",
       "      <td>...</td>\n",
       "      <td>...</td>\n",
       "      <td>...</td>\n",
       "      <td>...</td>\n",
       "      <td>...</td>\n",
       "      <td>...</td>\n",
       "      <td>...</td>\n",
       "    </tr>\n",
       "    <tr>\n",
       "      <th>186222</th>\n",
       "      <td>41556790</td>\n",
       "      <td>FIVE GUYS FAMOUS BURGERS AND FRIES</td>\n",
       "      <td>Manhattan</td>\n",
       "      <td>2847</td>\n",
       "      <td>BROADFWAY</td>\n",
       "      <td>NaN</td>\n",
       "      <td>2126787701</td>\n",
       "      <td>Hamburgers</td>\n",
       "      <td>03/01/2019</td>\n",
       "      <td>Violations were cited in the following area(s).</td>\n",
       "      <td>10F</td>\n",
       "      <td>Non-food contact surface improperly constructed. Unacceptable material used. Non-food contact surface or equipment improperly maintained and/or not properly sealed, raised, spaced or movable to al...</td>\n",
       "      <td>Not Critical</td>\n",
       "      <td>3</td>\n",
       "      <td>A</td>\n",
       "      <td>03/01/2019</td>\n",
       "      <td>03/24/2022</td>\n",
       "      <td>Cycle Inspection / Initial Inspection</td>\n",
       "      <td>0.00</td>\n",
       "      <td>0.00</td>\n",
       "      <td>NaN</td>\n",
       "      <td>NaN</td>\n",
       "      <td>NaN</td>\n",
       "      <td>NaN</td>\n",
       "      <td>1.00</td>\n",
       "      <td>NaN</td>\n",
       "    </tr>\n",
       "    <tr>\n",
       "      <th>186223</th>\n",
       "      <td>50032876</td>\n",
       "      <td>TANNER SMITH'S</td>\n",
       "      <td>Manhattan</td>\n",
       "      <td>204</td>\n",
       "      <td>WEST   55 STREET</td>\n",
       "      <td>10019.00</td>\n",
       "      <td>9175172283</td>\n",
       "      <td>American</td>\n",
       "      <td>06/07/2019</td>\n",
       "      <td>Violations were cited in the following area(s).</td>\n",
       "      <td>08A</td>\n",
       "      <td>Facility not vermin proof. Harborage or conditions conducive to attracting vermin to the premises and/or allowing vermin to exist.</td>\n",
       "      <td>Not Critical</td>\n",
       "      <td>12</td>\n",
       "      <td>A</td>\n",
       "      <td>06/07/2019</td>\n",
       "      <td>03/24/2022</td>\n",
       "      <td>Cycle Inspection / Initial Inspection</td>\n",
       "      <td>40.76</td>\n",
       "      <td>-73.98</td>\n",
       "      <td>105.00</td>\n",
       "      <td>4.00</td>\n",
       "      <td>13700.00</td>\n",
       "      <td>1024857.00</td>\n",
       "      <td>1010260037.00</td>\n",
       "      <td>MN17</td>\n",
       "    </tr>\n",
       "    <tr>\n",
       "      <th>186224</th>\n",
       "      <td>50003842</td>\n",
       "      <td>T- 45</td>\n",
       "      <td>Manhattan</td>\n",
       "      <td>135</td>\n",
       "      <td>WEST   45 STREET</td>\n",
       "      <td>10036.00</td>\n",
       "      <td>6466403775</td>\n",
       "      <td>American</td>\n",
       "      <td>07/26/2018</td>\n",
       "      <td>Violations were cited in the following area(s).</td>\n",
       "      <td>10B</td>\n",
       "      <td>Plumbing not properly installed or maintained; anti-siphonage or backflow prevention device not provided where required; equipment or floor not properly drained; sewage disposal system in disrepai...</td>\n",
       "      <td>Not Critical</td>\n",
       "      <td>49</td>\n",
       "      <td>NaN</td>\n",
       "      <td>NaN</td>\n",
       "      <td>03/24/2022</td>\n",
       "      <td>Cycle Inspection / Initial Inspection</td>\n",
       "      <td>40.76</td>\n",
       "      <td>-73.98</td>\n",
       "      <td>105.00</td>\n",
       "      <td>4.00</td>\n",
       "      <td>11900.00</td>\n",
       "      <td>1089796.00</td>\n",
       "      <td>1009980015.00</td>\n",
       "      <td>MN17</td>\n",
       "    </tr>\n",
       "    <tr>\n",
       "      <th>186225</th>\n",
       "      <td>41640824</td>\n",
       "      <td>RICURAS ECUADORIAN BAKERY</td>\n",
       "      <td>Bronx</td>\n",
       "      <td>1576</td>\n",
       "      <td>WATSON AVENUE</td>\n",
       "      <td>10472.00</td>\n",
       "      <td>7184508363</td>\n",
       "      <td>Spanish</td>\n",
       "      <td>07/20/2018</td>\n",
       "      <td>Violations were cited in the following area(s).</td>\n",
       "      <td>06F</td>\n",
       "      <td>Wiping cloths soiled or not stored in sanitizing solution.</td>\n",
       "      <td>Critical</td>\n",
       "      <td>12</td>\n",
       "      <td>A</td>\n",
       "      <td>07/20/2018</td>\n",
       "      <td>03/24/2022</td>\n",
       "      <td>Cycle Inspection / Initial Inspection</td>\n",
       "      <td>40.83</td>\n",
       "      <td>-73.88</td>\n",
       "      <td>209.00</td>\n",
       "      <td>18.00</td>\n",
       "      <td>5001.00</td>\n",
       "      <td>2023533.00</td>\n",
       "      <td>2037160036.00</td>\n",
       "      <td>BX55</td>\n",
       "    </tr>\n",
       "    <tr>\n",
       "      <th>186226</th>\n",
       "      <td>41450971</td>\n",
       "      <td>GIOVANNI'S RESTAURANT</td>\n",
       "      <td>Bronx</td>\n",
       "      <td>3209</td>\n",
       "      <td>WESTCHESTER AVENUE</td>\n",
       "      <td>10461.00</td>\n",
       "      <td>7188924340</td>\n",
       "      <td>Pizza</td>\n",
       "      <td>06/21/2017</td>\n",
       "      <td>Violations were cited in the following area(s).</td>\n",
       "      <td>06D</td>\n",
       "      <td>Food contact surface not properly washed, rinsed and sanitized after each use and following any activity when contamination may have occurred.</td>\n",
       "      <td>Critical</td>\n",
       "      <td>16</td>\n",
       "      <td>NaN</td>\n",
       "      <td>NaN</td>\n",
       "      <td>03/24/2022</td>\n",
       "      <td>Cycle Inspection / Initial Inspection</td>\n",
       "      <td>40.85</td>\n",
       "      <td>-73.83</td>\n",
       "      <td>210.00</td>\n",
       "      <td>13.00</td>\n",
       "      <td>30000.00</td>\n",
       "      <td>2047655.00</td>\n",
       "      <td>2042450020.00</td>\n",
       "      <td>BX10</td>\n",
       "    </tr>\n",
       "  </tbody>\n",
       "</table>\n",
       "<p>186227 rows × 26 columns</p>\n",
       "</div>"
      ],
      "text/plain": [
       "           CAMIS                                 DBA       BORO BUILDING  \\\n",
       "0       50008319                            POULETTE  Manhattan      790   \n",
       "1       41678734                        TINY'S DINER      Bronx     3603   \n",
       "2       40795021                      TAO RESTAURANT  Manhattan       42   \n",
       "3       40795021                      TAO RESTAURANT  Manhattan       42   \n",
       "4       40538234            DUNKIN',' BASKIN ROBBINS     Queens     9925   \n",
       "...          ...                                 ...        ...      ...   \n",
       "186222  41556790  FIVE GUYS FAMOUS BURGERS AND FRIES  Manhattan     2847   \n",
       "186223  50032876                      TANNER SMITH'S  Manhattan      204   \n",
       "186224  50003842                               T- 45  Manhattan      135   \n",
       "186225  41640824           RICURAS ECUADORIAN BAKERY      Bronx     1576   \n",
       "186226  41450971               GIOVANNI'S RESTAURANT      Bronx     3209   \n",
       "\n",
       "                           STREET  ZIPCODE       PHONE CUISINE DESCRIPTION  \\\n",
       "0                        9 AVENUE 10019.00  2129569488             Chicken   \n",
       "1                RIVERDALE AVENUE 10463.00  7187087600            American   \n",
       "2                EAST   58 STREET 10022.00  2128882288  Asian/Asian Fusion   \n",
       "3                EAST   58 STREET 10022.00  2128882288  Asian/Asian Fusion   \n",
       "4       HORACE HARDING EXPRESSWAY 11368.00  7182719222              Donuts   \n",
       "...                           ...      ...         ...                 ...   \n",
       "186222                  BROADFWAY      NaN  2126787701          Hamburgers   \n",
       "186223           WEST   55 STREET 10019.00  9175172283            American   \n",
       "186224           WEST   45 STREET 10036.00  6466403775            American   \n",
       "186225              WATSON AVENUE 10472.00  7184508363             Spanish   \n",
       "186226         WESTCHESTER AVENUE 10461.00  7188924340               Pizza   \n",
       "\n",
       "       INSPECTION DATE                                           ACTION  \\\n",
       "0           01/28/2019  Violations were cited in the following area(s).   \n",
       "1           09/23/2019  Violations were cited in the following area(s).   \n",
       "2           03/11/2020  Violations were cited in the following area(s).   \n",
       "3           03/11/2020  Violations were cited in the following area(s).   \n",
       "4           07/29/2021  Violations were cited in the following area(s).   \n",
       "...                ...                                              ...   \n",
       "186222      03/01/2019  Violations were cited in the following area(s).   \n",
       "186223      06/07/2019  Violations were cited in the following area(s).   \n",
       "186224      07/26/2018  Violations were cited in the following area(s).   \n",
       "186225      07/20/2018  Violations were cited in the following area(s).   \n",
       "186226      06/21/2017  Violations were cited in the following area(s).   \n",
       "\n",
       "       VIOLATION CODE  \\\n",
       "0                 04D   \n",
       "1                 04M   \n",
       "2                 10F   \n",
       "3                 10F   \n",
       "4                 06E   \n",
       "...               ...   \n",
       "186222            10F   \n",
       "186223            08A   \n",
       "186224            10B   \n",
       "186225            06F   \n",
       "186226            06D   \n",
       "\n",
       "                                                                                                                                                                                          VIOLATION DESCRIPTION  \\\n",
       "0                                                 Food worker does not wash hands thoroughly after using the toilet, coughing, sneezing, smoking, eating, preparing raw foods or otherwise contaminating hands.   \n",
       "1                                                                                                                                                Live roaches present in facility's food and/or non-food areas.   \n",
       "2       Non-food contact surface improperly constructed. Unacceptable material used. Non-food contact surface or equipment improperly maintained and/or not properly sealed, raised, spaced or movable to al...   \n",
       "3       Non-food contact surface improperly constructed. Unacceptable material used. Non-food contact surface or equipment improperly maintained and/or not properly sealed, raised, spaced or movable to al...   \n",
       "4                                                                                                          Sanitized equipment or utensil, including in-use food dispensing utensil, improperly used or stored.   \n",
       "...                                                                                                                                                                                                         ...   \n",
       "186222  Non-food contact surface improperly constructed. Unacceptable material used. Non-food contact surface or equipment improperly maintained and/or not properly sealed, raised, spaced or movable to al...   \n",
       "186223                                                                       Facility not vermin proof. Harborage or conditions conducive to attracting vermin to the premises and/or allowing vermin to exist.   \n",
       "186224  Plumbing not properly installed or maintained; anti-siphonage or backflow prevention device not provided where required; equipment or floor not properly drained; sewage disposal system in disrepai...   \n",
       "186225                                                                                                                                               Wiping cloths soiled or not stored in sanitizing solution.   \n",
       "186226                                                           Food contact surface not properly washed, rinsed and sanitized after each use and following any activity when contamination may have occurred.   \n",
       "\n",
       "       CRITICAL FLAG  SCORE GRADE  GRADE DATE RECORD DATE  \\\n",
       "0           Critical     22   NaN         NaN  03/24/2022   \n",
       "1           Critical     24   NaN         NaN  03/24/2022   \n",
       "2       Not Critical      9   NaN         NaN  03/24/2022   \n",
       "3       Not Critical      9   NaN         NaN  03/24/2022   \n",
       "4           Critical     10     A  07/29/2021  03/24/2022   \n",
       "...              ...    ...   ...         ...         ...   \n",
       "186222  Not Critical      3     A  03/01/2019  03/24/2022   \n",
       "186223  Not Critical     12     A  06/07/2019  03/24/2022   \n",
       "186224  Not Critical     49   NaN         NaN  03/24/2022   \n",
       "186225      Critical     12     A  07/20/2018  03/24/2022   \n",
       "186226      Critical     16   NaN         NaN  03/24/2022   \n",
       "\n",
       "                              INSPECTION TYPE  Latitude  Longitude  \\\n",
       "0       Cycle Inspection / Initial Inspection     40.77     -73.99   \n",
       "1       Cycle Inspection / Initial Inspection     40.89     -73.91   \n",
       "2       Cycle Inspection / Initial Inspection     40.76     -73.97   \n",
       "3       Cycle Inspection / Initial Inspection     40.76     -73.97   \n",
       "4       Cycle Inspection / Initial Inspection     40.74     -73.86   \n",
       "...                                       ...       ...        ...   \n",
       "186222  Cycle Inspection / Initial Inspection      0.00       0.00   \n",
       "186223  Cycle Inspection / Initial Inspection     40.76     -73.98   \n",
       "186224  Cycle Inspection / Initial Inspection     40.76     -73.98   \n",
       "186225  Cycle Inspection / Initial Inspection     40.83     -73.88   \n",
       "186226  Cycle Inspection / Initial Inspection     40.85     -73.83   \n",
       "\n",
       "        Community Board  Council District  Census Tract        BIN  \\\n",
       "0                104.00              3.00      13300.00 1025235.00   \n",
       "1                208.00             11.00      29500.00 2084186.00   \n",
       "2                105.00              4.00      11202.00 1036073.00   \n",
       "3                105.00              4.00      11202.00 1036073.00   \n",
       "4                404.00             21.00      43702.00 4047915.00   \n",
       "...                 ...               ...           ...        ...   \n",
       "186222              NaN               NaN           NaN        NaN   \n",
       "186223           105.00              4.00      13700.00 1024857.00   \n",
       "186224           105.00              4.00      11900.00 1089796.00   \n",
       "186225           209.00             18.00       5001.00 2023533.00   \n",
       "186226           210.00             13.00      30000.00 2047655.00   \n",
       "\n",
       "                 BBL   NTA  \n",
       "0      1010430004.00  MN15  \n",
       "1      2057960167.00  BX29  \n",
       "2      1012930047.00  MN17  \n",
       "3      1012930047.00  MN17  \n",
       "4      4019480019.00  QN25  \n",
       "...              ...   ...  \n",
       "186222          1.00   NaN  \n",
       "186223 1010260037.00  MN17  \n",
       "186224 1009980015.00  MN17  \n",
       "186225 2037160036.00  BX55  \n",
       "186226 2042450020.00  BX10  \n",
       "\n",
       "[186227 rows x 26 columns]"
      ]
     },
     "execution_count": 3,
     "metadata": {},
     "output_type": "execute_result"
    }
   ],
   "source": [
    "doh_df = pd.read_csv('data/nyc_open_data/DOHMH_New_York_City_Restaurant_Inspection_Results.csv')\n",
    "doh_df"
   ]
  },
  {
   "cell_type": "markdown",
   "metadata": {},
   "source": [
    "The dataset contains 186,227 inspection results. However, when an inspection results in more than one violation, values for associated fields are repeated for each additional violation record. So let's check how many individual restaurants are in the dataset."
   ]
  },
  {
   "cell_type": "markdown",
   "metadata": {},
   "source": [
    "### Understanding NYC DOHMH Data"
   ]
  },
  {
   "cell_type": "code",
   "execution_count": 4,
   "metadata": {
    "ExecuteTime": {
     "end_time": "2022-08-02T18:10:42.671053Z",
     "start_time": "2022-08-02T18:10:42.636178Z"
    }
   },
   "outputs": [
    {
     "name": "stdout",
     "output_type": "stream",
     "text": [
      "There are 19792 unique restaurants in the dataset. \n"
     ]
    }
   ],
   "source": [
    "# How many unique restaurants are in this dataset?\n",
    "n_unique = doh_df['CAMIS'].nunique()\n",
    "print(f'There are {n_unique} unique restaurants in the dataset. ')"
   ]
  },
  {
   "cell_type": "code",
   "execution_count": 5,
   "metadata": {
    "ExecuteTime": {
     "end_time": "2022-08-02T18:10:44.863322Z",
     "start_time": "2022-08-02T18:10:44.250901Z"
    },
    "scrolled": true
   },
   "outputs": [
    {
     "name": "stdout",
     "output_type": "stream",
     "text": [
      "<class 'pandas.core.frame.DataFrame'>\n",
      "RangeIndex: 186227 entries, 0 to 186226\n",
      "Data columns (total 26 columns):\n",
      " #   Column                 Non-Null Count   Dtype  \n",
      "---  ------                 --------------   -----  \n",
      " 0   CAMIS                  186227 non-null  int64  \n",
      " 1   DBA                    186200 non-null  object \n",
      " 2   BORO                   186227 non-null  object \n",
      " 3   BUILDING               185799 non-null  object \n",
      " 4   STREET                 186227 non-null  object \n",
      " 5   ZIPCODE                183146 non-null  float64\n",
      " 6   PHONE                  186214 non-null  object \n",
      " 7   CUISINE DESCRIPTION    186226 non-null  object \n",
      " 8   INSPECTION DATE        186227 non-null  object \n",
      " 9   ACTION                 186227 non-null  object \n",
      " 10  VIOLATION CODE         185413 non-null  object \n",
      " 11  VIOLATION DESCRIPTION  185863 non-null  object \n",
      " 12  CRITICAL FLAG          186227 non-null  object \n",
      " 13  SCORE                  186227 non-null  int64  \n",
      " 14  GRADE                  67933 non-null   object \n",
      " 15  GRADE DATE             67238 non-null   object \n",
      " 16  RECORD DATE            186227 non-null  object \n",
      " 17  INSPECTION TYPE        186227 non-null  object \n",
      " 18  Latitude               186069 non-null  float64\n",
      " 19  Longitude              186069 non-null  float64\n",
      " 20  Community Board        182624 non-null  float64\n",
      " 21  Council District       182629 non-null  float64\n",
      " 22  Census Tract           182629 non-null  float64\n",
      " 23  BIN                    181803 non-null  float64\n",
      " 24  BBL                    185705 non-null  float64\n",
      " 25  NTA                    182624 non-null  object \n",
      "dtypes: float64(8), int64(2), object(16)\n",
      "memory usage: 36.9+ MB\n"
     ]
    }
   ],
   "source": [
    "# Get more information about the dataset contents\n",
    "doh_df.info()"
   ]
  },
  {
   "cell_type": "code",
   "execution_count": 6,
   "metadata": {
    "ExecuteTime": {
     "end_time": "2022-08-02T18:10:48.380921Z",
     "start_time": "2022-08-02T18:10:48.200641Z"
    }
   },
   "outputs": [
    {
     "data": {
      "text/plain": [
       "0         10019.0\n",
       "1         10463.0\n",
       "2         10022.0\n",
       "3         10022.0\n",
       "4         11368.0\n",
       "           ...   \n",
       "186222        nan\n",
       "186223    10019.0\n",
       "186224    10036.0\n",
       "186225    10472.0\n",
       "186226    10461.0\n",
       "Name: ZIPCODE, Length: 186227, dtype: object"
      ]
     },
     "execution_count": 6,
     "metadata": {},
     "output_type": "execute_result"
    }
   ],
   "source": [
    "doh_df['ZIPCODE'].astype(str)"
   ]
  },
  {
   "cell_type": "code",
   "execution_count": 7,
   "metadata": {
    "ExecuteTime": {
     "end_time": "2022-08-02T18:10:50.571412Z",
     "start_time": "2022-08-02T18:10:50.413099Z"
    }
   },
   "outputs": [
    {
     "data": {
      "text/plain": [
       "0         104.0\n",
       "1         208.0\n",
       "2         105.0\n",
       "3         105.0\n",
       "4         404.0\n",
       "          ...  \n",
       "186222      nan\n",
       "186223    105.0\n",
       "186224    105.0\n",
       "186225    209.0\n",
       "186226    210.0\n",
       "Name: Community Board, Length: 186227, dtype: object"
      ]
     },
     "execution_count": 7,
     "metadata": {},
     "output_type": "execute_result"
    }
   ],
   "source": [
    "doh_df['Community Board'].astype(str)"
   ]
  },
  {
   "cell_type": "code",
   "execution_count": 8,
   "metadata": {
    "ExecuteTime": {
     "end_time": "2022-08-02T18:10:51.114324Z",
     "start_time": "2022-08-02T18:10:50.971368Z"
    }
   },
   "outputs": [
    {
     "data": {
      "text/plain": [
       "0          3.0\n",
       "1         11.0\n",
       "2          4.0\n",
       "3          4.0\n",
       "4         21.0\n",
       "          ... \n",
       "186222     nan\n",
       "186223     4.0\n",
       "186224     4.0\n",
       "186225    18.0\n",
       "186226    13.0\n",
       "Name: Council District, Length: 186227, dtype: object"
      ]
     },
     "execution_count": 8,
     "metadata": {},
     "output_type": "execute_result"
    }
   ],
   "source": [
    "doh_df['Council District'].astype(str)"
   ]
  },
  {
   "cell_type": "code",
   "execution_count": 9,
   "metadata": {
    "ExecuteTime": {
     "end_time": "2022-08-02T18:10:52.157012Z",
     "start_time": "2022-08-02T18:10:52.000721Z"
    }
   },
   "outputs": [
    {
     "data": {
      "text/plain": [
       "0         13300.0\n",
       "1         29500.0\n",
       "2         11202.0\n",
       "3         11202.0\n",
       "4         43702.0\n",
       "           ...   \n",
       "186222        nan\n",
       "186223    13700.0\n",
       "186224    11900.0\n",
       "186225     5001.0\n",
       "186226    30000.0\n",
       "Name: Census Tract, Length: 186227, dtype: object"
      ]
     },
     "execution_count": 9,
     "metadata": {},
     "output_type": "execute_result"
    }
   ],
   "source": [
    "doh_df['Census Tract'].astype(str)"
   ]
  },
  {
   "cell_type": "markdown",
   "metadata": {},
   "source": [
    "Every row has a restaurant ID, address, date, and score. Let's ensure there aren't any duplicated rows."
   ]
  },
  {
   "cell_type": "code",
   "execution_count": 10,
   "metadata": {
    "ExecuteTime": {
     "end_time": "2022-08-02T18:10:54.291485Z",
     "start_time": "2022-08-02T18:10:53.704434Z"
    }
   },
   "outputs": [
    {
     "name": "stdout",
     "output_type": "stream",
     "text": [
      "There are 22010 duplicated rows. \n"
     ]
    }
   ],
   "source": [
    "print(f'There are {doh_df.duplicated(keep=False).sum()} duplicated rows. ')"
   ]
  },
  {
   "cell_type": "code",
   "execution_count": 11,
   "metadata": {
    "ExecuteTime": {
     "end_time": "2022-08-02T18:10:57.653287Z",
     "start_time": "2022-08-02T18:10:57.036967Z"
    }
   },
   "outputs": [],
   "source": [
    "# Let's drop these duplucated rows\n",
    "doh_df.drop_duplicates(keep='first',inplace=True)"
   ]
  },
  {
   "cell_type": "code",
   "execution_count": 12,
   "metadata": {
    "ExecuteTime": {
     "end_time": "2022-08-02T18:10:57.967642Z",
     "start_time": "2022-08-02T18:10:57.958081Z"
    }
   },
   "outputs": [
    {
     "data": {
      "text/plain": [
       "(174725, 26)"
      ]
     },
     "execution_count": 12,
     "metadata": {},
     "output_type": "execute_result"
    }
   ],
   "source": [
    "# Confirming duplicates have been removed\n",
    "doh_df.shape"
   ]
  },
  {
   "cell_type": "markdown",
   "metadata": {},
   "source": [
    "Since this project will be leveraging data publicly generated from social media a lookup value will be needed to call the API and join the tables. The Yelp API has an endpoint for Phone Search. This will allow us to pull Yelp business data for each restaurant by proivinging a telephone number. More infomration can be found in the [documentation here.](https://www.yelp.com/developers/documentation/v3/business_search_phone)"
   ]
  },
  {
   "cell_type": "code",
   "execution_count": 13,
   "metadata": {
    "ExecuteTime": {
     "end_time": "2022-08-02T18:11:00.104724Z",
     "start_time": "2022-08-02T18:11:00.088521Z"
    }
   },
   "outputs": [
    {
     "name": "stdout",
     "output_type": "stream",
     "text": [
      "There are 13 restaunts missing a telephone number.\n"
     ]
    }
   ],
   "source": [
    "# Checking that every restaunt has a phone number\n",
    "missing_num = doh_df['PHONE'].isna().sum()\n",
    "print(f'There are {missing_num} restaunts missing a telephone number.')"
   ]
  },
  {
   "cell_type": "code",
   "execution_count": 14,
   "metadata": {
    "ExecuteTime": {
     "end_time": "2022-08-02T18:11:01.967262Z",
     "start_time": "2022-08-02T18:11:01.862807Z"
    }
   },
   "outputs": [],
   "source": [
    "# Since only 13 numbers are missing, these rows can be dropped\n",
    "doh_df.dropna(subset=['PHONE'],inplace=True)"
   ]
  },
  {
   "cell_type": "code",
   "execution_count": 15,
   "metadata": {
    "ExecuteTime": {
     "end_time": "2022-08-02T18:11:02.317591Z",
     "start_time": "2022-08-02T18:11:02.300996Z"
    }
   },
   "outputs": [
    {
     "data": {
      "text/plain": [
       "0"
      ]
     },
     "execution_count": 15,
     "metadata": {},
     "output_type": "execute_result"
    }
   ],
   "source": [
    "# Confirming records were dropped\n",
    "doh_df['PHONE'].isna().sum()"
   ]
  },
  {
   "cell_type": "code",
   "execution_count": 16,
   "metadata": {
    "ExecuteTime": {
     "end_time": "2022-08-02T18:11:03.338301Z",
     "start_time": "2022-08-02T18:11:03.327854Z"
    }
   },
   "outputs": [
    {
     "name": "stdout",
     "output_type": "stream",
     "text": [
      "There are 19790 unique restaurants remaining in the dataset. \n"
     ]
    }
   ],
   "source": [
    "# How many unique restaurants are remaining?\n",
    "n_unique = doh_df['CAMIS'].nunique()\n",
    "print(f'There are {n_unique} unique restaurants remaining in the dataset. ')"
   ]
  },
  {
   "cell_type": "markdown",
   "metadata": {},
   "source": [
    "Let's explore the date range for this dataset."
   ]
  },
  {
   "cell_type": "code",
   "execution_count": 17,
   "metadata": {
    "ExecuteTime": {
     "end_time": "2022-08-02T18:11:06.223529Z",
     "start_time": "2022-08-02T18:11:05.977231Z"
    }
   },
   "outputs": [
    {
     "name": "stdout",
     "output_type": "stream",
     "text": [
      "The data ranges from 2009-05-16 00:00:00 to 2022-03-23 00:00:00\n"
     ]
    }
   ],
   "source": [
    "doh_df['INSPECTION DATE'] =  pd.to_datetime(doh_df['INSPECTION DATE'])\n",
    "begin_date = doh_df['INSPECTION DATE'].min()\n",
    "end_date = doh_df['INSPECTION DATE'].max()\n",
    "print(f'The data ranges from {begin_date} to {end_date}')"
   ]
  },
  {
   "cell_type": "markdown",
   "metadata": {},
   "source": [
    "Inspections in this dataset range from May 2009 up to March 2022."
   ]
  },
  {
   "cell_type": "markdown",
   "metadata": {},
   "source": [
    "### Target Variable -- NYCDOH Inspection Grades"
   ]
  },
  {
   "cell_type": "markdown",
   "metadata": {},
   "source": [
    "Health code violations found during an inspections carries a point value, and a restaurant’s score corresponds to a letter grade. A lower point score, leads to a better letter grade:\n",
    "\n",
    "* \"A\" grade: 0 to 13 points for sanitary violations\n",
    "* \"B\" grade: 14 to 27 points for sanitary violations\n",
    "* \"C\" grade: 28 or more points for sanitary violations"
   ]
  },
  {
   "cell_type": "code",
   "execution_count": 18,
   "metadata": {
    "ExecuteTime": {
     "end_time": "2022-08-03T21:38:18.864082Z",
     "start_time": "2022-08-03T21:38:16.437909Z"
    }
   },
   "outputs": [
    {
     "data": {
      "image/png": "[encoded data removed]",
      "text/plain": [
       "<Figure size 864x432 with 1 Axes>"
      ]
     },
     "metadata": {
      "needs_background": "light"
     },
     "output_type": "display_data"
    }
   ],
   "source": [
    "# Let see what the score distribution is\n",
    "doh_df['SCORE'].hist(bins=113, figsize=(12,6));"
   ]
  },
  {
   "cell_type": "code",
   "execution_count": 19,
   "metadata": {
    "ExecuteTime": {
     "end_time": "2022-08-03T21:38:51.217299Z",
     "start_time": "2022-08-03T21:38:51.115752Z"
    }
   },
   "outputs": [
    {
     "data": {
      "text/plain": [
       "count   174712.00\n",
       "mean        21.36\n",
       "std         14.36\n",
       "min          0.00\n",
       "25%         12.00\n",
       "50%         18.00\n",
       "75%         27.00\n",
       "max        131.00\n",
       "Name: SCORE, dtype: float64"
      ]
     },
     "execution_count": 19,
     "metadata": {},
     "output_type": "execute_result"
    }
   ],
   "source": [
    "doh_df['SCORE'].describe()"
   ]
  },
  {
   "cell_type": "markdown",
   "metadata": {},
   "source": [
    "### Engineering Target Variable"
   ]
  },
  {
   "cell_type": "markdown",
   "metadata": {},
   "source": [
    "Because the inspections dataset contains many duplicated businesses in its records, this project will group records by businesses and get a count for each for their letter grades. The target variable will be finding restaurants that have received 1 or more C Grades."
   ]
  },
  {
   "cell_type": "code",
   "execution_count": 23,
   "metadata": {
    "ExecuteTime": {
     "end_time": "2022-08-03T21:40:14.361722Z",
     "start_time": "2022-08-03T21:40:14.269272Z"
    }
   },
   "outputs": [],
   "source": [
    "# Copying to a new DateFrame\n",
    "doh_graded = doh_df.copy()"
   ]
  },
  {
   "cell_type": "code",
   "execution_count": 24,
   "metadata": {
    "ExecuteTime": {
     "end_time": "2022-08-03T21:40:52.734711Z",
     "start_time": "2022-08-03T21:40:52.699542Z"
    }
   },
   "outputs": [],
   "source": [
    "# Dropping nonrequired features\n",
    "doh_graded.drop(columns=['INSPECTION DATE', 'ACTION', 'VIOLATION CODE',\n",
    "       'VIOLATION DESCRIPTION', 'CRITICAL FLAG','GRADE',\n",
    "       'GRADE DATE', 'RECORD DATE', 'INSPECTION TYPE'],inplace=True)"
   ]
  },
  {
   "cell_type": "code",
   "execution_count": 25,
   "metadata": {
    "ExecuteTime": {
     "end_time": "2022-08-03T21:45:13.906611Z",
     "start_time": "2022-08-03T21:45:13.842191Z"
    }
   },
   "outputs": [],
   "source": [
    "# Creating new columns with NYCDOH Grades\n",
    "doh_graded['A'] = (doh_graded['SCORE'] < 14).astype(int)\n",
    "doh_graded['B'] = (doh_graded['SCORE'] > 13).astype(int) & (doh_df['SCORE'] < 28).astype(int)\n",
    "doh_graded['C'] = (doh_graded['SCORE'] > 27).astype(int)"
   ]
  },
  {
   "cell_type": "code",
   "execution_count": 29,
   "metadata": {
    "ExecuteTime": {
     "end_time": "2022-08-03T21:46:32.198434Z",
     "start_time": "2022-08-03T21:46:31.765898Z"
    }
   },
   "outputs": [],
   "source": [
    "# Creating a new DF and grouping businesses and summing their Grade counts\n",
    "doh_grouped = doh_graded.groupby(by=['CAMIS', 'DBA','CUISINE DESCRIPTION',\n",
    "                                     'BORO', 'BUILDING',\n",
    "                                     'STREET', 'ZIPCODE', 'PHONE', 'Latitude',\n",
    "                                     'Longitude', 'Community Board',\n",
    "                                     'Council District','Census Tract'],dropna=False)['A','B','C'].sum()"
   ]
  },
  {
   "cell_type": "code",
   "execution_count": 30,
   "metadata": {
    "ExecuteTime": {
     "end_time": "2022-08-03T21:46:57.481985Z",
     "start_time": "2022-08-03T21:46:57.472744Z"
    }
   },
   "outputs": [
    {
     "data": {
      "text/plain": [
       "9977"
      ]
     },
     "execution_count": 30,
     "metadata": {},
     "output_type": "execute_result"
    }
   ],
   "source": [
    "# Checking the number of businesses that have received 1 or more B Grades\n",
    "(doh_grouped['B'] > 0).sum()"
   ]
  },
  {
   "cell_type": "markdown",
   "metadata": {},
   "source": [
    "Of the 19,790 unique restaurants, 9,977 failed an initial cycle inspection at least once."
   ]
  },
  {
   "cell_type": "code",
   "execution_count": 31,
   "metadata": {
    "ExecuteTime": {
     "end_time": "2022-08-03T21:47:05.479150Z",
     "start_time": "2022-08-03T21:47:05.470930Z"
    }
   },
   "outputs": [
    {
     "data": {
      "text/plain": [
       "5648"
      ]
     },
     "execution_count": 31,
     "metadata": {},
     "output_type": "execute_result"
    }
   ],
   "source": [
    "# Checking the number of businesses that have received 1 or more C Grades\n",
    "(doh_grouped['C'] > 0).sum()"
   ]
  },
  {
   "cell_type": "markdown",
   "metadata": {},
   "source": [
    "Of the 19,790 unique restaurants, 5,648 severly failed an initial cycle inspection at least once and are at risk of being closed by the DOHMH."
   ]
  },
  {
   "cell_type": "code",
   "execution_count": 36,
   "metadata": {
    "ExecuteTime": {
     "end_time": "2022-08-03T21:49:01.167482Z",
     "start_time": "2022-08-03T21:49:01.130875Z"
    }
   },
   "outputs": [],
   "source": [
    "# Creating the Target Variable 'Severe' for Restaurants that have scored over 28 points in an initial inspection.\n",
    "doh_grouped['Severe'] = (doh_grouped['C'] > 0).astype(int)\n",
    "nyc_df = doh_grouped.reset_index()\n",
    "nyc_df.drop(['A','B','C'],axis=1, inplace=True)"
   ]
  },
  {
   "cell_type": "code",
   "execution_count": 38,
   "metadata": {
    "ExecuteTime": {
     "end_time": "2022-08-03T21:50:02.427060Z",
     "start_time": "2022-08-03T21:50:02.403235Z"
    }
   },
   "outputs": [
    {
     "data": {
      "text/html": [
       "<div>\n",
       "<style scoped>\n",
       "    .dataframe tbody tr th:only-of-type {\n",
       "        vertical-align: middle;\n",
       "    }\n",
       "\n",
       "    .dataframe tbody tr th {\n",
       "        vertical-align: top;\n",
       "    }\n",
       "\n",
       "    .dataframe thead th {\n",
       "        text-align: right;\n",
       "    }\n",
       "</style>\n",
       "<table border=\"1\" class=\"dataframe\">\n",
       "  <thead>\n",
       "    <tr style=\"text-align: right;\">\n",
       "      <th></th>\n",
       "      <th>CAMIS</th>\n",
       "      <th>DBA</th>\n",
       "      <th>CUISINE DESCRIPTION</th>\n",
       "      <th>BORO</th>\n",
       "      <th>BUILDING</th>\n",
       "      <th>STREET</th>\n",
       "      <th>ZIPCODE</th>\n",
       "      <th>PHONE</th>\n",
       "      <th>Latitude</th>\n",
       "      <th>Longitude</th>\n",
       "      <th>Community Board</th>\n",
       "      <th>Council District</th>\n",
       "      <th>Census Tract</th>\n",
       "      <th>Severe</th>\n",
       "    </tr>\n",
       "  </thead>\n",
       "  <tbody>\n",
       "    <tr>\n",
       "      <th>0</th>\n",
       "      <td>30075445</td>\n",
       "      <td>MORRIS PARK BAKE SHOP</td>\n",
       "      <td>Bakery Products/Desserts</td>\n",
       "      <td>Bronx</td>\n",
       "      <td>1007</td>\n",
       "      <td>MORRIS PARK AVENUE</td>\n",
       "      <td>10462.00</td>\n",
       "      <td>7188924968</td>\n",
       "      <td>40.85</td>\n",
       "      <td>-73.86</td>\n",
       "      <td>211.00</td>\n",
       "      <td>13.00</td>\n",
       "      <td>25200.00</td>\n",
       "      <td>0</td>\n",
       "    </tr>\n",
       "    <tr>\n",
       "      <th>1</th>\n",
       "      <td>30112340</td>\n",
       "      <td>WENDY'S</td>\n",
       "      <td>Hamburgers</td>\n",
       "      <td>Brooklyn</td>\n",
       "      <td>469</td>\n",
       "      <td>FLATBUSH AVENUE</td>\n",
       "      <td>11225.00</td>\n",
       "      <td>7182875005</td>\n",
       "      <td>40.66</td>\n",
       "      <td>-73.96</td>\n",
       "      <td>309.00</td>\n",
       "      <td>40.00</td>\n",
       "      <td>32700.00</td>\n",
       "      <td>0</td>\n",
       "    </tr>\n",
       "    <tr>\n",
       "      <th>2</th>\n",
       "      <td>30191841</td>\n",
       "      <td>DJ REYNOLDS PUB AND RESTAURANT</td>\n",
       "      <td>Irish</td>\n",
       "      <td>Manhattan</td>\n",
       "      <td>351</td>\n",
       "      <td>WEST   57 STREET</td>\n",
       "      <td>10019.00</td>\n",
       "      <td>2122452912</td>\n",
       "      <td>40.77</td>\n",
       "      <td>-73.98</td>\n",
       "      <td>104.00</td>\n",
       "      <td>3.00</td>\n",
       "      <td>13900.00</td>\n",
       "      <td>0</td>\n",
       "    </tr>\n",
       "    <tr>\n",
       "      <th>3</th>\n",
       "      <td>40356018</td>\n",
       "      <td>RIVIERA CATERERS</td>\n",
       "      <td>American</td>\n",
       "      <td>Brooklyn</td>\n",
       "      <td>2780</td>\n",
       "      <td>STILLWELL AVENUE</td>\n",
       "      <td>11224.00</td>\n",
       "      <td>7183723031</td>\n",
       "      <td>40.58</td>\n",
       "      <td>-73.98</td>\n",
       "      <td>313.00</td>\n",
       "      <td>47.00</td>\n",
       "      <td>34800.00</td>\n",
       "      <td>0</td>\n",
       "    </tr>\n",
       "    <tr>\n",
       "      <th>4</th>\n",
       "      <td>40356483</td>\n",
       "      <td>WILKEN'S FINE FOOD</td>\n",
       "      <td>Sandwiches</td>\n",
       "      <td>Brooklyn</td>\n",
       "      <td>7114</td>\n",
       "      <td>AVENUE U</td>\n",
       "      <td>11234.00</td>\n",
       "      <td>7184443838</td>\n",
       "      <td>40.62</td>\n",
       "      <td>-73.91</td>\n",
       "      <td>318.00</td>\n",
       "      <td>46.00</td>\n",
       "      <td>70000.00</td>\n",
       "      <td>0</td>\n",
       "    </tr>\n",
       "    <tr>\n",
       "      <th>...</th>\n",
       "      <td>...</td>\n",
       "      <td>...</td>\n",
       "      <td>...</td>\n",
       "      <td>...</td>\n",
       "      <td>...</td>\n",
       "      <td>...</td>\n",
       "      <td>...</td>\n",
       "      <td>...</td>\n",
       "      <td>...</td>\n",
       "      <td>...</td>\n",
       "      <td>...</td>\n",
       "      <td>...</td>\n",
       "      <td>...</td>\n",
       "      <td>...</td>\n",
       "    </tr>\n",
       "    <tr>\n",
       "      <th>19785</th>\n",
       "      <td>50115169</td>\n",
       "      <td>Sobak</td>\n",
       "      <td>Korean</td>\n",
       "      <td>Manhattan</td>\n",
       "      <td>51</td>\n",
       "      <td>CANAL STREET</td>\n",
       "      <td>10002.00</td>\n",
       "      <td>9294018597</td>\n",
       "      <td>40.71</td>\n",
       "      <td>-73.99</td>\n",
       "      <td>103.00</td>\n",
       "      <td>1.00</td>\n",
       "      <td>1600.00</td>\n",
       "      <td>0</td>\n",
       "    </tr>\n",
       "    <tr>\n",
       "      <th>19786</th>\n",
       "      <td>50116155</td>\n",
       "      <td>SEPTEMBER</td>\n",
       "      <td>Coffee/Tea</td>\n",
       "      <td>Brooklyn</td>\n",
       "      <td>83</td>\n",
       "      <td>SARATOGA AVENUE</td>\n",
       "      <td>11233.00</td>\n",
       "      <td>5086491703</td>\n",
       "      <td>40.68</td>\n",
       "      <td>-73.92</td>\n",
       "      <td>316.00</td>\n",
       "      <td>41.00</td>\n",
       "      <td>37300.00</td>\n",
       "      <td>0</td>\n",
       "    </tr>\n",
       "    <tr>\n",
       "      <th>19787</th>\n",
       "      <td>50117350</td>\n",
       "      <td>SONG TEA</td>\n",
       "      <td>Coffee/Tea</td>\n",
       "      <td>Manhattan</td>\n",
       "      <td>488</td>\n",
       "      <td>7 AVENUE</td>\n",
       "      <td>10018.00</td>\n",
       "      <td>6466697802</td>\n",
       "      <td>40.75</td>\n",
       "      <td>-73.99</td>\n",
       "      <td>105.00</td>\n",
       "      <td>3.00</td>\n",
       "      <td>10900.00</td>\n",
       "      <td>0</td>\n",
       "    </tr>\n",
       "    <tr>\n",
       "      <th>19788</th>\n",
       "      <td>50117434</td>\n",
       "      <td>LA POLLERA COLORADA</td>\n",
       "      <td>Spanish</td>\n",
       "      <td>Queens</td>\n",
       "      <td>8213</td>\n",
       "      <td>NORTHERN BLVD</td>\n",
       "      <td>11372.00</td>\n",
       "      <td>7184246531</td>\n",
       "      <td>40.76</td>\n",
       "      <td>-73.89</td>\n",
       "      <td>403.00</td>\n",
       "      <td>25.00</td>\n",
       "      <td>32700.00</td>\n",
       "      <td>1</td>\n",
       "    </tr>\n",
       "    <tr>\n",
       "      <th>19789</th>\n",
       "      <td>50117959</td>\n",
       "      <td>SOL MAYA RESTAURANT</td>\n",
       "      <td>American</td>\n",
       "      <td>Manhattan</td>\n",
       "      <td>2061</td>\n",
       "      <td>2 AVENUE</td>\n",
       "      <td>10029.00</td>\n",
       "      <td>2124106950</td>\n",
       "      <td>40.79</td>\n",
       "      <td>-73.94</td>\n",
       "      <td>111.00</td>\n",
       "      <td>8.00</td>\n",
       "      <td>17000.00</td>\n",
       "      <td>0</td>\n",
       "    </tr>\n",
       "  </tbody>\n",
       "</table>\n",
       "<p>19790 rows × 14 columns</p>\n",
       "</div>"
      ],
      "text/plain": [
       "          CAMIS                             DBA       CUISINE DESCRIPTION  \\\n",
       "0      30075445           MORRIS PARK BAKE SHOP  Bakery Products/Desserts   \n",
       "1      30112340                         WENDY'S                Hamburgers   \n",
       "2      30191841  DJ REYNOLDS PUB AND RESTAURANT                     Irish   \n",
       "3      40356018                RIVIERA CATERERS                  American   \n",
       "4      40356483              WILKEN'S FINE FOOD                Sandwiches   \n",
       "...         ...                             ...                       ...   \n",
       "19785  50115169                           Sobak                    Korean   \n",
       "19786  50116155                       SEPTEMBER                Coffee/Tea   \n",
       "19787  50117350                        SONG TEA                Coffee/Tea   \n",
       "19788  50117434             LA POLLERA COLORADA                   Spanish   \n",
       "19789  50117959             SOL MAYA RESTAURANT                  American   \n",
       "\n",
       "            BORO BUILDING              STREET  ZIPCODE       PHONE  Latitude  \\\n",
       "0          Bronx     1007  MORRIS PARK AVENUE 10462.00  7188924968     40.85   \n",
       "1       Brooklyn      469     FLATBUSH AVENUE 11225.00  7182875005     40.66   \n",
       "2      Manhattan      351    WEST   57 STREET 10019.00  2122452912     40.77   \n",
       "3       Brooklyn     2780    STILLWELL AVENUE 11224.00  7183723031     40.58   \n",
       "4       Brooklyn     7114            AVENUE U 11234.00  7184443838     40.62   \n",
       "...          ...      ...                 ...      ...         ...       ...   \n",
       "19785  Manhattan       51        CANAL STREET 10002.00  9294018597     40.71   \n",
       "19786   Brooklyn       83     SARATOGA AVENUE 11233.00  5086491703     40.68   \n",
       "19787  Manhattan      488            7 AVENUE 10018.00  6466697802     40.75   \n",
       "19788     Queens     8213       NORTHERN BLVD 11372.00  7184246531     40.76   \n",
       "19789  Manhattan     2061            2 AVENUE 10029.00  2124106950     40.79   \n",
       "\n",
       "       Longitude  Community Board  Council District  Census Tract  Severe  \n",
       "0         -73.86           211.00             13.00      25200.00       0  \n",
       "1         -73.96           309.00             40.00      32700.00       0  \n",
       "2         -73.98           104.00              3.00      13900.00       0  \n",
       "3         -73.98           313.00             47.00      34800.00       0  \n",
       "4         -73.91           318.00             46.00      70000.00       0  \n",
       "...          ...              ...               ...           ...     ...  \n",
       "19785     -73.99           103.00              1.00       1600.00       0  \n",
       "19786     -73.92           316.00             41.00      37300.00       0  \n",
       "19787     -73.99           105.00              3.00      10900.00       0  \n",
       "19788     -73.89           403.00             25.00      32700.00       1  \n",
       "19789     -73.94           111.00              8.00      17000.00       0  \n",
       "\n",
       "[19790 rows x 14 columns]"
      ]
     },
     "execution_count": 38,
     "metadata": {},
     "output_type": "execute_result"
    }
   ],
   "source": [
    "# Checking out the new DF with the engineered target variable\n",
    "nyc_df"
   ]
  },
  {
   "cell_type": "markdown",
   "metadata": {},
   "source": [
    "#### NYC DOH Data Exploration"
   ]
  },
  {
   "cell_type": "code",
   "execution_count": 39,
   "metadata": {
    "ExecuteTime": {
     "end_time": "2022-08-03T21:50:18.243211Z",
     "start_time": "2022-08-03T21:50:18.229893Z"
    }
   },
   "outputs": [
    {
     "data": {
      "text/plain": [
       "Manhattan        7892\n",
       "Brooklyn         4801\n",
       "Queens           4468\n",
       "Bronx            1920\n",
       "Staten Island     704\n",
       "0                   5\n",
       "Name: BORO, dtype: int64"
      ]
     },
     "execution_count": 39,
     "metadata": {},
     "output_type": "execute_result"
    }
   ],
   "source": [
    "nyc_df['BORO'].value_counts()"
   ]
  },
  {
   "cell_type": "code",
   "execution_count": 40,
   "metadata": {
    "ExecuteTime": {
     "end_time": "2022-08-03T21:50:21.063455Z",
     "start_time": "2022-08-03T21:50:21.053513Z"
    }
   },
   "outputs": [
    {
     "data": {
      "text/plain": [
       "American             4269\n",
       "Chinese              1716\n",
       "Coffee/Tea           1316\n",
       "Pizza                1249\n",
       "Italian               829\n",
       "                     ... \n",
       "Iranian                 3\n",
       "Fruits/Vegetables       2\n",
       "Fusion                  1\n",
       "Chilean                 1\n",
       "Basque                  1\n",
       "Name: CUISINE DESCRIPTION, Length: 84, dtype: int64"
      ]
     },
     "execution_count": 40,
     "metadata": {},
     "output_type": "execute_result"
    }
   ],
   "source": [
    "nyc_df['CUISINE DESCRIPTION'].value_counts()"
   ]
  },
  {
   "cell_type": "code",
   "execution_count": 41,
   "metadata": {
    "ExecuteTime": {
     "end_time": "2022-08-03T21:50:23.381302Z",
     "start_time": "2022-08-03T21:50:23.368431Z"
    }
   },
   "outputs": [
    {
     "data": {
      "text/plain": [
       "10019.00    513\n",
       "10036.00    469\n",
       "10003.00    463\n",
       "10001.00    367\n",
       "10022.00    359\n",
       "           ... \n",
       "10115.00      1\n",
       "10173.00      1\n",
       "10285.00      1\n",
       "10177.00      1\n",
       "10069.00      1\n",
       "Name: ZIPCODE, Length: 221, dtype: int64"
      ]
     },
     "execution_count": 41,
     "metadata": {},
     "output_type": "execute_result"
    }
   ],
   "source": [
    "nyc_df['ZIPCODE'].value_counts()"
   ]
  },
  {
   "cell_type": "markdown",
   "metadata": {},
   "source": [
    "## Obtaining Yelp Buniness and Review Data"
   ]
  },
  {
   "cell_type": "markdown",
   "metadata": {},
   "source": [
    "Now that we have an understanding of the city's inspection results and have explored that dataset it is time to pull in data from the crowd-sourced review platform Yelp."
   ]
  },
  {
   "cell_type": "code",
   "execution_count": 42,
   "metadata": {
    "ExecuteTime": {
     "end_time": "2022-08-03T21:50:32.285627Z",
     "start_time": "2022-08-03T21:50:32.278170Z"
    }
   },
   "outputs": [],
   "source": [
    "# Loading in locally stored API credentials. \n",
    "# You can sign up for access and obtain credentials to the Yelp API here: \n",
    "# https://www.yelp.com/developers/documentation/v3\n",
    "\n",
    "with open('/Users/Rob/.secret/yelp_api.json') as f:\n",
    "    creds = json.load(f)"
   ]
  },
  {
   "cell_type": "code",
   "execution_count": 43,
   "metadata": {
    "ExecuteTime": {
     "end_time": "2022-08-03T21:50:34.088058Z",
     "start_time": "2022-08-03T21:50:34.079936Z"
    }
   },
   "outputs": [
    {
     "data": {
      "text/plain": [
       "dict_keys(['api_key'])"
      ]
     },
     "execution_count": 43,
     "metadata": {},
     "output_type": "execute_result"
    }
   ],
   "source": [
    "# Checking creds were properly loaded in\n",
    "creds.keys()"
   ]
  },
  {
   "cell_type": "markdown",
   "metadata": {},
   "source": [
    "### Yelp Business Search"
   ]
  },
  {
   "cell_type": "code",
   "execution_count": 44,
   "metadata": {
    "ExecuteTime": {
     "end_time": "2022-08-03T21:50:37.067338Z",
     "start_time": "2022-08-03T21:50:37.048535Z"
    }
   },
   "outputs": [
    {
     "name": "stdout",
     "output_type": "stream",
     "text": [
      "There are 18937 unique phone numbers.\n"
     ]
    }
   ],
   "source": [
    "# Formatting phone numbers provided in the NYCDOH dataset \n",
    "nyc_df['PHONE'] = '+1'+nyc_df['PHONE']\n",
    "\n",
    "# Ensure the list contains unique phone numbers only\n",
    "phone_numbers = set(nyc_df['PHONE'])\n",
    "phone_numbers = list(phone_numbers)\n",
    "number_count = len(phone_numbers)\n",
    "print(f'There are {number_count} unique phone numbers.')"
   ]
  },
  {
   "cell_type": "markdown",
   "metadata": {},
   "source": [
    "So we will call the Yelp API at the Phone Search Endpoint for all the numbers in the `phone_numbers` list. However the API only allows 5000 callers per day so we'll slice the list into smaller list."
   ]
  },
  {
   "cell_type": "code",
   "execution_count": null,
   "metadata": {
    "ExecuteTime": {
     "end_time": "2022-05-16T21:10:36.638946Z",
     "start_time": "2022-05-16T21:10:36.634821Z"
    }
   },
   "outputs": [],
   "source": [
    "# Slicing the phone list into smaller list to fit under the API daily limit restrictions\n",
    "# phone_numbers1 = phone_numbers[1:1000]\n",
    "# phone_numbers2 = phone_numbers[1000:2000]\n",
    "# phone_numbers3 = phone_numbers[2000:2500]\n",
    "# phone_numbers4 = phone_numbers[2500:3500]\n",
    "# phone_numbers5 = phone_numbers[3500:5000]\n",
    "# phone_numbers6 = phone_numbers[5000:6000]\n",
    "# phone_numbers7 = phone_numbers[6000:7500]\n",
    "# phone_numbers8 = phone_numbers[7500:10000]\n",
    "# phone_numbers9 = phone_numbers[10000:12500]\n",
    "# phone_numbers11 = phone_numbers[15000:17500]\n",
    "# phone_numbers12 = phone_numbers[17500:20000]\n",
    "# phone_numbers9 = phone_numbers[10000:12500]\n",
    "# phone_numbers10 = phone_numbers[12500:15000]\n",
    "# phone_numbers11 = phone_numbers[15000:17500]\n",
    "# phone_numbers12 = phone_numbers[17500:19000]"
   ]
  },
  {
   "cell_type": "code",
   "execution_count": 45,
   "metadata": {
    "ExecuteTime": {
     "end_time": "2022-08-03T21:51:28.881173Z",
     "start_time": "2022-08-03T21:51:28.858370Z"
    }
   },
   "outputs": [],
   "source": [
    "#Functionizing the Yelp API Phone Search\n",
    "\n",
    "def get_businesses(phone_numbers):\n",
    "    \"\"\"Input a list of formatted phone numbers\n",
    "    (must start with + and include the country code, like +14159083801)\n",
    "    and returns a corresponding list of Yelp Businesses\"\"\"\n",
    "    \n",
    "    biz_list = []\n",
    "    \n",
    "    for number in phone_numbers:\n",
    "        url = 'https://api.yelp.com/v3/businesses/search/phone'\n",
    "        headers = {'Authorization': 'Bearer ' + creds['api_key']}\n",
    "        url_params = {'phone': number}\n",
    "        response = requests.get(url, headers=headers, params=url_params)\n",
    "        response_json = response.json()\n",
    "        biz_list.extend(response_json.get('businesses','U'))\n",
    "        \n",
    "    while 'U' in biz_list:\n",
    "        biz_list.remove('U')\n",
    "        \n",
    "    return biz_list"
   ]
  },
  {
   "cell_type": "code",
   "execution_count": 46,
   "metadata": {
    "ExecuteTime": {
     "end_time": "2022-08-03T21:51:36.065814Z",
     "start_time": "2022-08-03T21:51:36.061531Z"
    }
   },
   "outputs": [],
   "source": [
    "# Call `get_business` function\n",
    "if call_apis == True:\n",
    "    biz_list12 = get_businesses(phone_numbers12)\n",
    "    \n",
    "    # Save returned list as a DataFrame and .csv file\n",
    "    biz12_df = pd.DataFrame(biz_list12)\n",
    "    biz12_df.to_csv('data/yelp_data/yelp_business/yelp_phone12.csv',index=False)"
   ]
  },
  {
   "cell_type": "code",
   "execution_count": 47,
   "metadata": {
    "ExecuteTime": {
     "end_time": "2022-08-03T21:51:46.780776Z",
     "start_time": "2022-08-03T21:51:46.771485Z"
    }
   },
   "outputs": [],
   "source": [
    "# List of files containing Yelp business data\n",
    "fpath = 'data/yelp_data/yelp_businesses/'\n",
    "os.listdir(fpath)\n",
    "query = fpath+\"*.csv\"\n",
    "f_list = glob.glob(query)"
   ]
  },
  {
   "cell_type": "code",
   "execution_count": 48,
   "metadata": {
    "ExecuteTime": {
     "end_time": "2022-08-03T21:51:51.871147Z",
     "start_time": "2022-08-03T21:51:51.307752Z"
    }
   },
   "outputs": [],
   "source": [
    "# Append saved Yelp Business tables to a dict\n",
    "yelp_tables = {}\n",
    "\n",
    "for f in f_list:\n",
    "    temp_df = pd.read_csv(f)\n",
    "    fname = f.replace('data/yelp_data/yelp_businesses/yelp_phone','df_').replace('.csv','')\n",
    "    yelp_tables[fname] = temp_df"
   ]
  },
  {
   "cell_type": "code",
   "execution_count": 49,
   "metadata": {
    "ExecuteTime": {
     "end_time": "2022-08-03T21:51:53.338492Z",
     "start_time": "2022-08-03T21:51:53.329680Z"
    }
   },
   "outputs": [],
   "source": [
    "yelp_df_list = [t for t in list(yelp_tables.keys())]"
   ]
  },
  {
   "cell_type": "code",
   "execution_count": 50,
   "metadata": {
    "ExecuteTime": {
     "end_time": "2022-08-03T21:51:55.631065Z",
     "start_time": "2022-08-03T21:51:55.558678Z"
    }
   },
   "outputs": [
    {
     "data": {
      "text/html": [
       "<div>\n",
       "<style scoped>\n",
       "    .dataframe tbody tr th:only-of-type {\n",
       "        vertical-align: middle;\n",
       "    }\n",
       "\n",
       "    .dataframe tbody tr th {\n",
       "        vertical-align: top;\n",
       "    }\n",
       "\n",
       "    .dataframe thead th {\n",
       "        text-align: right;\n",
       "    }\n",
       "</style>\n",
       "<table border=\"1\" class=\"dataframe\">\n",
       "  <thead>\n",
       "    <tr style=\"text-align: right;\">\n",
       "      <th></th>\n",
       "      <th>id</th>\n",
       "      <th>alias</th>\n",
       "      <th>name</th>\n",
       "      <th>image_url</th>\n",
       "      <th>is_closed</th>\n",
       "      <th>url</th>\n",
       "      <th>review_count</th>\n",
       "      <th>categories</th>\n",
       "      <th>rating</th>\n",
       "      <th>coordinates</th>\n",
       "      <th>transactions</th>\n",
       "      <th>price</th>\n",
       "      <th>location</th>\n",
       "      <th>phone</th>\n",
       "      <th>display_phone</th>\n",
       "    </tr>\n",
       "  </thead>\n",
       "  <tbody>\n",
       "    <tr>\n",
       "      <th>0</th>\n",
       "      <td>RzKR9QcYP03EQ_8DxTxowg</td>\n",
       "      <td>barrio-chino-new-york</td>\n",
       "      <td>Barrio Chino</td>\n",
       "      <td>https://s3-media0.fl.yelpcdn.com/bphoto/dpaRqPZD6xqDZo2ZfOyjnQ/o.jpg</td>\n",
       "      <td>False</td>\n",
       "      <td>https://www.yelp.com/biz/barrio-chino-new-york?adjust_creative=82uXkAt1Tiw7u9_h33zr1A&amp;utm_campaign=yelp_api_v3&amp;utm_medium=api_v3_phone_search&amp;utm_source=82uXkAt1Tiw7u9_h33zr1A</td>\n",
       "      <td>1148</td>\n",
       "      <td>[{'alias': 'mexican', 'title': 'Mexican'}, {'alias': 'bars', 'title': 'Bars'}]</td>\n",
       "      <td>4.00</td>\n",
       "      <td>{'latitude': 40.718022, 'longitude': -73.990026}</td>\n",
       "      <td>['delivery', 'pickup']</td>\n",
       "      <td>$$</td>\n",
       "      <td>{'address1': '253 Broome St', 'address2': None, 'address3': '', 'city': 'New York', 'zip_code': '10002', 'country': 'US', 'state': 'NY', 'display_address': ['253 Broome St', 'New York, NY 10002']}</td>\n",
       "      <td>12122286710</td>\n",
       "      <td>(212) 228-6710</td>\n",
       "    </tr>\n",
       "    <tr>\n",
       "      <th>1</th>\n",
       "      <td>hrP3xLWJ8sLwG_XxEGq61Q</td>\n",
       "      <td>reyes-restaurant-woodside</td>\n",
       "      <td>Reyes Restaurant</td>\n",
       "      <td>https://s3-media0.fl.yelpcdn.com/bphoto/_dwQGccROJaxa-oNIxQsEg/o.jpg</td>\n",
       "      <td>False</td>\n",
       "      <td>https://www.yelp.com/biz/reyes-restaurant-woodside?adjust_creative=82uXkAt1Tiw7u9_h33zr1A&amp;utm_campaign=yelp_api_v3&amp;utm_medium=api_v3_phone_search&amp;utm_source=82uXkAt1Tiw7u9_h33zr1A</td>\n",
       "      <td>7</td>\n",
       "      <td>[{'alias': 'latin', 'title': 'Latin American'}, {'alias': 'dominican', 'title': 'Dominican'}]</td>\n",
       "      <td>4.00</td>\n",
       "      <td>{'latitude': 40.7466, 'longitude': -73.9098}</td>\n",
       "      <td>['delivery']</td>\n",
       "      <td>$</td>\n",
       "      <td>{'address1': '4754 46th St', 'address2': '', 'address3': '', 'city': 'Woodside', 'zip_code': '11377', 'country': 'US', 'state': 'NY', 'display_address': ['4754 46th St', 'Woodside, NY 11377']}</td>\n",
       "      <td>17187529577</td>\n",
       "      <td>(718) 752-9577</td>\n",
       "    </tr>\n",
       "    <tr>\n",
       "      <th>2</th>\n",
       "      <td>in7QM4vNUTHVZIi7Outetg</td>\n",
       "      <td>mcdonalds-new-york-430</td>\n",
       "      <td>McDonald's</td>\n",
       "      <td>https://s3-media0.fl.yelpcdn.com/bphoto/bNmu8D1sjwJzbxxP9ZwJOQ/o.jpg</td>\n",
       "      <td>False</td>\n",
       "      <td>https://www.yelp.com/biz/mcdonalds-new-york-430?adjust_creative=82uXkAt1Tiw7u9_h33zr1A&amp;utm_campaign=yelp_api_v3&amp;utm_medium=api_v3_phone_search&amp;utm_source=82uXkAt1Tiw7u9_h33zr1A</td>\n",
       "      <td>103</td>\n",
       "      <td>[{'alias': 'burgers', 'title': 'Burgers'}, {'alias': 'hotdogs', 'title': 'Fast Food'}, {'alias': 'coffee', 'title': 'Coffee &amp; Tea'}]</td>\n",
       "      <td>1.50</td>\n",
       "      <td>{'latitude': 40.7163213865248, 'longitude': -74.0106988300204}</td>\n",
       "      <td>['delivery']</td>\n",
       "      <td>$</td>\n",
       "      <td>{'address1': '167 Chambers St', 'address2': '', 'address3': '', 'city': 'New York', 'zip_code': '10007', 'country': 'US', 'state': 'NY', 'display_address': ['167 Chambers St', 'New York, NY 10007']}</td>\n",
       "      <td>12126082405</td>\n",
       "      <td>(212) 608-2405</td>\n",
       "    </tr>\n",
       "    <tr>\n",
       "      <th>3</th>\n",
       "      <td>F-YGKegXRG2TE-Xw1AWeCA</td>\n",
       "      <td>popeyes-louisiana-kitchen-rockaway-beach-2</td>\n",
       "      <td>Popeyes Louisiana Kitchen</td>\n",
       "      <td>https://s3-media0.fl.yelpcdn.com/bphoto/A4MR2hDN3mWefMUT7bBB2A/o.jpg</td>\n",
       "      <td>False</td>\n",
       "      <td>https://www.yelp.com/biz/popeyes-louisiana-kitchen-rockaway-beach-2?adjust_creative=82uXkAt1Tiw7u9_h33zr1A&amp;utm_campaign=yelp_api_v3&amp;utm_medium=api_v3_phone_search&amp;utm_source=82uXkAt1Tiw7u9_h33zr1A</td>\n",
       "      <td>21</td>\n",
       "      <td>[{'alias': 'hotdogs', 'title': 'Fast Food'}, {'alias': 'seafood', 'title': 'Seafood'}, {'alias': 'chicken_wings', 'title': 'Chicken Wings'}]</td>\n",
       "      <td>2.00</td>\n",
       "      <td>{'latitude': 40.587551867915515, 'longitude': -73.81088484629929}</td>\n",
       "      <td>['pickup', 'delivery']</td>\n",
       "      <td>$</td>\n",
       "      <td>{'address1': '8601 Rockaway Beach Blvd', 'address2': '', 'address3': None, 'city': 'Rockaway Beach', 'zip_code': '11693', 'country': 'US', 'state': 'NY', 'display_address': ['8601 Rockaway Beach B...</td>\n",
       "      <td>17189452815</td>\n",
       "      <td>(718) 945-2815</td>\n",
       "    </tr>\n",
       "    <tr>\n",
       "      <th>4</th>\n",
       "      <td>rYl_R-UILYqA6vYsbNwLsg</td>\n",
       "      <td>joe-coffee-company-new-york-14</td>\n",
       "      <td>Joe Coffee Company</td>\n",
       "      <td>https://s3-media0.fl.yelpcdn.com/bphoto/e-nX3g-MQAN48MDPAv2cIg/o.jpg</td>\n",
       "      <td>False</td>\n",
       "      <td>https://www.yelp.com/biz/joe-coffee-company-new-york-14?adjust_creative=82uXkAt1Tiw7u9_h33zr1A&amp;utm_campaign=yelp_api_v3&amp;utm_medium=api_v3_phone_search&amp;utm_source=82uXkAt1Tiw7u9_h33zr1A</td>\n",
       "      <td>24</td>\n",
       "      <td>[{'alias': 'coffee', 'title': 'Coffee &amp; Tea'}, {'alias': 'coffeeroasteries', 'title': 'Coffee Roasteries'}]</td>\n",
       "      <td>4.00</td>\n",
       "      <td>{'latitude': 40.7126284147746, 'longitude': -74.0128198486877}</td>\n",
       "      <td>[]</td>\n",
       "      <td>$$</td>\n",
       "      <td>{'address1': '185 Greenwich St', 'address2': 'LL3110', 'address3': None, 'city': 'New York', 'zip_code': '10007', 'country': 'US', 'state': 'NY', 'display_address': ['185 Greenwich St', 'LL3110', ...</td>\n",
       "      <td>16467661719</td>\n",
       "      <td>(646) 766-1719</td>\n",
       "    </tr>\n",
       "    <tr>\n",
       "      <th>...</th>\n",
       "      <td>...</td>\n",
       "      <td>...</td>\n",
       "      <td>...</td>\n",
       "      <td>...</td>\n",
       "      <td>...</td>\n",
       "      <td>...</td>\n",
       "      <td>...</td>\n",
       "      <td>...</td>\n",
       "      <td>...</td>\n",
       "      <td>...</td>\n",
       "      <td>...</td>\n",
       "      <td>...</td>\n",
       "      <td>...</td>\n",
       "      <td>...</td>\n",
       "      <td>...</td>\n",
       "    </tr>\n",
       "    <tr>\n",
       "      <th>17297</th>\n",
       "      <td>K_e7_aNgghFLZ2zvjFSNkQ</td>\n",
       "      <td>loreley-beer-garden-new-york-2</td>\n",
       "      <td>Loreley Beer Garden</td>\n",
       "      <td>https://s3-media0.fl.yelpcdn.com/bphoto/RHzuMs1HJjcbSjpkmJIFlg/o.jpg</td>\n",
       "      <td>False</td>\n",
       "      <td>https://www.yelp.com/biz/loreley-beer-garden-new-york-2?adjust_creative=82uXkAt1Tiw7u9_h33zr1A&amp;utm_campaign=yelp_api_v3&amp;utm_medium=api_v3_phone_search&amp;utm_source=82uXkAt1Tiw7u9_h33zr1A</td>\n",
       "      <td>814</td>\n",
       "      <td>[{'alias': 'german', 'title': 'German'}, {'alias': 'beergardens', 'title': 'Beer Gardens'}]</td>\n",
       "      <td>3.50</td>\n",
       "      <td>{'latitude': 40.7212291, 'longitude': -73.992872}</td>\n",
       "      <td>['pickup', 'delivery']</td>\n",
       "      <td>$$</td>\n",
       "      <td>{'address1': '7 Rivington St', 'address2': None, 'address3': '', 'city': 'New York', 'zip_code': '10002', 'country': 'US', 'state': 'NY', 'display_address': ['7 Rivington St', 'New York, NY 10002']}</td>\n",
       "      <td>12122537077</td>\n",
       "      <td>(212) 253-7077</td>\n",
       "    </tr>\n",
       "    <tr>\n",
       "      <th>17298</th>\n",
       "      <td>Pi-AJhThWqhb89mjHU65Nw</td>\n",
       "      <td>majestic-restaurant-bronx</td>\n",
       "      <td>Majestic restaurant</td>\n",
       "      <td>https://s3-media0.fl.yelpcdn.com/bphoto/EpUrURPt_-Cu1sWNwmJbYw/o.jpg</td>\n",
       "      <td>False</td>\n",
       "      <td>https://www.yelp.com/biz/majestic-restaurant-bronx?adjust_creative=82uXkAt1Tiw7u9_h33zr1A&amp;utm_campaign=yelp_api_v3&amp;utm_medium=api_v3_phone_search&amp;utm_source=82uXkAt1Tiw7u9_h33zr1A</td>\n",
       "      <td>17</td>\n",
       "      <td>[{'alias': 'dominican', 'title': 'Dominican'}]</td>\n",
       "      <td>3.00</td>\n",
       "      <td>{'latitude': 40.854152, 'longitude': -73.8840031}</td>\n",
       "      <td>['pickup', 'delivery']</td>\n",
       "      <td>NaN</td>\n",
       "      <td>{'address1': '709 E 187th St', 'address2': None, 'address3': '', 'city': 'bronx', 'zip_code': '10458', 'country': 'US', 'state': 'NY', 'display_address': ['709 E 187th St', 'bronx, NY 10458']}</td>\n",
       "      <td>17186180032</td>\n",
       "      <td>(718) 618-0032</td>\n",
       "    </tr>\n",
       "    <tr>\n",
       "      <th>17299</th>\n",
       "      <td>lEUzamk42G4kkVXFdhExSw</td>\n",
       "      <td>golden-sands-cafe-sheepshead-bay</td>\n",
       "      <td>Golden Sands Cafe</td>\n",
       "      <td>https://s3-media0.fl.yelpcdn.com/bphoto/vUg1wFXfMjRqLdfs8j5a_Q/o.jpg</td>\n",
       "      <td>False</td>\n",
       "      <td>https://www.yelp.com/biz/golden-sands-cafe-sheepshead-bay?adjust_creative=82uXkAt1Tiw7u9_h33zr1A&amp;utm_campaign=yelp_api_v3&amp;utm_medium=api_v3_phone_search&amp;utm_source=82uXkAt1Tiw7u9_h33zr1A</td>\n",
       "      <td>18</td>\n",
       "      <td>[{'alias': 'dimsum', 'title': 'Dim Sum'}, {'alias': 'cafes', 'title': 'Cafes'}, {'alias': 'sandwiches', 'title': 'Sandwiches'}]</td>\n",
       "      <td>3.50</td>\n",
       "      <td>{'latitude': 40.599075, 'longitude': -73.951736}</td>\n",
       "      <td>['delivery', 'pickup']</td>\n",
       "      <td>$</td>\n",
       "      <td>{'address1': '1924 Ave U', 'address2': '', 'address3': '', 'city': 'Sheepshead Bay', 'zip_code': '11229', 'country': 'US', 'state': 'NY', 'display_address': ['1924 Ave U', 'Sheepshead Bay, NY 1122...</td>\n",
       "      <td>17186488898</td>\n",
       "      <td>(718) 648-8898</td>\n",
       "    </tr>\n",
       "    <tr>\n",
       "      <th>17300</th>\n",
       "      <td>8pSdwDyx4Xu4PdYluzxtJQ</td>\n",
       "      <td>century-cafe-of-brooklyn-brooklyn</td>\n",
       "      <td>Century Cafe of Brooklyn</td>\n",
       "      <td>https://s3-media0.fl.yelpcdn.com/bphoto/c4ZHWfFEv58OFjTTznd74Q/o.jpg</td>\n",
       "      <td>True</td>\n",
       "      <td>https://www.yelp.com/biz/century-cafe-of-brooklyn-brooklyn?adjust_creative=82uXkAt1Tiw7u9_h33zr1A&amp;utm_campaign=yelp_api_v3&amp;utm_medium=api_v3_phone_search&amp;utm_source=82uXkAt1Tiw7u9_h33zr1A</td>\n",
       "      <td>9</td>\n",
       "      <td>[{'alias': 'bakeries', 'title': 'Bakeries'}, {'alias': 'coffee', 'title': 'Coffee &amp; Tea'}]</td>\n",
       "      <td>3.50</td>\n",
       "      <td>{'latitude': 40.599084, 'longitude': -73.951738}</td>\n",
       "      <td>[]</td>\n",
       "      <td>$</td>\n",
       "      <td>{'address1': '1924 Ave U', 'address2': '', 'address3': '', 'city': 'Brooklyn', 'zip_code': '11229', 'country': 'US', 'state': 'NY', 'display_address': ['1924 Ave U', 'Brooklyn, NY 11229']}</td>\n",
       "      <td>17186488898</td>\n",
       "      <td>(718) 648-8898</td>\n",
       "    </tr>\n",
       "    <tr>\n",
       "      <th>17301</th>\n",
       "      <td>boJPw2UISD67hm3Ro0kong</td>\n",
       "      <td>bobby-vans-steakhouse-new-york-10</td>\n",
       "      <td>Bobby Van's Steakhouse</td>\n",
       "      <td>https://s3-media0.fl.yelpcdn.com/bphoto/qvJpHCqvsrhQKqPnKaEzWQ/o.jpg</td>\n",
       "      <td>False</td>\n",
       "      <td>https://www.yelp.com/biz/bobby-vans-steakhouse-new-york-10?adjust_creative=82uXkAt1Tiw7u9_h33zr1A&amp;utm_campaign=yelp_api_v3&amp;utm_medium=api_v3_phone_search&amp;utm_source=82uXkAt1Tiw7u9_h33zr1A</td>\n",
       "      <td>139</td>\n",
       "      <td>[{'alias': 'steak', 'title': 'Steakhouses'}, {'alias': 'tradamerican', 'title': 'American (Traditional)'}, {'alias': 'seafood', 'title': 'Seafood'}]</td>\n",
       "      <td>3.50</td>\n",
       "      <td>{'latitude': 40.7543768198208, 'longitude': -73.9755606651306}</td>\n",
       "      <td>['pickup', 'delivery']</td>\n",
       "      <td>$$$$</td>\n",
       "      <td>{'address1': '230 Park Ave', 'address2': '', 'address3': '', 'city': 'New York', 'zip_code': '10169', 'country': 'US', 'state': 'NY', 'display_address': ['230 Park Ave', 'New York, NY 10169']}</td>\n",
       "      <td>12128675490</td>\n",
       "      <td>(212) 867-5490</td>\n",
       "    </tr>\n",
       "  </tbody>\n",
       "</table>\n",
       "<p>17302 rows × 15 columns</p>\n",
       "</div>"
      ],
      "text/plain": [
       "                           id                                       alias  \\\n",
       "0      RzKR9QcYP03EQ_8DxTxowg                       barrio-chino-new-york   \n",
       "1      hrP3xLWJ8sLwG_XxEGq61Q                   reyes-restaurant-woodside   \n",
       "2      in7QM4vNUTHVZIi7Outetg                      mcdonalds-new-york-430   \n",
       "3      F-YGKegXRG2TE-Xw1AWeCA  popeyes-louisiana-kitchen-rockaway-beach-2   \n",
       "4      rYl_R-UILYqA6vYsbNwLsg              joe-coffee-company-new-york-14   \n",
       "...                       ...                                         ...   \n",
       "17297  K_e7_aNgghFLZ2zvjFSNkQ              loreley-beer-garden-new-york-2   \n",
       "17298  Pi-AJhThWqhb89mjHU65Nw                   majestic-restaurant-bronx   \n",
       "17299  lEUzamk42G4kkVXFdhExSw            golden-sands-cafe-sheepshead-bay   \n",
       "17300  8pSdwDyx4Xu4PdYluzxtJQ           century-cafe-of-brooklyn-brooklyn   \n",
       "17301  boJPw2UISD67hm3Ro0kong           bobby-vans-steakhouse-new-york-10   \n",
       "\n",
       "                            name  \\\n",
       "0                   Barrio Chino   \n",
       "1               Reyes Restaurant   \n",
       "2                     McDonald's   \n",
       "3      Popeyes Louisiana Kitchen   \n",
       "4             Joe Coffee Company   \n",
       "...                          ...   \n",
       "17297        Loreley Beer Garden   \n",
       "17298        Majestic restaurant   \n",
       "17299          Golden Sands Cafe   \n",
       "17300   Century Cafe of Brooklyn   \n",
       "17301     Bobby Van's Steakhouse   \n",
       "\n",
       "                                                                  image_url  \\\n",
       "0      https://s3-media0.fl.yelpcdn.com/bphoto/dpaRqPZD6xqDZo2ZfOyjnQ/o.jpg   \n",
       "1      https://s3-media0.fl.yelpcdn.com/bphoto/_dwQGccROJaxa-oNIxQsEg/o.jpg   \n",
       "2      https://s3-media0.fl.yelpcdn.com/bphoto/bNmu8D1sjwJzbxxP9ZwJOQ/o.jpg   \n",
       "3      https://s3-media0.fl.yelpcdn.com/bphoto/A4MR2hDN3mWefMUT7bBB2A/o.jpg   \n",
       "4      https://s3-media0.fl.yelpcdn.com/bphoto/e-nX3g-MQAN48MDPAv2cIg/o.jpg   \n",
       "...                                                                     ...   \n",
       "17297  https://s3-media0.fl.yelpcdn.com/bphoto/RHzuMs1HJjcbSjpkmJIFlg/o.jpg   \n",
       "17298  https://s3-media0.fl.yelpcdn.com/bphoto/EpUrURPt_-Cu1sWNwmJbYw/o.jpg   \n",
       "17299  https://s3-media0.fl.yelpcdn.com/bphoto/vUg1wFXfMjRqLdfs8j5a_Q/o.jpg   \n",
       "17300  https://s3-media0.fl.yelpcdn.com/bphoto/c4ZHWfFEv58OFjTTznd74Q/o.jpg   \n",
       "17301  https://s3-media0.fl.yelpcdn.com/bphoto/qvJpHCqvsrhQKqPnKaEzWQ/o.jpg   \n",
       "\n",
       "       is_closed  \\\n",
       "0          False   \n",
       "1          False   \n",
       "2          False   \n",
       "3          False   \n",
       "4          False   \n",
       "...          ...   \n",
       "17297      False   \n",
       "17298      False   \n",
       "17299      False   \n",
       "17300       True   \n",
       "17301      False   \n",
       "\n",
       "                                                                                                                                                                                                        url  \\\n",
       "0                           https://www.yelp.com/biz/barrio-chino-new-york?adjust_creative=82uXkAt1Tiw7u9_h33zr1A&utm_campaign=yelp_api_v3&utm_medium=api_v3_phone_search&utm_source=82uXkAt1Tiw7u9_h33zr1A   \n",
       "1                       https://www.yelp.com/biz/reyes-restaurant-woodside?adjust_creative=82uXkAt1Tiw7u9_h33zr1A&utm_campaign=yelp_api_v3&utm_medium=api_v3_phone_search&utm_source=82uXkAt1Tiw7u9_h33zr1A   \n",
       "2                          https://www.yelp.com/biz/mcdonalds-new-york-430?adjust_creative=82uXkAt1Tiw7u9_h33zr1A&utm_campaign=yelp_api_v3&utm_medium=api_v3_phone_search&utm_source=82uXkAt1Tiw7u9_h33zr1A   \n",
       "3      https://www.yelp.com/biz/popeyes-louisiana-kitchen-rockaway-beach-2?adjust_creative=82uXkAt1Tiw7u9_h33zr1A&utm_campaign=yelp_api_v3&utm_medium=api_v3_phone_search&utm_source=82uXkAt1Tiw7u9_h33zr1A   \n",
       "4                  https://www.yelp.com/biz/joe-coffee-company-new-york-14?adjust_creative=82uXkAt1Tiw7u9_h33zr1A&utm_campaign=yelp_api_v3&utm_medium=api_v3_phone_search&utm_source=82uXkAt1Tiw7u9_h33zr1A   \n",
       "...                                                                                                                                                                                                     ...   \n",
       "17297              https://www.yelp.com/biz/loreley-beer-garden-new-york-2?adjust_creative=82uXkAt1Tiw7u9_h33zr1A&utm_campaign=yelp_api_v3&utm_medium=api_v3_phone_search&utm_source=82uXkAt1Tiw7u9_h33zr1A   \n",
       "17298                   https://www.yelp.com/biz/majestic-restaurant-bronx?adjust_creative=82uXkAt1Tiw7u9_h33zr1A&utm_campaign=yelp_api_v3&utm_medium=api_v3_phone_search&utm_source=82uXkAt1Tiw7u9_h33zr1A   \n",
       "17299            https://www.yelp.com/biz/golden-sands-cafe-sheepshead-bay?adjust_creative=82uXkAt1Tiw7u9_h33zr1A&utm_campaign=yelp_api_v3&utm_medium=api_v3_phone_search&utm_source=82uXkAt1Tiw7u9_h33zr1A   \n",
       "17300           https://www.yelp.com/biz/century-cafe-of-brooklyn-brooklyn?adjust_creative=82uXkAt1Tiw7u9_h33zr1A&utm_campaign=yelp_api_v3&utm_medium=api_v3_phone_search&utm_source=82uXkAt1Tiw7u9_h33zr1A   \n",
       "17301           https://www.yelp.com/biz/bobby-vans-steakhouse-new-york-10?adjust_creative=82uXkAt1Tiw7u9_h33zr1A&utm_campaign=yelp_api_v3&utm_medium=api_v3_phone_search&utm_source=82uXkAt1Tiw7u9_h33zr1A   \n",
       "\n",
       "       review_count  \\\n",
       "0              1148   \n",
       "1                 7   \n",
       "2               103   \n",
       "3                21   \n",
       "4                24   \n",
       "...             ...   \n",
       "17297           814   \n",
       "17298            17   \n",
       "17299            18   \n",
       "17300             9   \n",
       "17301           139   \n",
       "\n",
       "                                                                                                                                                 categories  \\\n",
       "0                                                                            [{'alias': 'mexican', 'title': 'Mexican'}, {'alias': 'bars', 'title': 'Bars'}]   \n",
       "1                                                             [{'alias': 'latin', 'title': 'Latin American'}, {'alias': 'dominican', 'title': 'Dominican'}]   \n",
       "2                      [{'alias': 'burgers', 'title': 'Burgers'}, {'alias': 'hotdogs', 'title': 'Fast Food'}, {'alias': 'coffee', 'title': 'Coffee & Tea'}]   \n",
       "3              [{'alias': 'hotdogs', 'title': 'Fast Food'}, {'alias': 'seafood', 'title': 'Seafood'}, {'alias': 'chicken_wings', 'title': 'Chicken Wings'}]   \n",
       "4                                               [{'alias': 'coffee', 'title': 'Coffee & Tea'}, {'alias': 'coffeeroasteries', 'title': 'Coffee Roasteries'}]   \n",
       "...                                                                                                                                                     ...   \n",
       "17297                                                           [{'alias': 'german', 'title': 'German'}, {'alias': 'beergardens', 'title': 'Beer Gardens'}]   \n",
       "17298                                                                                                        [{'alias': 'dominican', 'title': 'Dominican'}]   \n",
       "17299                       [{'alias': 'dimsum', 'title': 'Dim Sum'}, {'alias': 'cafes', 'title': 'Cafes'}, {'alias': 'sandwiches', 'title': 'Sandwiches'}]   \n",
       "17300                                                            [{'alias': 'bakeries', 'title': 'Bakeries'}, {'alias': 'coffee', 'title': 'Coffee & Tea'}]   \n",
       "17301  [{'alias': 'steak', 'title': 'Steakhouses'}, {'alias': 'tradamerican', 'title': 'American (Traditional)'}, {'alias': 'seafood', 'title': 'Seafood'}]   \n",
       "\n",
       "       rating  \\\n",
       "0        4.00   \n",
       "1        4.00   \n",
       "2        1.50   \n",
       "3        2.00   \n",
       "4        4.00   \n",
       "...       ...   \n",
       "17297    3.50   \n",
       "17298    3.00   \n",
       "17299    3.50   \n",
       "17300    3.50   \n",
       "17301    3.50   \n",
       "\n",
       "                                                             coordinates  \\\n",
       "0                       {'latitude': 40.718022, 'longitude': -73.990026}   \n",
       "1                           {'latitude': 40.7466, 'longitude': -73.9098}   \n",
       "2         {'latitude': 40.7163213865248, 'longitude': -74.0106988300204}   \n",
       "3      {'latitude': 40.587551867915515, 'longitude': -73.81088484629929}   \n",
       "4         {'latitude': 40.7126284147746, 'longitude': -74.0128198486877}   \n",
       "...                                                                  ...   \n",
       "17297                  {'latitude': 40.7212291, 'longitude': -73.992872}   \n",
       "17298                  {'latitude': 40.854152, 'longitude': -73.8840031}   \n",
       "17299                   {'latitude': 40.599075, 'longitude': -73.951736}   \n",
       "17300                   {'latitude': 40.599084, 'longitude': -73.951738}   \n",
       "17301     {'latitude': 40.7543768198208, 'longitude': -73.9755606651306}   \n",
       "\n",
       "                 transactions price  \\\n",
       "0      ['delivery', 'pickup']    $$   \n",
       "1                ['delivery']     $   \n",
       "2                ['delivery']     $   \n",
       "3      ['pickup', 'delivery']     $   \n",
       "4                          []    $$   \n",
       "...                       ...   ...   \n",
       "17297  ['pickup', 'delivery']    $$   \n",
       "17298  ['pickup', 'delivery']   NaN   \n",
       "17299  ['delivery', 'pickup']     $   \n",
       "17300                      []     $   \n",
       "17301  ['pickup', 'delivery']  $$$$   \n",
       "\n",
       "                                                                                                                                                                                                      location  \\\n",
       "0         {'address1': '253 Broome St', 'address2': None, 'address3': '', 'city': 'New York', 'zip_code': '10002', 'country': 'US', 'state': 'NY', 'display_address': ['253 Broome St', 'New York, NY 10002']}   \n",
       "1             {'address1': '4754 46th St', 'address2': '', 'address3': '', 'city': 'Woodside', 'zip_code': '11377', 'country': 'US', 'state': 'NY', 'display_address': ['4754 46th St', 'Woodside, NY 11377']}   \n",
       "2       {'address1': '167 Chambers St', 'address2': '', 'address3': '', 'city': 'New York', 'zip_code': '10007', 'country': 'US', 'state': 'NY', 'display_address': ['167 Chambers St', 'New York, NY 10007']}   \n",
       "3      {'address1': '8601 Rockaway Beach Blvd', 'address2': '', 'address3': None, 'city': 'Rockaway Beach', 'zip_code': '11693', 'country': 'US', 'state': 'NY', 'display_address': ['8601 Rockaway Beach B...   \n",
       "4      {'address1': '185 Greenwich St', 'address2': 'LL3110', 'address3': None, 'city': 'New York', 'zip_code': '10007', 'country': 'US', 'state': 'NY', 'display_address': ['185 Greenwich St', 'LL3110', ...   \n",
       "...                                                                                                                                                                                                        ...   \n",
       "17297   {'address1': '7 Rivington St', 'address2': None, 'address3': '', 'city': 'New York', 'zip_code': '10002', 'country': 'US', 'state': 'NY', 'display_address': ['7 Rivington St', 'New York, NY 10002']}   \n",
       "17298         {'address1': '709 E 187th St', 'address2': None, 'address3': '', 'city': 'bronx', 'zip_code': '10458', 'country': 'US', 'state': 'NY', 'display_address': ['709 E 187th St', 'bronx, NY 10458']}   \n",
       "17299  {'address1': '1924 Ave U', 'address2': '', 'address3': '', 'city': 'Sheepshead Bay', 'zip_code': '11229', 'country': 'US', 'state': 'NY', 'display_address': ['1924 Ave U', 'Sheepshead Bay, NY 1122...   \n",
       "17300             {'address1': '1924 Ave U', 'address2': '', 'address3': '', 'city': 'Brooklyn', 'zip_code': '11229', 'country': 'US', 'state': 'NY', 'display_address': ['1924 Ave U', 'Brooklyn, NY 11229']}   \n",
       "17301         {'address1': '230 Park Ave', 'address2': '', 'address3': '', 'city': 'New York', 'zip_code': '10169', 'country': 'US', 'state': 'NY', 'display_address': ['230 Park Ave', 'New York, NY 10169']}   \n",
       "\n",
       "             phone   display_phone  \n",
       "0      12122286710  (212) 228-6710  \n",
       "1      17187529577  (718) 752-9577  \n",
       "2      12126082405  (212) 608-2405  \n",
       "3      17189452815  (718) 945-2815  \n",
       "4      16467661719  (646) 766-1719  \n",
       "...            ...             ...  \n",
       "17297  12122537077  (212) 253-7077  \n",
       "17298  17186180032  (718) 618-0032  \n",
       "17299  17186488898  (718) 648-8898  \n",
       "17300  17186488898  (718) 648-8898  \n",
       "17301  12128675490  (212) 867-5490  \n",
       "\n",
       "[17302 rows x 15 columns]"
      ]
     },
     "execution_count": 50,
     "metadata": {},
     "output_type": "execute_result"
    }
   ],
   "source": [
    "# Concatenating all Yelp Businesses responses from the Phone Search\n",
    "yelp_businesses_df = pd.concat(yelp_tables,ignore_index=True)\n",
    "yelp_businesses_df"
   ]
  },
  {
   "cell_type": "markdown",
   "metadata": {},
   "source": [
    "#### Exploring Yelp Businesses Response Data"
   ]
  },
  {
   "cell_type": "code",
   "execution_count": 51,
   "metadata": {
    "ExecuteTime": {
     "end_time": "2022-08-03T21:52:02.238867Z",
     "start_time": "2022-08-03T21:52:02.141152Z"
    }
   },
   "outputs": [
    {
     "name": "stdout",
     "output_type": "stream",
     "text": [
      "<class 'pandas.core.frame.DataFrame'>\n",
      "RangeIndex: 17302 entries, 0 to 17301\n",
      "Data columns (total 15 columns):\n",
      " #   Column         Non-Null Count  Dtype  \n",
      "---  ------         --------------  -----  \n",
      " 0   id             17302 non-null  object \n",
      " 1   alias          17302 non-null  object \n",
      " 2   name           17302 non-null  object \n",
      " 3   image_url      16563 non-null  object \n",
      " 4   is_closed      17302 non-null  bool   \n",
      " 5   url            17302 non-null  object \n",
      " 6   review_count   17302 non-null  int64  \n",
      " 7   categories     17302 non-null  object \n",
      " 8   rating         17302 non-null  float64\n",
      " 9   coordinates    17302 non-null  object \n",
      " 10  transactions   17302 non-null  object \n",
      " 11  price          14501 non-null  object \n",
      " 12  location       17302 non-null  object \n",
      " 13  phone          17302 non-null  int64  \n",
      " 14  display_phone  17302 non-null  object \n",
      "dtypes: bool(1), float64(1), int64(2), object(11)\n",
      "memory usage: 1.9+ MB\n"
     ]
    }
   ],
   "source": [
    "yelp_businesses_df.info()"
   ]
  },
  {
   "cell_type": "code",
   "execution_count": 52,
   "metadata": {
    "ExecuteTime": {
     "end_time": "2022-08-03T21:52:05.625185Z",
     "start_time": "2022-08-03T21:52:05.606627Z"
    }
   },
   "outputs": [
    {
     "data": {
      "text/plain": [
       "$$     0.53\n",
       "$      0.37\n",
       "$$$    0.07\n",
       "$$$$   0.02\n",
       "Name: price, dtype: float64"
      ]
     },
     "execution_count": 52,
     "metadata": {},
     "output_type": "execute_result"
    }
   ],
   "source": [
    "yelp_businesses_df['price'].value_counts(normalize=True)"
   ]
  },
  {
   "cell_type": "code",
   "execution_count": 53,
   "metadata": {
    "ExecuteTime": {
     "end_time": "2022-08-03T21:52:10.047302Z",
     "start_time": "2022-08-03T21:52:10.037926Z"
    }
   },
   "outputs": [
    {
     "data": {
      "text/plain": [
       "4.00   0.30\n",
       "3.50   0.25\n",
       "3.00   0.14\n",
       "4.50   0.12\n",
       "2.50   0.08\n",
       "2.00   0.04\n",
       "5.00   0.03\n",
       "1.50   0.02\n",
       "1.00   0.01\n",
       "Name: rating, dtype: float64"
      ]
     },
     "execution_count": 53,
     "metadata": {},
     "output_type": "execute_result"
    }
   ],
   "source": [
    "yelp_businesses_df['rating'].value_counts(normalize=True)"
   ]
  },
  {
   "cell_type": "code",
   "execution_count": 54,
   "metadata": {
    "ExecuteTime": {
     "end_time": "2022-08-03T21:52:11.492326Z",
     "start_time": "2022-08-03T21:52:11.477585Z"
    }
   },
   "outputs": [
    {
     "data": {
      "text/plain": [
       "[{'alias': 'chinese', 'title': 'Chinese'}]                                                                                                  0.05\n",
       "[{'alias': 'pizza', 'title': 'Pizza'}]                                                                                                      0.04\n",
       "[{'alias': 'coffee', 'title': 'Coffee & Tea'}]                                                                                              0.02\n",
       "[{'alias': 'mexican', 'title': 'Mexican'}]                                                                                                  0.02\n",
       "[{'alias': 'italian', 'title': 'Italian'}]                                                                                                  0.02\n",
       "                                                                                                                                            ... \n",
       "[{'alias': 'bakeries', 'title': 'Bakeries'}, {'alias': 'gourmet', 'title': 'Specialty Food'}, {'alias': 'desserts', 'title': 'Desserts'}]   0.00\n",
       "[{'alias': 'mexican', 'title': 'Mexican'}, {'alias': 'bars', 'title': 'Bars'}, {'alias': 'venues', 'title': 'Venues & Event Spaces'}]       0.00\n",
       "[{'alias': 'pizza', 'title': 'Pizza'}, {'alias': 'breakfast_brunch', 'title': 'Breakfast & Brunch'}]                                        0.00\n",
       "[{'alias': 'pubs', 'title': 'Pubs'}, {'alias': 'restaurants', 'title': 'Restaurants'}]                                                      0.00\n",
       "[{'alias': 'dimsum', 'title': 'Dim Sum'}, {'alias': 'cafes', 'title': 'Cafes'}, {'alias': 'sandwiches', 'title': 'Sandwiches'}]             0.00\n",
       "Name: categories, Length: 4277, dtype: float64"
      ]
     },
     "execution_count": 54,
     "metadata": {},
     "output_type": "execute_result"
    }
   ],
   "source": [
    "yelp_businesses_df['categories'].value_counts(normalize=True)"
   ]
  },
  {
   "cell_type": "code",
   "execution_count": 55,
   "metadata": {
    "ExecuteTime": {
     "end_time": "2022-08-03T21:52:18.176693Z",
     "start_time": "2022-08-03T21:52:18.113893Z"
    }
   },
   "outputs": [
    {
     "data": {
      "text/plain": [
       "id               8474\n",
       "alias            8474\n",
       "name             8474\n",
       "image_url        8123\n",
       "is_closed        8474\n",
       "url              8474\n",
       "review_count     8474\n",
       "categories       8474\n",
       "rating           8474\n",
       "coordinates      8474\n",
       "transactions     8474\n",
       "price            7109\n",
       "location         8474\n",
       "phone            8474\n",
       "display_phone    8474\n",
       "dtype: int64"
      ]
     },
     "execution_count": 55,
     "metadata": {},
     "output_type": "execute_result"
    }
   ],
   "source": [
    "# Duplicates?\n",
    "yelp_businesses_df[yelp_businesses_df.duplicated(['id'], keep=False)].count()"
   ]
  },
  {
   "cell_type": "code",
   "execution_count": 56,
   "metadata": {
    "ExecuteTime": {
     "end_time": "2022-08-03T21:52:21.590454Z",
     "start_time": "2022-08-03T21:52:21.556740Z"
    }
   },
   "outputs": [
    {
     "data": {
      "text/html": [
       "<div>\n",
       "<style scoped>\n",
       "    .dataframe tbody tr th:only-of-type {\n",
       "        vertical-align: middle;\n",
       "    }\n",
       "\n",
       "    .dataframe tbody tr th {\n",
       "        vertical-align: top;\n",
       "    }\n",
       "\n",
       "    .dataframe thead th {\n",
       "        text-align: right;\n",
       "    }\n",
       "</style>\n",
       "<table border=\"1\" class=\"dataframe\">\n",
       "  <thead>\n",
       "    <tr style=\"text-align: right;\">\n",
       "      <th></th>\n",
       "      <th>review_count</th>\n",
       "      <th>rating</th>\n",
       "      <th>phone</th>\n",
       "    </tr>\n",
       "  </thead>\n",
       "  <tbody>\n",
       "    <tr>\n",
       "      <th>count</th>\n",
       "      <td>17302.00</td>\n",
       "      <td>17302.00</td>\n",
       "      <td>17302.00</td>\n",
       "    </tr>\n",
       "    <tr>\n",
       "      <th>mean</th>\n",
       "      <td>189.46</td>\n",
       "      <td>3.53</td>\n",
       "      <td>15227799712.25</td>\n",
       "    </tr>\n",
       "    <tr>\n",
       "      <th>std</th>\n",
       "      <td>378.43</td>\n",
       "      <td>0.79</td>\n",
       "      <td>2494930771.02</td>\n",
       "    </tr>\n",
       "    <tr>\n",
       "      <th>min</th>\n",
       "      <td>1.00</td>\n",
       "      <td>1.00</td>\n",
       "      <td>12062250663.00</td>\n",
       "    </tr>\n",
       "    <tr>\n",
       "      <th>25%</th>\n",
       "      <td>17.00</td>\n",
       "      <td>3.00</td>\n",
       "      <td>12127498940.50</td>\n",
       "    </tr>\n",
       "    <tr>\n",
       "      <th>50%</th>\n",
       "      <td>67.00</td>\n",
       "      <td>3.50</td>\n",
       "      <td>17182416042.00</td>\n",
       "    </tr>\n",
       "    <tr>\n",
       "      <th>75%</th>\n",
       "      <td>209.00</td>\n",
       "      <td>4.00</td>\n",
       "      <td>17186241444.00</td>\n",
       "    </tr>\n",
       "    <tr>\n",
       "      <th>max</th>\n",
       "      <td>13458.00</td>\n",
       "      <td>5.00</td>\n",
       "      <td>19732238527.00</td>\n",
       "    </tr>\n",
       "  </tbody>\n",
       "</table>\n",
       "</div>"
      ],
      "text/plain": [
       "       review_count   rating          phone\n",
       "count      17302.00 17302.00       17302.00\n",
       "mean         189.46     3.53 15227799712.25\n",
       "std          378.43     0.79  2494930771.02\n",
       "min            1.00     1.00 12062250663.00\n",
       "25%           17.00     3.00 12127498940.50\n",
       "50%           67.00     3.50 17182416042.00\n",
       "75%          209.00     4.00 17186241444.00\n",
       "max        13458.00     5.00 19732238527.00"
      ]
     },
     "execution_count": 56,
     "metadata": {},
     "output_type": "execute_result"
    }
   ],
   "source": [
    "yelp_businesses_df.describe()"
   ]
  },
  {
   "cell_type": "code",
   "execution_count": 57,
   "metadata": {
    "ExecuteTime": {
     "end_time": "2022-08-03T21:52:24.436644Z",
     "start_time": "2022-08-03T21:52:24.426729Z"
    }
   },
   "outputs": [
    {
     "data": {
      "text/plain": [
       "3278066"
      ]
     },
     "execution_count": 57,
     "metadata": {},
     "output_type": "execute_result"
    }
   ],
   "source": [
    "yelp_businesses_df['review_count'].sum()"
   ]
  },
  {
   "cell_type": "markdown",
   "metadata": {},
   "source": [
    "### Yelp Reviews"
   ]
  },
  {
   "cell_type": "markdown",
   "metadata": {},
   "source": [
    "Now that all the restaurants from the NYC DOHMH dataset have been used to search the Yelp API and have been concatenated we can use the return url to gather reviews for each business."
   ]
  },
  {
   "cell_type": "code",
   "execution_count": null,
   "metadata": {
    "ExecuteTime": {
     "end_time": "2022-05-16T21:10:56.175141Z",
     "start_time": "2022-05-16T21:10:56.171856Z"
    }
   },
   "outputs": [],
   "source": [
    "# OLD from webscraping\n",
    "# df_10_2 = df_10.loc[1000:2173]\n",
    "# df_10_2.to_csv('df_10_2',index=False)"
   ]
  },
  {
   "cell_type": "code",
   "execution_count": 58,
   "metadata": {
    "ExecuteTime": {
     "end_time": "2022-08-03T21:52:43.921773Z",
     "start_time": "2022-08-03T21:52:43.905380Z"
    }
   },
   "outputs": [],
   "source": [
    "def get_text(url_list):\n",
    "    \"\"\" Given a list of urls, this function will iterate through the list and \n",
    "    extract text from the first page of reviews. The data will be joined into \n",
    "    a corpus for each business\"\"\"\n",
    "    \n",
    "    review_txt = []\n",
    "\n",
    "    for url in url_list:\n",
    "        req = requests.get(url,allow_redirects=False)\n",
    "        soup = bs(req.content)\n",
    "        comments = soup.find_all(class_='raw__09f24__T4Ezm', lang=\"en\")\n",
    "        comment_txt = []\n",
    "\n",
    "        for comment in comments:\n",
    "            comment_txt.append(comment.text)\n",
    "\n",
    "        comment_corp = ('.'.join(comment_txt))\n",
    "        review_txt.append(comment_corp)\n",
    "    return review_txt"
   ]
  },
  {
   "cell_type": "markdown",
   "metadata": {},
   "source": [
    "Due to the time required to run this function, it can be broken into smaller requests. Since we already have smaller list used when we called the API earlier we can take the urls returned from the API here. "
   ]
  },
  {
   "cell_type": "code",
   "execution_count": 59,
   "metadata": {
    "ExecuteTime": {
     "end_time": "2022-08-03T21:52:55.224951Z",
     "start_time": "2022-08-03T21:52:55.217061Z"
    }
   },
   "outputs": [
    {
     "data": {
      "text/plain": [
       "859"
      ]
     },
     "execution_count": 59,
     "metadata": {},
     "output_type": "execute_result"
    }
   ],
   "source": [
    "# Obtaining list of yelp business urls from saved API response\n",
    "url_list = list(yelp_tables['df_1']['url'])\n",
    "len(url_list)"
   ]
  },
  {
   "cell_type": "code",
   "execution_count": 60,
   "metadata": {
    "ExecuteTime": {
     "end_time": "2022-08-03T21:52:58.633958Z",
     "start_time": "2022-08-03T21:52:58.626628Z"
    }
   },
   "outputs": [],
   "source": [
    "# Calling `get_text` function to obtain Yelp reviews\n",
    "if call_apis == True:\n",
    "    review_text = get_text(url_list)"
   ]
  },
  {
   "cell_type": "code",
   "execution_count": 61,
   "metadata": {
    "ExecuteTime": {
     "end_time": "2022-08-03T21:53:00.776406Z",
     "start_time": "2022-08-03T21:53:00.763703Z"
    }
   },
   "outputs": [],
   "source": [
    "# Saving the Reviews to a csv in the repository\n",
    "if call_apis == True:\n",
    "    rvw_txt = pd.DataFrame(review_text,columns=['Review_Text'])\n",
    "    rvw_txt.to_csv('rvw_txt1.csv',index=False)\n"
   ]
  },
  {
   "cell_type": "markdown",
   "metadata": {},
   "source": [
    "Repeat this for all the urls returned from the API"
   ]
  },
  {
   "cell_type": "markdown",
   "metadata": {},
   "source": [
    "### Joining Yelp Reviews to Yelp Business Tables"
   ]
  },
  {
   "cell_type": "code",
   "execution_count": 62,
   "metadata": {
    "ExecuteTime": {
     "end_time": "2022-08-03T21:53:08.955598Z",
     "start_time": "2022-08-03T21:53:08.948202Z"
    }
   },
   "outputs": [],
   "source": [
    "# List of files containing Yelp business data\n",
    "fpath = 'data/yelp_data/yelp_reviews/'\n",
    "os.listdir(fpath)\n",
    "query = fpath+\"*.csv\"\n",
    "f_list = glob.glob(query)"
   ]
  },
  {
   "cell_type": "code",
   "execution_count": 63,
   "metadata": {
    "ExecuteTime": {
     "end_time": "2022-08-03T21:53:12.986175Z",
     "start_time": "2022-08-03T21:53:11.249463Z"
    }
   },
   "outputs": [],
   "source": [
    "# Append saved Yelp Reviews to a dict\n",
    "rvw_tables = {}\n",
    "\n",
    "for file in f_list:\n",
    "    temp_df = pd.read_csv(file)\n",
    "    fname = file.replace('data/yelp_data/yelp_reviews/rvw_txt','txt_').replace('.csv','')\n",
    "    rvw_tables[fname] = temp_df"
   ]
  },
  {
   "cell_type": "code",
   "execution_count": 64,
   "metadata": {
    "ExecuteTime": {
     "end_time": "2022-08-03T21:53:14.651703Z",
     "start_time": "2022-08-03T21:53:14.646040Z"
    }
   },
   "outputs": [],
   "source": [
    "rvw_df_list = [t for t in list(rvw_tables.keys())]"
   ]
  },
  {
   "cell_type": "code",
   "execution_count": 65,
   "metadata": {
    "ExecuteTime": {
     "end_time": "2022-08-03T21:53:16.127265Z",
     "start_time": "2022-08-03T21:53:16.041015Z"
    }
   },
   "outputs": [],
   "source": [
    "rvw1 = pd.read_csv('data/yelp_data/yelp_reviews/rvw_txt1.csv')"
   ]
  },
  {
   "cell_type": "code",
   "execution_count": 66,
   "metadata": {
    "ExecuteTime": {
     "end_time": "2022-08-03T21:53:19.098971Z",
     "start_time": "2022-08-03T21:53:19.092656Z"
    }
   },
   "outputs": [
    {
     "data": {
      "text/plain": [
       "dict_keys(['df_8', 'df_9', 'df_1', 'df_2', 'df_3', 'df_11', 'df_7', 'df_6', 'df_10', 'df_12', 'df_4', 'df_5'])"
      ]
     },
     "execution_count": 66,
     "metadata": {},
     "output_type": "execute_result"
    }
   ],
   "source": [
    "yelp_tables.keys()"
   ]
  },
  {
   "cell_type": "code",
   "execution_count": 67,
   "metadata": {
    "ExecuteTime": {
     "end_time": "2022-08-03T21:53:21.317192Z",
     "start_time": "2022-08-03T21:53:21.310121Z"
    }
   },
   "outputs": [
    {
     "data": {
      "text/plain": [
       "dict_keys(['txt_11', 'txt_10', 'txt_12', 'txt_2', 'txt_3', 'txt_1', 'txt_4', 'txt_5', 'txt_7', 'txt_6', 'txt_8', 'txt_9'])"
      ]
     },
     "execution_count": 67,
     "metadata": {},
     "output_type": "execute_result"
    }
   ],
   "source": [
    "rvw_tables.keys()"
   ]
  },
  {
   "cell_type": "code",
   "execution_count": 68,
   "metadata": {
    "ExecuteTime": {
     "end_time": "2022-08-03T21:53:22.388404Z",
     "start_time": "2022-08-03T21:53:22.366676Z"
    }
   },
   "outputs": [],
   "source": [
    "# Adding review text to the Yelp Business tables\n",
    "yelp_tables['df_1']['Reviews'] =  rvw_tables['txt_1']\n",
    "yelp_tables['df_2']['Reviews'] =  rvw_tables['txt_2']\n",
    "yelp_tables['df_3']['Reviews'] =  rvw_tables['txt_3']\n",
    "yelp_tables['df_4']['Reviews'] =  rvw_tables['txt_4']\n",
    "yelp_tables['df_5']['Reviews'] =  rvw_tables['txt_5']\n",
    "yelp_tables['df_6']['Reviews'] =  rvw_tables['txt_6']\n",
    "yelp_tables['df_7']['Reviews'] =  rvw_tables['txt_7']\n",
    "yelp_tables['df_8']['Reviews'] =  rvw_tables['txt_8']\n",
    "yelp_tables['df_9']['Reviews'] =  rvw_tables['txt_9']\n",
    "yelp_tables['df_10']['Reviews'] =  rvw_tables['txt_10']\n",
    "yelp_tables['df_11']['Reviews'] =  rvw_tables['txt_11']\n",
    "yelp_tables['df_12']['Reviews'] =  rvw_tables['txt_12']"
   ]
  },
  {
   "cell_type": "code",
   "execution_count": 69,
   "metadata": {
    "ExecuteTime": {
     "end_time": "2022-08-03T21:53:24.099917Z",
     "start_time": "2022-08-03T21:53:24.058318Z"
    }
   },
   "outputs": [
    {
     "data": {
      "text/html": [
       "<div>\n",
       "<style scoped>\n",
       "    .dataframe tbody tr th:only-of-type {\n",
       "        vertical-align: middle;\n",
       "    }\n",
       "\n",
       "    .dataframe tbody tr th {\n",
       "        vertical-align: top;\n",
       "    }\n",
       "\n",
       "    .dataframe thead th {\n",
       "        text-align: right;\n",
       "    }\n",
       "</style>\n",
       "<table border=\"1\" class=\"dataframe\">\n",
       "  <thead>\n",
       "    <tr style=\"text-align: right;\">\n",
       "      <th></th>\n",
       "      <th>id</th>\n",
       "      <th>alias</th>\n",
       "      <th>name</th>\n",
       "      <th>image_url</th>\n",
       "      <th>is_closed</th>\n",
       "      <th>url</th>\n",
       "      <th>review_count</th>\n",
       "      <th>categories</th>\n",
       "      <th>rating</th>\n",
       "      <th>coordinates</th>\n",
       "      <th>transactions</th>\n",
       "      <th>price</th>\n",
       "      <th>location</th>\n",
       "      <th>phone</th>\n",
       "      <th>display_phone</th>\n",
       "      <th>Reviews</th>\n",
       "    </tr>\n",
       "  </thead>\n",
       "  <tbody>\n",
       "    <tr>\n",
       "      <th>0</th>\n",
       "      <td>RzKR9QcYP03EQ_8DxTxowg</td>\n",
       "      <td>barrio-chino-new-york</td>\n",
       "      <td>Barrio Chino</td>\n",
       "      <td>https://s3-media0.fl.yelpcdn.com/bphoto/dpaRqPZD6xqDZo2ZfOyjnQ/o.jpg</td>\n",
       "      <td>False</td>\n",
       "      <td>https://www.yelp.com/biz/barrio-chino-new-york?adjust_creative=82uXkAt1Tiw7u9_h33zr1A&amp;utm_campaign=yelp_api_v3&amp;utm_medium=api_v3_phone_search&amp;utm_source=82uXkAt1Tiw7u9_h33zr1A</td>\n",
       "      <td>1148</td>\n",
       "      <td>[{'alias': 'mexican', 'title': 'Mexican'}, {'alias': 'bars', 'title': 'Bars'}]</td>\n",
       "      <td>4.00</td>\n",
       "      <td>{'latitude': 40.718022, 'longitude': -73.990026}</td>\n",
       "      <td>['delivery', 'pickup']</td>\n",
       "      <td>$$</td>\n",
       "      <td>{'address1': '253 Broome St', 'address2': None, 'address3': '', 'city': 'New York', 'zip_code': '10002', 'country': 'US', 'state': 'NY', 'display_address': ['253 Broome St', 'New York, NY 10002']}</td>\n",
       "      <td>12122286710</td>\n",
       "      <td>(212) 228-6710</td>\n",
       "      <td>My sister has gone here a bunch of times and I finally went. I am truly mad at myself for not going sooner. We were seated without a reservation around 7 on a Tuesday. Service was superb. Water gl...</td>\n",
       "    </tr>\n",
       "    <tr>\n",
       "      <th>1</th>\n",
       "      <td>hrP3xLWJ8sLwG_XxEGq61Q</td>\n",
       "      <td>reyes-restaurant-woodside</td>\n",
       "      <td>Reyes Restaurant</td>\n",
       "      <td>https://s3-media0.fl.yelpcdn.com/bphoto/_dwQGccROJaxa-oNIxQsEg/o.jpg</td>\n",
       "      <td>False</td>\n",
       "      <td>https://www.yelp.com/biz/reyes-restaurant-woodside?adjust_creative=82uXkAt1Tiw7u9_h33zr1A&amp;utm_campaign=yelp_api_v3&amp;utm_medium=api_v3_phone_search&amp;utm_source=82uXkAt1Tiw7u9_h33zr1A</td>\n",
       "      <td>7</td>\n",
       "      <td>[{'alias': 'latin', 'title': 'Latin American'}, {'alias': 'dominican', 'title': 'Dominican'}]</td>\n",
       "      <td>4.00</td>\n",
       "      <td>{'latitude': 40.7466, 'longitude': -73.9098}</td>\n",
       "      <td>['delivery']</td>\n",
       "      <td>$</td>\n",
       "      <td>{'address1': '4754 46th St', 'address2': '', 'address3': '', 'city': 'Woodside', 'zip_code': '11377', 'country': 'US', 'state': 'NY', 'display_address': ['4754 46th St', 'Woodside, NY 11377']}</td>\n",
       "      <td>17187529577</td>\n",
       "      <td>(718) 752-9577</td>\n",
       "      <td>Good food served by good people. Love the mangu with everything, it's my go-to order..I was super happy to find out that there was a Dominican restaurant in my neighborhood. I came on a Saturday a...</td>\n",
       "    </tr>\n",
       "    <tr>\n",
       "      <th>2</th>\n",
       "      <td>in7QM4vNUTHVZIi7Outetg</td>\n",
       "      <td>mcdonalds-new-york-430</td>\n",
       "      <td>McDonald's</td>\n",
       "      <td>https://s3-media0.fl.yelpcdn.com/bphoto/bNmu8D1sjwJzbxxP9ZwJOQ/o.jpg</td>\n",
       "      <td>False</td>\n",
       "      <td>https://www.yelp.com/biz/mcdonalds-new-york-430?adjust_creative=82uXkAt1Tiw7u9_h33zr1A&amp;utm_campaign=yelp_api_v3&amp;utm_medium=api_v3_phone_search&amp;utm_source=82uXkAt1Tiw7u9_h33zr1A</td>\n",
       "      <td>103</td>\n",
       "      <td>[{'alias': 'burgers', 'title': 'Burgers'}, {'alias': 'hotdogs', 'title': 'Fast Food'}, {'alias': 'coffee', 'title': 'Coffee &amp; Tea'}]</td>\n",
       "      <td>1.50</td>\n",
       "      <td>{'latitude': 40.7163213865248, 'longitude': -74.0106988300204}</td>\n",
       "      <td>['delivery']</td>\n",
       "      <td>$</td>\n",
       "      <td>{'address1': '167 Chambers St', 'address2': '', 'address3': '', 'city': 'New York', 'zip_code': '10007', 'country': 'US', 'state': 'NY', 'display_address': ['167 Chambers St', 'New York, NY 10007']}</td>\n",
       "      <td>12126082405</td>\n",
       "      <td>(212) 608-2405</td>\n",
       "      <td>I love McDonalds breakfast but of the 6 times I've been here recently, this is the 2nd time they forget my hash brown and today I found a hair on my egg. I used to frequent this McDonalds in the p...</td>\n",
       "    </tr>\n",
       "    <tr>\n",
       "      <th>3</th>\n",
       "      <td>F-YGKegXRG2TE-Xw1AWeCA</td>\n",
       "      <td>popeyes-louisiana-kitchen-rockaway-beach-2</td>\n",
       "      <td>Popeyes Louisiana Kitchen</td>\n",
       "      <td>https://s3-media0.fl.yelpcdn.com/bphoto/A4MR2hDN3mWefMUT7bBB2A/o.jpg</td>\n",
       "      <td>False</td>\n",
       "      <td>https://www.yelp.com/biz/popeyes-louisiana-kitchen-rockaway-beach-2?adjust_creative=82uXkAt1Tiw7u9_h33zr1A&amp;utm_campaign=yelp_api_v3&amp;utm_medium=api_v3_phone_search&amp;utm_source=82uXkAt1Tiw7u9_h33zr1A</td>\n",
       "      <td>21</td>\n",
       "      <td>[{'alias': 'hotdogs', 'title': 'Fast Food'}, {'alias': 'seafood', 'title': 'Seafood'}, {'alias': 'chicken_wings', 'title': 'Chicken Wings'}]</td>\n",
       "      <td>2.00</td>\n",
       "      <td>{'latitude': 40.587551867915515, 'longitude': -73.81088484629929}</td>\n",
       "      <td>['pickup', 'delivery']</td>\n",
       "      <td>$</td>\n",
       "      <td>{'address1': '8601 Rockaway Beach Blvd', 'address2': '', 'address3': None, 'city': 'Rockaway Beach', 'zip_code': '11693', 'country': 'US', 'state': 'NY', 'display_address': ['8601 Rockaway Beach B...</td>\n",
       "      <td>17189452815</td>\n",
       "      <td>(718) 945-2815</td>\n",
       "      <td>The app was messed up &amp; I called &amp; spoke to this wonderful worker Tiffany! She was able to allow me to change my soda since their was no other option. She also allowed me to add ketchup to the ord...</td>\n",
       "    </tr>\n",
       "    <tr>\n",
       "      <th>4</th>\n",
       "      <td>rYl_R-UILYqA6vYsbNwLsg</td>\n",
       "      <td>joe-coffee-company-new-york-14</td>\n",
       "      <td>Joe Coffee Company</td>\n",
       "      <td>https://s3-media0.fl.yelpcdn.com/bphoto/e-nX3g-MQAN48MDPAv2cIg/o.jpg</td>\n",
       "      <td>False</td>\n",
       "      <td>https://www.yelp.com/biz/joe-coffee-company-new-york-14?adjust_creative=82uXkAt1Tiw7u9_h33zr1A&amp;utm_campaign=yelp_api_v3&amp;utm_medium=api_v3_phone_search&amp;utm_source=82uXkAt1Tiw7u9_h33zr1A</td>\n",
       "      <td>24</td>\n",
       "      <td>[{'alias': 'coffee', 'title': 'Coffee &amp; Tea'}, {'alias': 'coffeeroasteries', 'title': 'Coffee Roasteries'}]</td>\n",
       "      <td>4.00</td>\n",
       "      <td>{'latitude': 40.7126284147746, 'longitude': -74.0128198486877}</td>\n",
       "      <td>[]</td>\n",
       "      <td>$$</td>\n",
       "      <td>{'address1': '185 Greenwich St', 'address2': 'LL3110', 'address3': None, 'city': 'New York', 'zip_code': '10007', 'country': 'US', 'state': 'NY', 'display_address': ['185 Greenwich St', 'LL3110', ...</td>\n",
       "      <td>16467661719</td>\n",
       "      <td>(646) 766-1719</td>\n",
       "      <td>This is inside the Oculus. I just wanted a cappuccino, dry. The barista certainly knew how to make the perfect cup!Staff is friendly. The place was clean..STAY AT HOME, EVERYONE. FLATTEN THE CURVE...</td>\n",
       "    </tr>\n",
       "    <tr>\n",
       "      <th>...</th>\n",
       "      <td>...</td>\n",
       "      <td>...</td>\n",
       "      <td>...</td>\n",
       "      <td>...</td>\n",
       "      <td>...</td>\n",
       "      <td>...</td>\n",
       "      <td>...</td>\n",
       "      <td>...</td>\n",
       "      <td>...</td>\n",
       "      <td>...</td>\n",
       "      <td>...</td>\n",
       "      <td>...</td>\n",
       "      <td>...</td>\n",
       "      <td>...</td>\n",
       "      <td>...</td>\n",
       "      <td>...</td>\n",
       "    </tr>\n",
       "    <tr>\n",
       "      <th>17297</th>\n",
       "      <td>K_e7_aNgghFLZ2zvjFSNkQ</td>\n",
       "      <td>loreley-beer-garden-new-york-2</td>\n",
       "      <td>Loreley Beer Garden</td>\n",
       "      <td>https://s3-media0.fl.yelpcdn.com/bphoto/RHzuMs1HJjcbSjpkmJIFlg/o.jpg</td>\n",
       "      <td>False</td>\n",
       "      <td>https://www.yelp.com/biz/loreley-beer-garden-new-york-2?adjust_creative=82uXkAt1Tiw7u9_h33zr1A&amp;utm_campaign=yelp_api_v3&amp;utm_medium=api_v3_phone_search&amp;utm_source=82uXkAt1Tiw7u9_h33zr1A</td>\n",
       "      <td>814</td>\n",
       "      <td>[{'alias': 'german', 'title': 'German'}, {'alias': 'beergardens', 'title': 'Beer Gardens'}]</td>\n",
       "      <td>3.50</td>\n",
       "      <td>{'latitude': 40.7212291, 'longitude': -73.992872}</td>\n",
       "      <td>['pickup', 'delivery']</td>\n",
       "      <td>$$</td>\n",
       "      <td>{'address1': '7 Rivington St', 'address2': None, 'address3': '', 'city': 'New York', 'zip_code': '10002', 'country': 'US', 'state': 'NY', 'display_address': ['7 Rivington St', 'New York, NY 10002']}</td>\n",
       "      <td>12122537077</td>\n",
       "      <td>(212) 253-7077</td>\n",
       "      <td>Mulled wine: my friend says, \"Would recommend does a good job of warming you up on a cold night.\"bourbon apple cider - my friend said, \"nice warm drink with a good cinnamony flavor, like a college...</td>\n",
       "    </tr>\n",
       "    <tr>\n",
       "      <th>17298</th>\n",
       "      <td>Pi-AJhThWqhb89mjHU65Nw</td>\n",
       "      <td>majestic-restaurant-bronx</td>\n",
       "      <td>Majestic restaurant</td>\n",
       "      <td>https://s3-media0.fl.yelpcdn.com/bphoto/EpUrURPt_-Cu1sWNwmJbYw/o.jpg</td>\n",
       "      <td>False</td>\n",
       "      <td>https://www.yelp.com/biz/majestic-restaurant-bronx?adjust_creative=82uXkAt1Tiw7u9_h33zr1A&amp;utm_campaign=yelp_api_v3&amp;utm_medium=api_v3_phone_search&amp;utm_source=82uXkAt1Tiw7u9_h33zr1A</td>\n",
       "      <td>17</td>\n",
       "      <td>[{'alias': 'dominican', 'title': 'Dominican'}]</td>\n",
       "      <td>3.00</td>\n",
       "      <td>{'latitude': 40.854152, 'longitude': -73.8840031}</td>\n",
       "      <td>['pickup', 'delivery']</td>\n",
       "      <td>NaN</td>\n",
       "      <td>{'address1': '709 E 187th St', 'address2': None, 'address3': '', 'city': 'bronx', 'zip_code': '10458', 'country': 'US', 'state': 'NY', 'display_address': ['709 E 187th St', 'bronx, NY 10458']}</td>\n",
       "      <td>17186180032</td>\n",
       "      <td>(718) 618-0032</td>\n",
       "      <td>Breakfast was great and filling. The mangu was freshly made and tasted really good. The only thing that was missing was onions..I order food from here often and I love this place! Delivery is fast...</td>\n",
       "    </tr>\n",
       "    <tr>\n",
       "      <th>17299</th>\n",
       "      <td>lEUzamk42G4kkVXFdhExSw</td>\n",
       "      <td>golden-sands-cafe-sheepshead-bay</td>\n",
       "      <td>Golden Sands Cafe</td>\n",
       "      <td>https://s3-media0.fl.yelpcdn.com/bphoto/vUg1wFXfMjRqLdfs8j5a_Q/o.jpg</td>\n",
       "      <td>False</td>\n",
       "      <td>https://www.yelp.com/biz/golden-sands-cafe-sheepshead-bay?adjust_creative=82uXkAt1Tiw7u9_h33zr1A&amp;utm_campaign=yelp_api_v3&amp;utm_medium=api_v3_phone_search&amp;utm_source=82uXkAt1Tiw7u9_h33zr1A</td>\n",
       "      <td>18</td>\n",
       "      <td>[{'alias': 'dimsum', 'title': 'Dim Sum'}, {'alias': 'cafes', 'title': 'Cafes'}, {'alias': 'sandwiches', 'title': 'Sandwiches'}]</td>\n",
       "      <td>3.50</td>\n",
       "      <td>{'latitude': 40.599075, 'longitude': -73.951736}</td>\n",
       "      <td>['delivery', 'pickup']</td>\n",
       "      <td>$</td>\n",
       "      <td>{'address1': '1924 Ave U', 'address2': '', 'address3': '', 'city': 'Sheepshead Bay', 'zip_code': '11229', 'country': 'US', 'state': 'NY', 'display_address': ['1924 Ave U', 'Sheepshead Bay, NY 1122...</td>\n",
       "      <td>17186488898</td>\n",
       "      <td>(718) 648-8898</td>\n",
       "      <td>I usually stop by for breakfast or lunch. Dimsum and iced coffee are always on point. They have a large selection of buns, though I usually stick with a raisin twist or custard bao. Usually by mid...</td>\n",
       "    </tr>\n",
       "    <tr>\n",
       "      <th>17300</th>\n",
       "      <td>8pSdwDyx4Xu4PdYluzxtJQ</td>\n",
       "      <td>century-cafe-of-brooklyn-brooklyn</td>\n",
       "      <td>Century Cafe of Brooklyn</td>\n",
       "      <td>https://s3-media0.fl.yelpcdn.com/bphoto/c4ZHWfFEv58OFjTTznd74Q/o.jpg</td>\n",
       "      <td>True</td>\n",
       "      <td>https://www.yelp.com/biz/century-cafe-of-brooklyn-brooklyn?adjust_creative=82uXkAt1Tiw7u9_h33zr1A&amp;utm_campaign=yelp_api_v3&amp;utm_medium=api_v3_phone_search&amp;utm_source=82uXkAt1Tiw7u9_h33zr1A</td>\n",
       "      <td>9</td>\n",
       "      <td>[{'alias': 'bakeries', 'title': 'Bakeries'}, {'alias': 'coffee', 'title': 'Coffee &amp; Tea'}]</td>\n",
       "      <td>3.50</td>\n",
       "      <td>{'latitude': 40.599084, 'longitude': -73.951738}</td>\n",
       "      <td>[]</td>\n",
       "      <td>$</td>\n",
       "      <td>{'address1': '1924 Ave U', 'address2': '', 'address3': '', 'city': 'Brooklyn', 'zip_code': '11229', 'country': 'US', 'state': 'NY', 'display_address': ['1924 Ave U', 'Brooklyn, NY 11229']}</td>\n",
       "      <td>17186488898</td>\n",
       "      <td>(718) 648-8898</td>\n",
       "      <td>The 3 stars is for the very very decent vietnamese buns they have. It's really creamy and peppered to my liking. The one up is for the choices of dim sum and box lunch.I don't care for their milk ...</td>\n",
       "    </tr>\n",
       "    <tr>\n",
       "      <th>17301</th>\n",
       "      <td>boJPw2UISD67hm3Ro0kong</td>\n",
       "      <td>bobby-vans-steakhouse-new-york-10</td>\n",
       "      <td>Bobby Van's Steakhouse</td>\n",
       "      <td>https://s3-media0.fl.yelpcdn.com/bphoto/qvJpHCqvsrhQKqPnKaEzWQ/o.jpg</td>\n",
       "      <td>False</td>\n",
       "      <td>https://www.yelp.com/biz/bobby-vans-steakhouse-new-york-10?adjust_creative=82uXkAt1Tiw7u9_h33zr1A&amp;utm_campaign=yelp_api_v3&amp;utm_medium=api_v3_phone_search&amp;utm_source=82uXkAt1Tiw7u9_h33zr1A</td>\n",
       "      <td>139</td>\n",
       "      <td>[{'alias': 'steak', 'title': 'Steakhouses'}, {'alias': 'tradamerican', 'title': 'American (Traditional)'}, {'alias': 'seafood', 'title': 'Seafood'}]</td>\n",
       "      <td>3.50</td>\n",
       "      <td>{'latitude': 40.7543768198208, 'longitude': -73.9755606651306}</td>\n",
       "      <td>['pickup', 'delivery']</td>\n",
       "      <td>$$$$</td>\n",
       "      <td>{'address1': '230 Park Ave', 'address2': '', 'address3': '', 'city': 'New York', 'zip_code': '10169', 'country': 'US', 'state': 'NY', 'display_address': ['230 Park Ave', 'New York, NY 10169']}</td>\n",
       "      <td>12128675490</td>\n",
       "      <td>(212) 867-5490</td>\n",
       "      <td>Old school steakhouse--what you would expect. Every thing tastes good and the service is attentive. Not a single female on serving staff which I found interesting. I wish the menu had descriptions...</td>\n",
       "    </tr>\n",
       "  </tbody>\n",
       "</table>\n",
       "<p>17302 rows × 16 columns</p>\n",
       "</div>"
      ],
      "text/plain": [
       "                           id                                       alias  \\\n",
       "0      RzKR9QcYP03EQ_8DxTxowg                       barrio-chino-new-york   \n",
       "1      hrP3xLWJ8sLwG_XxEGq61Q                   reyes-restaurant-woodside   \n",
       "2      in7QM4vNUTHVZIi7Outetg                      mcdonalds-new-york-430   \n",
       "3      F-YGKegXRG2TE-Xw1AWeCA  popeyes-louisiana-kitchen-rockaway-beach-2   \n",
       "4      rYl_R-UILYqA6vYsbNwLsg              joe-coffee-company-new-york-14   \n",
       "...                       ...                                         ...   \n",
       "17297  K_e7_aNgghFLZ2zvjFSNkQ              loreley-beer-garden-new-york-2   \n",
       "17298  Pi-AJhThWqhb89mjHU65Nw                   majestic-restaurant-bronx   \n",
       "17299  lEUzamk42G4kkVXFdhExSw            golden-sands-cafe-sheepshead-bay   \n",
       "17300  8pSdwDyx4Xu4PdYluzxtJQ           century-cafe-of-brooklyn-brooklyn   \n",
       "17301  boJPw2UISD67hm3Ro0kong           bobby-vans-steakhouse-new-york-10   \n",
       "\n",
       "                            name  \\\n",
       "0                   Barrio Chino   \n",
       "1               Reyes Restaurant   \n",
       "2                     McDonald's   \n",
       "3      Popeyes Louisiana Kitchen   \n",
       "4             Joe Coffee Company   \n",
       "...                          ...   \n",
       "17297        Loreley Beer Garden   \n",
       "17298        Majestic restaurant   \n",
       "17299          Golden Sands Cafe   \n",
       "17300   Century Cafe of Brooklyn   \n",
       "17301     Bobby Van's Steakhouse   \n",
       "\n",
       "                                                                  image_url  \\\n",
       "0      https://s3-media0.fl.yelpcdn.com/bphoto/dpaRqPZD6xqDZo2ZfOyjnQ/o.jpg   \n",
       "1      https://s3-media0.fl.yelpcdn.com/bphoto/_dwQGccROJaxa-oNIxQsEg/o.jpg   \n",
       "2      https://s3-media0.fl.yelpcdn.com/bphoto/bNmu8D1sjwJzbxxP9ZwJOQ/o.jpg   \n",
       "3      https://s3-media0.fl.yelpcdn.com/bphoto/A4MR2hDN3mWefMUT7bBB2A/o.jpg   \n",
       "4      https://s3-media0.fl.yelpcdn.com/bphoto/e-nX3g-MQAN48MDPAv2cIg/o.jpg   \n",
       "...                                                                     ...   \n",
       "17297  https://s3-media0.fl.yelpcdn.com/bphoto/RHzuMs1HJjcbSjpkmJIFlg/o.jpg   \n",
       "17298  https://s3-media0.fl.yelpcdn.com/bphoto/EpUrURPt_-Cu1sWNwmJbYw/o.jpg   \n",
       "17299  https://s3-media0.fl.yelpcdn.com/bphoto/vUg1wFXfMjRqLdfs8j5a_Q/o.jpg   \n",
       "17300  https://s3-media0.fl.yelpcdn.com/bphoto/c4ZHWfFEv58OFjTTznd74Q/o.jpg   \n",
       "17301  https://s3-media0.fl.yelpcdn.com/bphoto/qvJpHCqvsrhQKqPnKaEzWQ/o.jpg   \n",
       "\n",
       "       is_closed  \\\n",
       "0          False   \n",
       "1          False   \n",
       "2          False   \n",
       "3          False   \n",
       "4          False   \n",
       "...          ...   \n",
       "17297      False   \n",
       "17298      False   \n",
       "17299      False   \n",
       "17300       True   \n",
       "17301      False   \n",
       "\n",
       "                                                                                                                                                                                                        url  \\\n",
       "0                           https://www.yelp.com/biz/barrio-chino-new-york?adjust_creative=82uXkAt1Tiw7u9_h33zr1A&utm_campaign=yelp_api_v3&utm_medium=api_v3_phone_search&utm_source=82uXkAt1Tiw7u9_h33zr1A   \n",
       "1                       https://www.yelp.com/biz/reyes-restaurant-woodside?adjust_creative=82uXkAt1Tiw7u9_h33zr1A&utm_campaign=yelp_api_v3&utm_medium=api_v3_phone_search&utm_source=82uXkAt1Tiw7u9_h33zr1A   \n",
       "2                          https://www.yelp.com/biz/mcdonalds-new-york-430?adjust_creative=82uXkAt1Tiw7u9_h33zr1A&utm_campaign=yelp_api_v3&utm_medium=api_v3_phone_search&utm_source=82uXkAt1Tiw7u9_h33zr1A   \n",
       "3      https://www.yelp.com/biz/popeyes-louisiana-kitchen-rockaway-beach-2?adjust_creative=82uXkAt1Tiw7u9_h33zr1A&utm_campaign=yelp_api_v3&utm_medium=api_v3_phone_search&utm_source=82uXkAt1Tiw7u9_h33zr1A   \n",
       "4                  https://www.yelp.com/biz/joe-coffee-company-new-york-14?adjust_creative=82uXkAt1Tiw7u9_h33zr1A&utm_campaign=yelp_api_v3&utm_medium=api_v3_phone_search&utm_source=82uXkAt1Tiw7u9_h33zr1A   \n",
       "...                                                                                                                                                                                                     ...   \n",
       "17297              https://www.yelp.com/biz/loreley-beer-garden-new-york-2?adjust_creative=82uXkAt1Tiw7u9_h33zr1A&utm_campaign=yelp_api_v3&utm_medium=api_v3_phone_search&utm_source=82uXkAt1Tiw7u9_h33zr1A   \n",
       "17298                   https://www.yelp.com/biz/majestic-restaurant-bronx?adjust_creative=82uXkAt1Tiw7u9_h33zr1A&utm_campaign=yelp_api_v3&utm_medium=api_v3_phone_search&utm_source=82uXkAt1Tiw7u9_h33zr1A   \n",
       "17299            https://www.yelp.com/biz/golden-sands-cafe-sheepshead-bay?adjust_creative=82uXkAt1Tiw7u9_h33zr1A&utm_campaign=yelp_api_v3&utm_medium=api_v3_phone_search&utm_source=82uXkAt1Tiw7u9_h33zr1A   \n",
       "17300           https://www.yelp.com/biz/century-cafe-of-brooklyn-brooklyn?adjust_creative=82uXkAt1Tiw7u9_h33zr1A&utm_campaign=yelp_api_v3&utm_medium=api_v3_phone_search&utm_source=82uXkAt1Tiw7u9_h33zr1A   \n",
       "17301           https://www.yelp.com/biz/bobby-vans-steakhouse-new-york-10?adjust_creative=82uXkAt1Tiw7u9_h33zr1A&utm_campaign=yelp_api_v3&utm_medium=api_v3_phone_search&utm_source=82uXkAt1Tiw7u9_h33zr1A   \n",
       "\n",
       "       review_count  \\\n",
       "0              1148   \n",
       "1                 7   \n",
       "2               103   \n",
       "3                21   \n",
       "4                24   \n",
       "...             ...   \n",
       "17297           814   \n",
       "17298            17   \n",
       "17299            18   \n",
       "17300             9   \n",
       "17301           139   \n",
       "\n",
       "                                                                                                                                                 categories  \\\n",
       "0                                                                            [{'alias': 'mexican', 'title': 'Mexican'}, {'alias': 'bars', 'title': 'Bars'}]   \n",
       "1                                                             [{'alias': 'latin', 'title': 'Latin American'}, {'alias': 'dominican', 'title': 'Dominican'}]   \n",
       "2                      [{'alias': 'burgers', 'title': 'Burgers'}, {'alias': 'hotdogs', 'title': 'Fast Food'}, {'alias': 'coffee', 'title': 'Coffee & Tea'}]   \n",
       "3              [{'alias': 'hotdogs', 'title': 'Fast Food'}, {'alias': 'seafood', 'title': 'Seafood'}, {'alias': 'chicken_wings', 'title': 'Chicken Wings'}]   \n",
       "4                                               [{'alias': 'coffee', 'title': 'Coffee & Tea'}, {'alias': 'coffeeroasteries', 'title': 'Coffee Roasteries'}]   \n",
       "...                                                                                                                                                     ...   \n",
       "17297                                                           [{'alias': 'german', 'title': 'German'}, {'alias': 'beergardens', 'title': 'Beer Gardens'}]   \n",
       "17298                                                                                                        [{'alias': 'dominican', 'title': 'Dominican'}]   \n",
       "17299                       [{'alias': 'dimsum', 'title': 'Dim Sum'}, {'alias': 'cafes', 'title': 'Cafes'}, {'alias': 'sandwiches', 'title': 'Sandwiches'}]   \n",
       "17300                                                            [{'alias': 'bakeries', 'title': 'Bakeries'}, {'alias': 'coffee', 'title': 'Coffee & Tea'}]   \n",
       "17301  [{'alias': 'steak', 'title': 'Steakhouses'}, {'alias': 'tradamerican', 'title': 'American (Traditional)'}, {'alias': 'seafood', 'title': 'Seafood'}]   \n",
       "\n",
       "       rating  \\\n",
       "0        4.00   \n",
       "1        4.00   \n",
       "2        1.50   \n",
       "3        2.00   \n",
       "4        4.00   \n",
       "...       ...   \n",
       "17297    3.50   \n",
       "17298    3.00   \n",
       "17299    3.50   \n",
       "17300    3.50   \n",
       "17301    3.50   \n",
       "\n",
       "                                                             coordinates  \\\n",
       "0                       {'latitude': 40.718022, 'longitude': -73.990026}   \n",
       "1                           {'latitude': 40.7466, 'longitude': -73.9098}   \n",
       "2         {'latitude': 40.7163213865248, 'longitude': -74.0106988300204}   \n",
       "3      {'latitude': 40.587551867915515, 'longitude': -73.81088484629929}   \n",
       "4         {'latitude': 40.7126284147746, 'longitude': -74.0128198486877}   \n",
       "...                                                                  ...   \n",
       "17297                  {'latitude': 40.7212291, 'longitude': -73.992872}   \n",
       "17298                  {'latitude': 40.854152, 'longitude': -73.8840031}   \n",
       "17299                   {'latitude': 40.599075, 'longitude': -73.951736}   \n",
       "17300                   {'latitude': 40.599084, 'longitude': -73.951738}   \n",
       "17301     {'latitude': 40.7543768198208, 'longitude': -73.9755606651306}   \n",
       "\n",
       "                 transactions price  \\\n",
       "0      ['delivery', 'pickup']    $$   \n",
       "1                ['delivery']     $   \n",
       "2                ['delivery']     $   \n",
       "3      ['pickup', 'delivery']     $   \n",
       "4                          []    $$   \n",
       "...                       ...   ...   \n",
       "17297  ['pickup', 'delivery']    $$   \n",
       "17298  ['pickup', 'delivery']   NaN   \n",
       "17299  ['delivery', 'pickup']     $   \n",
       "17300                      []     $   \n",
       "17301  ['pickup', 'delivery']  $$$$   \n",
       "\n",
       "                                                                                                                                                                                                      location  \\\n",
       "0         {'address1': '253 Broome St', 'address2': None, 'address3': '', 'city': 'New York', 'zip_code': '10002', 'country': 'US', 'state': 'NY', 'display_address': ['253 Broome St', 'New York, NY 10002']}   \n",
       "1             {'address1': '4754 46th St', 'address2': '', 'address3': '', 'city': 'Woodside', 'zip_code': '11377', 'country': 'US', 'state': 'NY', 'display_address': ['4754 46th St', 'Woodside, NY 11377']}   \n",
       "2       {'address1': '167 Chambers St', 'address2': '', 'address3': '', 'city': 'New York', 'zip_code': '10007', 'country': 'US', 'state': 'NY', 'display_address': ['167 Chambers St', 'New York, NY 10007']}   \n",
       "3      {'address1': '8601 Rockaway Beach Blvd', 'address2': '', 'address3': None, 'city': 'Rockaway Beach', 'zip_code': '11693', 'country': 'US', 'state': 'NY', 'display_address': ['8601 Rockaway Beach B...   \n",
       "4      {'address1': '185 Greenwich St', 'address2': 'LL3110', 'address3': None, 'city': 'New York', 'zip_code': '10007', 'country': 'US', 'state': 'NY', 'display_address': ['185 Greenwich St', 'LL3110', ...   \n",
       "...                                                                                                                                                                                                        ...   \n",
       "17297   {'address1': '7 Rivington St', 'address2': None, 'address3': '', 'city': 'New York', 'zip_code': '10002', 'country': 'US', 'state': 'NY', 'display_address': ['7 Rivington St', 'New York, NY 10002']}   \n",
       "17298         {'address1': '709 E 187th St', 'address2': None, 'address3': '', 'city': 'bronx', 'zip_code': '10458', 'country': 'US', 'state': 'NY', 'display_address': ['709 E 187th St', 'bronx, NY 10458']}   \n",
       "17299  {'address1': '1924 Ave U', 'address2': '', 'address3': '', 'city': 'Sheepshead Bay', 'zip_code': '11229', 'country': 'US', 'state': 'NY', 'display_address': ['1924 Ave U', 'Sheepshead Bay, NY 1122...   \n",
       "17300             {'address1': '1924 Ave U', 'address2': '', 'address3': '', 'city': 'Brooklyn', 'zip_code': '11229', 'country': 'US', 'state': 'NY', 'display_address': ['1924 Ave U', 'Brooklyn, NY 11229']}   \n",
       "17301         {'address1': '230 Park Ave', 'address2': '', 'address3': '', 'city': 'New York', 'zip_code': '10169', 'country': 'US', 'state': 'NY', 'display_address': ['230 Park Ave', 'New York, NY 10169']}   \n",
       "\n",
       "             phone   display_phone  \\\n",
       "0      12122286710  (212) 228-6710   \n",
       "1      17187529577  (718) 752-9577   \n",
       "2      12126082405  (212) 608-2405   \n",
       "3      17189452815  (718) 945-2815   \n",
       "4      16467661719  (646) 766-1719   \n",
       "...            ...             ...   \n",
       "17297  12122537077  (212) 253-7077   \n",
       "17298  17186180032  (718) 618-0032   \n",
       "17299  17186488898  (718) 648-8898   \n",
       "17300  17186488898  (718) 648-8898   \n",
       "17301  12128675490  (212) 867-5490   \n",
       "\n",
       "                                                                                                                                                                                                       Reviews  \n",
       "0      My sister has gone here a bunch of times and I finally went. I am truly mad at myself for not going sooner. We were seated without a reservation around 7 on a Tuesday. Service was superb. Water gl...  \n",
       "1      Good food served by good people. Love the mangu with everything, it's my go-to order..I was super happy to find out that there was a Dominican restaurant in my neighborhood. I came on a Saturday a...  \n",
       "2      I love McDonalds breakfast but of the 6 times I've been here recently, this is the 2nd time they forget my hash brown and today I found a hair on my egg. I used to frequent this McDonalds in the p...  \n",
       "3      The app was messed up & I called & spoke to this wonderful worker Tiffany! She was able to allow me to change my soda since their was no other option. She also allowed me to add ketchup to the ord...  \n",
       "4      This is inside the Oculus. I just wanted a cappuccino, dry. The barista certainly knew how to make the perfect cup!Staff is friendly. The place was clean..STAY AT HOME, EVERYONE. FLATTEN THE CURVE...  \n",
       "...                                                                                                                                                                                                        ...  \n",
       "17297  Mulled wine: my friend says, \"Would recommend does a good job of warming you up on a cold night.\"bourbon apple cider - my friend said, \"nice warm drink with a good cinnamony flavor, like a college...  \n",
       "17298  Breakfast was great and filling. The mangu was freshly made and tasted really good. The only thing that was missing was onions..I order food from here often and I love this place! Delivery is fast...  \n",
       "17299  I usually stop by for breakfast or lunch. Dimsum and iced coffee are always on point. They have a large selection of buns, though I usually stick with a raisin twist or custard bao. Usually by mid...  \n",
       "17300  The 3 stars is for the very very decent vietnamese buns they have. It's really creamy and peppered to my liking. The one up is for the choices of dim sum and box lunch.I don't care for their milk ...  \n",
       "17301  Old school steakhouse--what you would expect. Every thing tastes good and the service is attentive. Not a single female on serving staff which I found interesting. I wish the menu had descriptions...  \n",
       "\n",
       "[17302 rows x 16 columns]"
      ]
     },
     "execution_count": 69,
     "metadata": {},
     "output_type": "execute_result"
    }
   ],
   "source": [
    "# Concatenating all Yelp businesses tables with review text included\n",
    "yelp_df = pd.concat(yelp_tables,ignore_index=True)\n",
    "yelp_df"
   ]
  },
  {
   "cell_type": "code",
   "execution_count": null,
   "metadata": {
    "ExecuteTime": {
     "end_time": "2022-04-14T15:07:46.486247Z",
     "start_time": "2022-04-14T15:07:46.435062Z"
    }
   },
   "outputs": [],
   "source": [
    "# OLD Yelp Review API\n",
    "# review_df = pd.DataFrame(response_json.get('reviews'))\n",
    "# review_df"
   ]
  },
  {
   "cell_type": "markdown",
   "metadata": {},
   "source": [
    "## Joining NYC DOHMH & Yelp Datasets"
   ]
  },
  {
   "cell_type": "code",
   "execution_count": 74,
   "metadata": {
    "ExecuteTime": {
     "end_time": "2022-08-03T21:53:56.476304Z",
     "start_time": "2022-08-03T21:53:56.450431Z"
    }
   },
   "outputs": [],
   "source": [
    "# Formatting Yelp phone numbers to align with NYC phone numbers to join on\n",
    "yelp_df['phone'] = '+' + yelp_df['phone'].apply(str)"
   ]
  },
  {
   "cell_type": "code",
   "execution_count": 75,
   "metadata": {
    "ExecuteTime": {
     "end_time": "2022-08-03T21:53:57.764713Z",
     "start_time": "2022-08-03T21:53:57.745382Z"
    }
   },
   "outputs": [
    {
     "data": {
      "text/html": [
       "<div>\n",
       "<style scoped>\n",
       "    .dataframe tbody tr th:only-of-type {\n",
       "        vertical-align: middle;\n",
       "    }\n",
       "\n",
       "    .dataframe tbody tr th {\n",
       "        vertical-align: top;\n",
       "    }\n",
       "\n",
       "    .dataframe thead th {\n",
       "        text-align: right;\n",
       "    }\n",
       "</style>\n",
       "<table border=\"1\" class=\"dataframe\">\n",
       "  <thead>\n",
       "    <tr style=\"text-align: right;\">\n",
       "      <th></th>\n",
       "      <th>id</th>\n",
       "      <th>alias</th>\n",
       "      <th>name</th>\n",
       "      <th>image_url</th>\n",
       "      <th>is_closed</th>\n",
       "      <th>url</th>\n",
       "      <th>review_count</th>\n",
       "      <th>categories</th>\n",
       "      <th>rating</th>\n",
       "      <th>coordinates</th>\n",
       "      <th>transactions</th>\n",
       "      <th>price</th>\n",
       "      <th>location</th>\n",
       "      <th>phone</th>\n",
       "      <th>display_phone</th>\n",
       "      <th>Reviews</th>\n",
       "    </tr>\n",
       "  </thead>\n",
       "  <tbody>\n",
       "    <tr>\n",
       "      <th>0</th>\n",
       "      <td>RzKR9QcYP03EQ_8DxTxowg</td>\n",
       "      <td>barrio-chino-new-york</td>\n",
       "      <td>Barrio Chino</td>\n",
       "      <td>https://s3-media0.fl.yelpcdn.com/bphoto/dpaRqPZD6xqDZo2ZfOyjnQ/o.jpg</td>\n",
       "      <td>False</td>\n",
       "      <td>https://www.yelp.com/biz/barrio-chino-new-york?adjust_creative=82uXkAt1Tiw7u9_h33zr1A&amp;utm_campaign=yelp_api_v3&amp;utm_medium=api_v3_phone_search&amp;utm_source=82uXkAt1Tiw7u9_h33zr1A</td>\n",
       "      <td>1148</td>\n",
       "      <td>[{'alias': 'mexican', 'title': 'Mexican'}, {'alias': 'bars', 'title': 'Bars'}]</td>\n",
       "      <td>4.00</td>\n",
       "      <td>{'latitude': 40.718022, 'longitude': -73.990026}</td>\n",
       "      <td>['delivery', 'pickup']</td>\n",
       "      <td>$$</td>\n",
       "      <td>{'address1': '253 Broome St', 'address2': None, 'address3': '', 'city': 'New York', 'zip_code': '10002', 'country': 'US', 'state': 'NY', 'display_address': ['253 Broome St', 'New York, NY 10002']}</td>\n",
       "      <td>+12122286710</td>\n",
       "      <td>(212) 228-6710</td>\n",
       "      <td>My sister has gone here a bunch of times and I finally went. I am truly mad at myself for not going sooner. We were seated without a reservation around 7 on a Tuesday. Service was superb. Water gl...</td>\n",
       "    </tr>\n",
       "    <tr>\n",
       "      <th>1</th>\n",
       "      <td>hrP3xLWJ8sLwG_XxEGq61Q</td>\n",
       "      <td>reyes-restaurant-woodside</td>\n",
       "      <td>Reyes Restaurant</td>\n",
       "      <td>https://s3-media0.fl.yelpcdn.com/bphoto/_dwQGccROJaxa-oNIxQsEg/o.jpg</td>\n",
       "      <td>False</td>\n",
       "      <td>https://www.yelp.com/biz/reyes-restaurant-woodside?adjust_creative=82uXkAt1Tiw7u9_h33zr1A&amp;utm_campaign=yelp_api_v3&amp;utm_medium=api_v3_phone_search&amp;utm_source=82uXkAt1Tiw7u9_h33zr1A</td>\n",
       "      <td>7</td>\n",
       "      <td>[{'alias': 'latin', 'title': 'Latin American'}, {'alias': 'dominican', 'title': 'Dominican'}]</td>\n",
       "      <td>4.00</td>\n",
       "      <td>{'latitude': 40.7466, 'longitude': -73.9098}</td>\n",
       "      <td>['delivery']</td>\n",
       "      <td>$</td>\n",
       "      <td>{'address1': '4754 46th St', 'address2': '', 'address3': '', 'city': 'Woodside', 'zip_code': '11377', 'country': 'US', 'state': 'NY', 'display_address': ['4754 46th St', 'Woodside, NY 11377']}</td>\n",
       "      <td>+17187529577</td>\n",
       "      <td>(718) 752-9577</td>\n",
       "      <td>Good food served by good people. Love the mangu with everything, it's my go-to order..I was super happy to find out that there was a Dominican restaurant in my neighborhood. I came on a Saturday a...</td>\n",
       "    </tr>\n",
       "    <tr>\n",
       "      <th>2</th>\n",
       "      <td>in7QM4vNUTHVZIi7Outetg</td>\n",
       "      <td>mcdonalds-new-york-430</td>\n",
       "      <td>McDonald's</td>\n",
       "      <td>https://s3-media0.fl.yelpcdn.com/bphoto/bNmu8D1sjwJzbxxP9ZwJOQ/o.jpg</td>\n",
       "      <td>False</td>\n",
       "      <td>https://www.yelp.com/biz/mcdonalds-new-york-430?adjust_creative=82uXkAt1Tiw7u9_h33zr1A&amp;utm_campaign=yelp_api_v3&amp;utm_medium=api_v3_phone_search&amp;utm_source=82uXkAt1Tiw7u9_h33zr1A</td>\n",
       "      <td>103</td>\n",
       "      <td>[{'alias': 'burgers', 'title': 'Burgers'}, {'alias': 'hotdogs', 'title': 'Fast Food'}, {'alias': 'coffee', 'title': 'Coffee &amp; Tea'}]</td>\n",
       "      <td>1.50</td>\n",
       "      <td>{'latitude': 40.7163213865248, 'longitude': -74.0106988300204}</td>\n",
       "      <td>['delivery']</td>\n",
       "      <td>$</td>\n",
       "      <td>{'address1': '167 Chambers St', 'address2': '', 'address3': '', 'city': 'New York', 'zip_code': '10007', 'country': 'US', 'state': 'NY', 'display_address': ['167 Chambers St', 'New York, NY 10007']}</td>\n",
       "      <td>+12126082405</td>\n",
       "      <td>(212) 608-2405</td>\n",
       "      <td>I love McDonalds breakfast but of the 6 times I've been here recently, this is the 2nd time they forget my hash brown and today I found a hair on my egg. I used to frequent this McDonalds in the p...</td>\n",
       "    </tr>\n",
       "    <tr>\n",
       "      <th>3</th>\n",
       "      <td>F-YGKegXRG2TE-Xw1AWeCA</td>\n",
       "      <td>popeyes-louisiana-kitchen-rockaway-beach-2</td>\n",
       "      <td>Popeyes Louisiana Kitchen</td>\n",
       "      <td>https://s3-media0.fl.yelpcdn.com/bphoto/A4MR2hDN3mWefMUT7bBB2A/o.jpg</td>\n",
       "      <td>False</td>\n",
       "      <td>https://www.yelp.com/biz/popeyes-louisiana-kitchen-rockaway-beach-2?adjust_creative=82uXkAt1Tiw7u9_h33zr1A&amp;utm_campaign=yelp_api_v3&amp;utm_medium=api_v3_phone_search&amp;utm_source=82uXkAt1Tiw7u9_h33zr1A</td>\n",
       "      <td>21</td>\n",
       "      <td>[{'alias': 'hotdogs', 'title': 'Fast Food'}, {'alias': 'seafood', 'title': 'Seafood'}, {'alias': 'chicken_wings', 'title': 'Chicken Wings'}]</td>\n",
       "      <td>2.00</td>\n",
       "      <td>{'latitude': 40.587551867915515, 'longitude': -73.81088484629929}</td>\n",
       "      <td>['pickup', 'delivery']</td>\n",
       "      <td>$</td>\n",
       "      <td>{'address1': '8601 Rockaway Beach Blvd', 'address2': '', 'address3': None, 'city': 'Rockaway Beach', 'zip_code': '11693', 'country': 'US', 'state': 'NY', 'display_address': ['8601 Rockaway Beach B...</td>\n",
       "      <td>+17189452815</td>\n",
       "      <td>(718) 945-2815</td>\n",
       "      <td>The app was messed up &amp; I called &amp; spoke to this wonderful worker Tiffany! She was able to allow me to change my soda since their was no other option. She also allowed me to add ketchup to the ord...</td>\n",
       "    </tr>\n",
       "    <tr>\n",
       "      <th>4</th>\n",
       "      <td>rYl_R-UILYqA6vYsbNwLsg</td>\n",
       "      <td>joe-coffee-company-new-york-14</td>\n",
       "      <td>Joe Coffee Company</td>\n",
       "      <td>https://s3-media0.fl.yelpcdn.com/bphoto/e-nX3g-MQAN48MDPAv2cIg/o.jpg</td>\n",
       "      <td>False</td>\n",
       "      <td>https://www.yelp.com/biz/joe-coffee-company-new-york-14?adjust_creative=82uXkAt1Tiw7u9_h33zr1A&amp;utm_campaign=yelp_api_v3&amp;utm_medium=api_v3_phone_search&amp;utm_source=82uXkAt1Tiw7u9_h33zr1A</td>\n",
       "      <td>24</td>\n",
       "      <td>[{'alias': 'coffee', 'title': 'Coffee &amp; Tea'}, {'alias': 'coffeeroasteries', 'title': 'Coffee Roasteries'}]</td>\n",
       "      <td>4.00</td>\n",
       "      <td>{'latitude': 40.7126284147746, 'longitude': -74.0128198486877}</td>\n",
       "      <td>[]</td>\n",
       "      <td>$$</td>\n",
       "      <td>{'address1': '185 Greenwich St', 'address2': 'LL3110', 'address3': None, 'city': 'New York', 'zip_code': '10007', 'country': 'US', 'state': 'NY', 'display_address': ['185 Greenwich St', 'LL3110', ...</td>\n",
       "      <td>+16467661719</td>\n",
       "      <td>(646) 766-1719</td>\n",
       "      <td>This is inside the Oculus. I just wanted a cappuccino, dry. The barista certainly knew how to make the perfect cup!Staff is friendly. The place was clean..STAY AT HOME, EVERYONE. FLATTEN THE CURVE...</td>\n",
       "    </tr>\n",
       "  </tbody>\n",
       "</table>\n",
       "</div>"
      ],
      "text/plain": [
       "                       id                                       alias  \\\n",
       "0  RzKR9QcYP03EQ_8DxTxowg                       barrio-chino-new-york   \n",
       "1  hrP3xLWJ8sLwG_XxEGq61Q                   reyes-restaurant-woodside   \n",
       "2  in7QM4vNUTHVZIi7Outetg                      mcdonalds-new-york-430   \n",
       "3  F-YGKegXRG2TE-Xw1AWeCA  popeyes-louisiana-kitchen-rockaway-beach-2   \n",
       "4  rYl_R-UILYqA6vYsbNwLsg              joe-coffee-company-new-york-14   \n",
       "\n",
       "                        name  \\\n",
       "0               Barrio Chino   \n",
       "1           Reyes Restaurant   \n",
       "2                 McDonald's   \n",
       "3  Popeyes Louisiana Kitchen   \n",
       "4         Joe Coffee Company   \n",
       "\n",
       "                                                              image_url  \\\n",
       "0  https://s3-media0.fl.yelpcdn.com/bphoto/dpaRqPZD6xqDZo2ZfOyjnQ/o.jpg   \n",
       "1  https://s3-media0.fl.yelpcdn.com/bphoto/_dwQGccROJaxa-oNIxQsEg/o.jpg   \n",
       "2  https://s3-media0.fl.yelpcdn.com/bphoto/bNmu8D1sjwJzbxxP9ZwJOQ/o.jpg   \n",
       "3  https://s3-media0.fl.yelpcdn.com/bphoto/A4MR2hDN3mWefMUT7bBB2A/o.jpg   \n",
       "4  https://s3-media0.fl.yelpcdn.com/bphoto/e-nX3g-MQAN48MDPAv2cIg/o.jpg   \n",
       "\n",
       "   is_closed  \\\n",
       "0      False   \n",
       "1      False   \n",
       "2      False   \n",
       "3      False   \n",
       "4      False   \n",
       "\n",
       "                                                                                                                                                                                                    url  \\\n",
       "0                       https://www.yelp.com/biz/barrio-chino-new-york?adjust_creative=82uXkAt1Tiw7u9_h33zr1A&utm_campaign=yelp_api_v3&utm_medium=api_v3_phone_search&utm_source=82uXkAt1Tiw7u9_h33zr1A   \n",
       "1                   https://www.yelp.com/biz/reyes-restaurant-woodside?adjust_creative=82uXkAt1Tiw7u9_h33zr1A&utm_campaign=yelp_api_v3&utm_medium=api_v3_phone_search&utm_source=82uXkAt1Tiw7u9_h33zr1A   \n",
       "2                      https://www.yelp.com/biz/mcdonalds-new-york-430?adjust_creative=82uXkAt1Tiw7u9_h33zr1A&utm_campaign=yelp_api_v3&utm_medium=api_v3_phone_search&utm_source=82uXkAt1Tiw7u9_h33zr1A   \n",
       "3  https://www.yelp.com/biz/popeyes-louisiana-kitchen-rockaway-beach-2?adjust_creative=82uXkAt1Tiw7u9_h33zr1A&utm_campaign=yelp_api_v3&utm_medium=api_v3_phone_search&utm_source=82uXkAt1Tiw7u9_h33zr1A   \n",
       "4              https://www.yelp.com/biz/joe-coffee-company-new-york-14?adjust_creative=82uXkAt1Tiw7u9_h33zr1A&utm_campaign=yelp_api_v3&utm_medium=api_v3_phone_search&utm_source=82uXkAt1Tiw7u9_h33zr1A   \n",
       "\n",
       "   review_count  \\\n",
       "0          1148   \n",
       "1             7   \n",
       "2           103   \n",
       "3            21   \n",
       "4            24   \n",
       "\n",
       "                                                                                                                                     categories  \\\n",
       "0                                                                [{'alias': 'mexican', 'title': 'Mexican'}, {'alias': 'bars', 'title': 'Bars'}]   \n",
       "1                                                 [{'alias': 'latin', 'title': 'Latin American'}, {'alias': 'dominican', 'title': 'Dominican'}]   \n",
       "2          [{'alias': 'burgers', 'title': 'Burgers'}, {'alias': 'hotdogs', 'title': 'Fast Food'}, {'alias': 'coffee', 'title': 'Coffee & Tea'}]   \n",
       "3  [{'alias': 'hotdogs', 'title': 'Fast Food'}, {'alias': 'seafood', 'title': 'Seafood'}, {'alias': 'chicken_wings', 'title': 'Chicken Wings'}]   \n",
       "4                                   [{'alias': 'coffee', 'title': 'Coffee & Tea'}, {'alias': 'coffeeroasteries', 'title': 'Coffee Roasteries'}]   \n",
       "\n",
       "   rating                                                        coordinates  \\\n",
       "0    4.00                   {'latitude': 40.718022, 'longitude': -73.990026}   \n",
       "1    4.00                       {'latitude': 40.7466, 'longitude': -73.9098}   \n",
       "2    1.50     {'latitude': 40.7163213865248, 'longitude': -74.0106988300204}   \n",
       "3    2.00  {'latitude': 40.587551867915515, 'longitude': -73.81088484629929}   \n",
       "4    4.00     {'latitude': 40.7126284147746, 'longitude': -74.0128198486877}   \n",
       "\n",
       "             transactions price  \\\n",
       "0  ['delivery', 'pickup']    $$   \n",
       "1            ['delivery']     $   \n",
       "2            ['delivery']     $   \n",
       "3  ['pickup', 'delivery']     $   \n",
       "4                      []    $$   \n",
       "\n",
       "                                                                                                                                                                                                  location  \\\n",
       "0     {'address1': '253 Broome St', 'address2': None, 'address3': '', 'city': 'New York', 'zip_code': '10002', 'country': 'US', 'state': 'NY', 'display_address': ['253 Broome St', 'New York, NY 10002']}   \n",
       "1         {'address1': '4754 46th St', 'address2': '', 'address3': '', 'city': 'Woodside', 'zip_code': '11377', 'country': 'US', 'state': 'NY', 'display_address': ['4754 46th St', 'Woodside, NY 11377']}   \n",
       "2   {'address1': '167 Chambers St', 'address2': '', 'address3': '', 'city': 'New York', 'zip_code': '10007', 'country': 'US', 'state': 'NY', 'display_address': ['167 Chambers St', 'New York, NY 10007']}   \n",
       "3  {'address1': '8601 Rockaway Beach Blvd', 'address2': '', 'address3': None, 'city': 'Rockaway Beach', 'zip_code': '11693', 'country': 'US', 'state': 'NY', 'display_address': ['8601 Rockaway Beach B...   \n",
       "4  {'address1': '185 Greenwich St', 'address2': 'LL3110', 'address3': None, 'city': 'New York', 'zip_code': '10007', 'country': 'US', 'state': 'NY', 'display_address': ['185 Greenwich St', 'LL3110', ...   \n",
       "\n",
       "          phone   display_phone  \\\n",
       "0  +12122286710  (212) 228-6710   \n",
       "1  +17187529577  (718) 752-9577   \n",
       "2  +12126082405  (212) 608-2405   \n",
       "3  +17189452815  (718) 945-2815   \n",
       "4  +16467661719  (646) 766-1719   \n",
       "\n",
       "                                                                                                                                                                                                   Reviews  \n",
       "0  My sister has gone here a bunch of times and I finally went. I am truly mad at myself for not going sooner. We were seated without a reservation around 7 on a Tuesday. Service was superb. Water gl...  \n",
       "1  Good food served by good people. Love the mangu with everything, it's my go-to order..I was super happy to find out that there was a Dominican restaurant in my neighborhood. I came on a Saturday a...  \n",
       "2  I love McDonalds breakfast but of the 6 times I've been here recently, this is the 2nd time they forget my hash brown and today I found a hair on my egg. I used to frequent this McDonalds in the p...  \n",
       "3  The app was messed up & I called & spoke to this wonderful worker Tiffany! She was able to allow me to change my soda since their was no other option. She also allowed me to add ketchup to the ord...  \n",
       "4  This is inside the Oculus. I just wanted a cappuccino, dry. The barista certainly knew how to make the perfect cup!Staff is friendly. The place was clean..STAY AT HOME, EVERYONE. FLATTEN THE CURVE...  "
      ]
     },
     "execution_count": 75,
     "metadata": {},
     "output_type": "execute_result"
    }
   ],
   "source": [
    "yelp_df.head()"
   ]
  },
  {
   "cell_type": "code",
   "execution_count": 76,
   "metadata": {
    "ExecuteTime": {
     "end_time": "2022-08-03T21:53:59.425334Z",
     "start_time": "2022-08-03T21:53:59.310753Z"
    }
   },
   "outputs": [],
   "source": [
    "# Merging NYC and Yelp datasets\n",
    "df_1 = pd.merge(nyc_df, yelp_df, left_on='PHONE', right_on='phone', how='inner')"
   ]
  },
  {
   "cell_type": "code",
   "execution_count": 77,
   "metadata": {
    "ExecuteTime": {
     "end_time": "2022-08-03T21:54:03.182906Z",
     "start_time": "2022-08-03T21:54:03.144955Z"
    },
    "scrolled": true
   },
   "outputs": [
    {
     "data": {
      "text/html": [
       "<div>\n",
       "<style scoped>\n",
       "    .dataframe tbody tr th:only-of-type {\n",
       "        vertical-align: middle;\n",
       "    }\n",
       "\n",
       "    .dataframe tbody tr th {\n",
       "        vertical-align: top;\n",
       "    }\n",
       "\n",
       "    .dataframe thead th {\n",
       "        text-align: right;\n",
       "    }\n",
       "</style>\n",
       "<table border=\"1\" class=\"dataframe\">\n",
       "  <thead>\n",
       "    <tr style=\"text-align: right;\">\n",
       "      <th></th>\n",
       "      <th>CAMIS</th>\n",
       "      <th>DBA</th>\n",
       "      <th>CUISINE DESCRIPTION</th>\n",
       "      <th>BORO</th>\n",
       "      <th>BUILDING</th>\n",
       "      <th>STREET</th>\n",
       "      <th>ZIPCODE</th>\n",
       "      <th>PHONE</th>\n",
       "      <th>Latitude</th>\n",
       "      <th>Longitude</th>\n",
       "      <th>Community Board</th>\n",
       "      <th>Council District</th>\n",
       "      <th>Census Tract</th>\n",
       "      <th>Severe</th>\n",
       "      <th>id</th>\n",
       "      <th>alias</th>\n",
       "      <th>name</th>\n",
       "      <th>image_url</th>\n",
       "      <th>is_closed</th>\n",
       "      <th>url</th>\n",
       "      <th>review_count</th>\n",
       "      <th>categories</th>\n",
       "      <th>rating</th>\n",
       "      <th>coordinates</th>\n",
       "      <th>transactions</th>\n",
       "      <th>price</th>\n",
       "      <th>location</th>\n",
       "      <th>phone</th>\n",
       "      <th>display_phone</th>\n",
       "      <th>Reviews</th>\n",
       "    </tr>\n",
       "  </thead>\n",
       "  <tbody>\n",
       "    <tr>\n",
       "      <th>0</th>\n",
       "      <td>30112340</td>\n",
       "      <td>WENDY'S</td>\n",
       "      <td>Hamburgers</td>\n",
       "      <td>Brooklyn</td>\n",
       "      <td>469</td>\n",
       "      <td>FLATBUSH AVENUE</td>\n",
       "      <td>11225.00</td>\n",
       "      <td>+17182875005</td>\n",
       "      <td>40.66</td>\n",
       "      <td>-73.96</td>\n",
       "      <td>309.00</td>\n",
       "      <td>40.00</td>\n",
       "      <td>32700.00</td>\n",
       "      <td>0</td>\n",
       "      <td>AMxMPBkWi20dn_1BRalahA</td>\n",
       "      <td>wendys-brooklyn-4</td>\n",
       "      <td>Wendy's</td>\n",
       "      <td>https://s3-media0.fl.yelpcdn.com/bphoto/fR70FbX4_WV2-ofhsE89YA/o.jpg</td>\n",
       "      <td>False</td>\n",
       "      <td>https://www.yelp.com/biz/wendys-brooklyn-4?adjust_creative=82uXkAt1Tiw7u9_h33zr1A&amp;utm_campaign=yelp_api_v3&amp;utm_medium=api_v3_phone_search&amp;utm_source=82uXkAt1Tiw7u9_h33zr1A</td>\n",
       "      <td>55</td>\n",
       "      <td>[{'alias': 'hotdogs', 'title': 'Fast Food'}, {'alias': 'burgers', 'title': 'Burgers'}]</td>\n",
       "      <td>1.50</td>\n",
       "      <td>{'latitude': 40.662952, 'longitude': -73.961753}</td>\n",
       "      <td>['delivery']</td>\n",
       "      <td>$</td>\n",
       "      <td>{'address1': '469 Flatbush Ave', 'address2': '', 'address3': '', 'city': 'Brooklyn', 'zip_code': '11225', 'country': 'US', 'state': 'NY', 'display_address': ['469 Flatbush Ave', 'Brooklyn, NY 1122...</td>\n",
       "      <td>+17182875005</td>\n",
       "      <td>(718) 287-5005</td>\n",
       "      <td>Forgot my root beer and the burger tasted very weird.If I can give this place no stars I absolutely would. The workers here are in efficient.  They do not work the best possible way. They cause th...</td>\n",
       "    </tr>\n",
       "    <tr>\n",
       "      <th>1</th>\n",
       "      <td>40356018</td>\n",
       "      <td>RIVIERA CATERERS</td>\n",
       "      <td>American</td>\n",
       "      <td>Brooklyn</td>\n",
       "      <td>2780</td>\n",
       "      <td>STILLWELL AVENUE</td>\n",
       "      <td>11224.00</td>\n",
       "      <td>+17183723031</td>\n",
       "      <td>40.58</td>\n",
       "      <td>-73.98</td>\n",
       "      <td>313.00</td>\n",
       "      <td>47.00</td>\n",
       "      <td>34800.00</td>\n",
       "      <td>0</td>\n",
       "      <td>g8fAhVqBsC-BN6otcn85OA</td>\n",
       "      <td>riviera-caterers-brooklyn</td>\n",
       "      <td>Riviera Caterers</td>\n",
       "      <td>https://s3-media0.fl.yelpcdn.com/bphoto/5qZ27Uarz2kNWxV3KktK1g/o.jpg</td>\n",
       "      <td>False</td>\n",
       "      <td>https://www.yelp.com/biz/riviera-caterers-brooklyn?adjust_creative=82uXkAt1Tiw7u9_h33zr1A&amp;utm_campaign=yelp_api_v3&amp;utm_medium=api_v3_phone_search&amp;utm_source=82uXkAt1Tiw7u9_h33zr1A</td>\n",
       "      <td>55</td>\n",
       "      <td>[{'alias': 'catering', 'title': 'Caterers'}]</td>\n",
       "      <td>4.50</td>\n",
       "      <td>{'latitude': 40.57952, 'longitude': -73.98243}</td>\n",
       "      <td>[]</td>\n",
       "      <td>NaN</td>\n",
       "      <td>{'address1': '2780 Stillwell Ave', 'address2': '', 'address3': '', 'city': 'Brooklyn', 'zip_code': '11224', 'country': 'US', 'state': 'NY', 'display_address': ['2780 Stillwell Ave', 'Brooklyn, NY ...</td>\n",
       "      <td>+17183723031</td>\n",
       "      <td>(718) 372-3031</td>\n",
       "      <td>I had my wedding here a month ago and I would give Riviera 10 stars if I could. It was such a joy and ease to work with Adam, Tommy, and their staff.  A true diamond in the rough of Coney Island a...</td>\n",
       "    </tr>\n",
       "    <tr>\n",
       "      <th>2</th>\n",
       "      <td>40356483</td>\n",
       "      <td>WILKEN'S FINE FOOD</td>\n",
       "      <td>Sandwiches</td>\n",
       "      <td>Brooklyn</td>\n",
       "      <td>7114</td>\n",
       "      <td>AVENUE U</td>\n",
       "      <td>11234.00</td>\n",
       "      <td>+17184443838</td>\n",
       "      <td>40.62</td>\n",
       "      <td>-73.91</td>\n",
       "      <td>318.00</td>\n",
       "      <td>46.00</td>\n",
       "      <td>70000.00</td>\n",
       "      <td>0</td>\n",
       "      <td>Pe6MsH2DW0CXjvUtxUpI4A</td>\n",
       "      <td>wilkens-fine-foods-brooklyn-2</td>\n",
       "      <td>Wilkens Fine Foods</td>\n",
       "      <td>https://s3-media0.fl.yelpcdn.com/bphoto/gOyUSHz_oJWiN9Nw0AEpVg/o.jpg</td>\n",
       "      <td>False</td>\n",
       "      <td>https://www.yelp.com/biz/wilkens-fine-foods-brooklyn-2?adjust_creative=82uXkAt1Tiw7u9_h33zr1A&amp;utm_campaign=yelp_api_v3&amp;utm_medium=api_v3_phone_search&amp;utm_source=82uXkAt1Tiw7u9_h33zr1A</td>\n",
       "      <td>54</td>\n",
       "      <td>[{'alias': 'delis', 'title': 'Delis'}]</td>\n",
       "      <td>3.00</td>\n",
       "      <td>{'latitude': 40.6199, 'longitude': -73.90685}</td>\n",
       "      <td>['pickup', 'delivery']</td>\n",
       "      <td>$$</td>\n",
       "      <td>{'address1': '7114 Ave U', 'address2': '', 'address3': '', 'city': 'Brooklyn', 'zip_code': '11234', 'country': 'US', 'state': 'NY', 'display_address': ['7114 Ave U', 'Brooklyn, NY 11234']}</td>\n",
       "      <td>+17184443838</td>\n",
       "      <td>(718) 444-3838</td>\n",
       "      <td>We've recently discovered this gem on Uber Eats and they have the best sandwiches!!The broccoli rabe fried eggplant mozzarella sandwich was amazing. Having a fresh green veggie paired with a light...</td>\n",
       "    </tr>\n",
       "    <tr>\n",
       "      <th>3</th>\n",
       "      <td>40356731</td>\n",
       "      <td>TASTE THE TROPICS ICE CREAM</td>\n",
       "      <td>Frozen Desserts</td>\n",
       "      <td>Brooklyn</td>\n",
       "      <td>1839</td>\n",
       "      <td>NOSTRAND AVENUE</td>\n",
       "      <td>11226.00</td>\n",
       "      <td>+17188560821</td>\n",
       "      <td>40.64</td>\n",
       "      <td>-73.95</td>\n",
       "      <td>317.00</td>\n",
       "      <td>45.00</td>\n",
       "      <td>82800.00</td>\n",
       "      <td>0</td>\n",
       "      <td>Q18r5FKi2qkQhtKZqWR8ww</td>\n",
       "      <td>taste-the-tropics-usa-brooklyn</td>\n",
       "      <td>Taste the Tropics USA</td>\n",
       "      <td>https://s3-media0.fl.yelpcdn.com/bphoto/xW8S_DHdStqZiqjwQ_UUKw/o.jpg</td>\n",
       "      <td>False</td>\n",
       "      <td>https://www.yelp.com/biz/taste-the-tropics-usa-brooklyn?adjust_creative=82uXkAt1Tiw7u9_h33zr1A&amp;utm_campaign=yelp_api_v3&amp;utm_medium=api_v3_phone_search&amp;utm_source=82uXkAt1Tiw7u9_h33zr1A</td>\n",
       "      <td>49</td>\n",
       "      <td>[{'alias': 'icecream', 'title': 'Ice Cream &amp; Frozen Yogurt'}]</td>\n",
       "      <td>4.50</td>\n",
       "      <td>{'latitude': 40.64083, 'longitude': -73.94835}</td>\n",
       "      <td>['pickup', 'delivery']</td>\n",
       "      <td>$</td>\n",
       "      <td>{'address1': '1839 Nostrand Ave', 'address2': '', 'address3': '', 'city': 'Brooklyn', 'zip_code': '11226', 'country': 'US', 'state': 'NY', 'display_address': ['1839 Nostrand Ave', 'Brooklyn, NY 11...</td>\n",
       "      <td>+17188560821</td>\n",
       "      <td>(718) 856-0821</td>\n",
       "      <td>We've ordered from these folks a number of times on Grubhub and have always been extremely satisfied. We've never been to the actual store but I have called over there a few times with some questi...</td>\n",
       "    </tr>\n",
       "    <tr>\n",
       "      <th>4</th>\n",
       "      <td>40356731</td>\n",
       "      <td>TASTE THE TROPICS ICE CREAM</td>\n",
       "      <td>Frozen Desserts</td>\n",
       "      <td>Brooklyn</td>\n",
       "      <td>1839</td>\n",
       "      <td>NOSTRAND AVENUE</td>\n",
       "      <td>11226.00</td>\n",
       "      <td>+17188560821</td>\n",
       "      <td>40.64</td>\n",
       "      <td>-73.95</td>\n",
       "      <td>317.00</td>\n",
       "      <td>45.00</td>\n",
       "      <td>82800.00</td>\n",
       "      <td>0</td>\n",
       "      <td>Q18r5FKi2qkQhtKZqWR8ww</td>\n",
       "      <td>taste-the-tropics-usa-brooklyn</td>\n",
       "      <td>Taste the Tropics USA</td>\n",
       "      <td>https://s3-media0.fl.yelpcdn.com/bphoto/xW8S_DHdStqZiqjwQ_UUKw/o.jpg</td>\n",
       "      <td>False</td>\n",
       "      <td>https://www.yelp.com/biz/taste-the-tropics-usa-brooklyn?adjust_creative=82uXkAt1Tiw7u9_h33zr1A&amp;utm_campaign=yelp_api_v3&amp;utm_medium=api_v3_phone_search&amp;utm_source=82uXkAt1Tiw7u9_h33zr1A</td>\n",
       "      <td>49</td>\n",
       "      <td>[{'alias': 'icecream', 'title': 'Ice Cream &amp; Frozen Yogurt'}]</td>\n",
       "      <td>4.50</td>\n",
       "      <td>{'latitude': 40.64083, 'longitude': -73.94835}</td>\n",
       "      <td>['delivery', 'pickup']</td>\n",
       "      <td>$</td>\n",
       "      <td>{'address1': '1839 Nostrand Ave', 'address2': '', 'address3': '', 'city': 'Brooklyn', 'zip_code': '11226', 'country': 'US', 'state': 'NY', 'display_address': ['1839 Nostrand Ave', 'Brooklyn, NY 11...</td>\n",
       "      <td>+17188560821</td>\n",
       "      <td>(718) 856-0821</td>\n",
       "      <td>We've ordered from these folks a number of times on Grubhub and have always been extremely satisfied. We've never been to the actual store but I have called over there a few times with some questi...</td>\n",
       "    </tr>\n",
       "    <tr>\n",
       "      <th>...</th>\n",
       "      <td>...</td>\n",
       "      <td>...</td>\n",
       "      <td>...</td>\n",
       "      <td>...</td>\n",
       "      <td>...</td>\n",
       "      <td>...</td>\n",
       "      <td>...</td>\n",
       "      <td>...</td>\n",
       "      <td>...</td>\n",
       "      <td>...</td>\n",
       "      <td>...</td>\n",
       "      <td>...</td>\n",
       "      <td>...</td>\n",
       "      <td>...</td>\n",
       "      <td>...</td>\n",
       "      <td>...</td>\n",
       "      <td>...</td>\n",
       "      <td>...</td>\n",
       "      <td>...</td>\n",
       "      <td>...</td>\n",
       "      <td>...</td>\n",
       "      <td>...</td>\n",
       "      <td>...</td>\n",
       "      <td>...</td>\n",
       "      <td>...</td>\n",
       "      <td>...</td>\n",
       "      <td>...</td>\n",
       "      <td>...</td>\n",
       "      <td>...</td>\n",
       "      <td>...</td>\n",
       "    </tr>\n",
       "    <tr>\n",
       "      <th>18457</th>\n",
       "      <td>50113139</td>\n",
       "      <td>98K</td>\n",
       "      <td>Chicken</td>\n",
       "      <td>Brooklyn</td>\n",
       "      <td>12</td>\n",
       "      <td>BAY   25 STREET</td>\n",
       "      <td>11214.00</td>\n",
       "      <td>+17183331088</td>\n",
       "      <td>40.60</td>\n",
       "      <td>-74.00</td>\n",
       "      <td>311.00</td>\n",
       "      <td>47.00</td>\n",
       "      <td>28800.00</td>\n",
       "      <td>1</td>\n",
       "      <td>XHL1bVCv3zZskXXTiOk3Nw</td>\n",
       "      <td>munchies-cafe-brooklyn</td>\n",
       "      <td>Munchies Cafe</td>\n",
       "      <td>https://s3-media0.fl.yelpcdn.com/bphoto/b329J79tnMNzKATdFw5Lfg/o.jpg</td>\n",
       "      <td>True</td>\n",
       "      <td>https://www.yelp.com/biz/munchies-cafe-brooklyn?adjust_creative=82uXkAt1Tiw7u9_h33zr1A&amp;utm_campaign=yelp_api_v3&amp;utm_medium=api_v3_phone_search&amp;utm_source=82uXkAt1Tiw7u9_h33zr1A</td>\n",
       "      <td>137</td>\n",
       "      <td>[{'alias': 'desserts', 'title': 'Desserts'}, {'alias': 'chinese', 'title': 'Chinese'}]</td>\n",
       "      <td>3.50</td>\n",
       "      <td>{'latitude': 40.60394, 'longitude': -73.99796}</td>\n",
       "      <td>[]</td>\n",
       "      <td>$</td>\n",
       "      <td>{'address1': '12 Bay 25th St', 'address2': '', 'address3': '', 'city': 'Brooklyn', 'zip_code': '11214', 'country': 'US', 'state': 'NY', 'display_address': ['12 Bay 25th St', 'Brooklyn, NY 11214']}</td>\n",
       "      <td>+17183331088</td>\n",
       "      <td>(718) 333-1088</td>\n",
       "      <td>This is my go to dessert place since its nearby and affordable. The Ice-cream is extremely good, it tastes fresh and seems to be made with the fresh ingredients as well. The coconut and green tea ...</td>\n",
       "    </tr>\n",
       "    <tr>\n",
       "      <th>18458</th>\n",
       "      <td>50113139</td>\n",
       "      <td>98K</td>\n",
       "      <td>Chicken</td>\n",
       "      <td>Brooklyn</td>\n",
       "      <td>12</td>\n",
       "      <td>BAY   25 STREET</td>\n",
       "      <td>11214.00</td>\n",
       "      <td>+17183331088</td>\n",
       "      <td>40.60</td>\n",
       "      <td>-74.00</td>\n",
       "      <td>311.00</td>\n",
       "      <td>47.00</td>\n",
       "      <td>28800.00</td>\n",
       "      <td>1</td>\n",
       "      <td>--zlzg_JqUMb3KssgmT7MA</td>\n",
       "      <td>happy-home-cuisine-brooklyn</td>\n",
       "      <td>Happy Home Cuisine</td>\n",
       "      <td>https://s3-media0.fl.yelpcdn.com/bphoto/B2FPlMR4Nvu0roQlyMgVsg/o.jpg</td>\n",
       "      <td>True</td>\n",
       "      <td>https://www.yelp.com/biz/happy-home-cuisine-brooklyn?adjust_creative=82uXkAt1Tiw7u9_h33zr1A&amp;utm_campaign=yelp_api_v3&amp;utm_medium=api_v3_phone_search&amp;utm_source=82uXkAt1Tiw7u9_h33zr1A</td>\n",
       "      <td>36</td>\n",
       "      <td>[{'alias': 'bbq', 'title': 'Barbeque'}, {'alias': 'seafood', 'title': 'Seafood'}, {'alias': 'noodles', 'title': 'Noodles'}]</td>\n",
       "      <td>3.50</td>\n",
       "      <td>{'latitude': 40.6039450276978, 'longitude': -73.9979839324951}</td>\n",
       "      <td>['delivery']</td>\n",
       "      <td>$</td>\n",
       "      <td>{'address1': '12 Bay 25th St', 'address2': '', 'address3': None, 'city': 'Brooklyn', 'zip_code': '11214', 'country': 'US', 'state': 'NY', 'display_address': ['12 Bay 25th St', 'Brooklyn, NY 11214']}</td>\n",
       "      <td>+17183331088</td>\n",
       "      <td>(718) 333-1088</td>\n",
       "      <td>My family wanted bo zai fan and decided to come try here for outdoor dining on 10/3. There was 5 of us (plus baby stroller) sitting outside under the tent infront of the shop (indoor dining had ju...</td>\n",
       "    </tr>\n",
       "    <tr>\n",
       "      <th>18459</th>\n",
       "      <td>50113198</td>\n",
       "      <td>SENG SEAFOOD RESTAURANT</td>\n",
       "      <td>Seafood</td>\n",
       "      <td>Manhattan</td>\n",
       "      <td>39</td>\n",
       "      <td>EAST BROADWAY</td>\n",
       "      <td>10002.00</td>\n",
       "      <td>+16467999378</td>\n",
       "      <td>40.71</td>\n",
       "      <td>-74.00</td>\n",
       "      <td>103.00</td>\n",
       "      <td>1.00</td>\n",
       "      <td>800.00</td>\n",
       "      <td>0</td>\n",
       "      <td>rcwEQN8lxHzkr-QtfH_b8Q</td>\n",
       "      <td>seng-seafood-restaurant-new-york</td>\n",
       "      <td>Seng Seafood Restaurant</td>\n",
       "      <td>https://s3-media0.fl.yelpcdn.com/bphoto/VVyjCoK5-u1QCaUlq9UDtQ/o.jpg</td>\n",
       "      <td>False</td>\n",
       "      <td>https://www.yelp.com/biz/seng-seafood-restaurant-new-york?adjust_creative=82uXkAt1Tiw7u9_h33zr1A&amp;utm_campaign=yelp_api_v3&amp;utm_medium=api_v3_phone_search&amp;utm_source=82uXkAt1Tiw7u9_h33zr1A</td>\n",
       "      <td>21</td>\n",
       "      <td>[{'alias': 'dimsum', 'title': 'Dim Sum'}, {'alias': 'seafood', 'title': 'Seafood'}, {'alias': 'cantonese', 'title': 'Cantonese'}]</td>\n",
       "      <td>4.00</td>\n",
       "      <td>{'latitude': 40.71345, 'longitude': -73.9962}</td>\n",
       "      <td>['restaurant_reservation']</td>\n",
       "      <td>$$</td>\n",
       "      <td>{'address1': '39 E Broadway', 'address2': 'Fl 2', 'address3': None, 'city': 'New York', 'zip_code': '10002', 'country': 'US', 'state': 'NY', 'display_address': ['39 E Broadway', 'Fl 2', 'New York,...</td>\n",
       "      <td>+16467999378</td>\n",
       "      <td>(646) 799-9378</td>\n",
       "      <td>GREATEST PRICE FOR DIMSUM. You don't find prices like this anymore, not in NYC, not in Bay Area, not in Canada... It's $3.50 per dish (usually), and is pretty darn good. It hits the spot without b...</td>\n",
       "    </tr>\n",
       "    <tr>\n",
       "      <th>18460</th>\n",
       "      <td>50117350</td>\n",
       "      <td>SONG TEA</td>\n",
       "      <td>Coffee/Tea</td>\n",
       "      <td>Manhattan</td>\n",
       "      <td>488</td>\n",
       "      <td>7 AVENUE</td>\n",
       "      <td>10018.00</td>\n",
       "      <td>+16466697802</td>\n",
       "      <td>40.75</td>\n",
       "      <td>-73.99</td>\n",
       "      <td>105.00</td>\n",
       "      <td>3.00</td>\n",
       "      <td>10900.00</td>\n",
       "      <td>0</td>\n",
       "      <td>VAOGMSIeoou-6-Hnwsy5sw</td>\n",
       "      <td>song-tea-new-york</td>\n",
       "      <td>Song Tea</td>\n",
       "      <td>https://s3-media0.fl.yelpcdn.com/bphoto/HDrxhkHjJTqFYtEQp3zRew/o.jpg</td>\n",
       "      <td>False</td>\n",
       "      <td>https://www.yelp.com/biz/song-tea-new-york?adjust_creative=82uXkAt1Tiw7u9_h33zr1A&amp;utm_campaign=yelp_api_v3&amp;utm_medium=api_v3_phone_search&amp;utm_source=82uXkAt1Tiw7u9_h33zr1A</td>\n",
       "      <td>8</td>\n",
       "      <td>[{'alias': 'bubbletea', 'title': 'Bubble Tea'}]</td>\n",
       "      <td>4.00</td>\n",
       "      <td>{'latitude': 40.75255, 'longitude': -73.98972}</td>\n",
       "      <td>['delivery', 'pickup']</td>\n",
       "      <td>NaN</td>\n",
       "      <td>{'address1': '488 7th Ave', 'address2': '', 'address3': None, 'city': 'New York', 'zip_code': '10018', 'country': 'US', 'state': 'NY', 'display_address': ['488 7th Ave', 'New York, NY 10018']}</td>\n",
       "      <td>+16466697802</td>\n",
       "      <td>(646) 669-7802</td>\n",
       "      <td>I really like the drinks here that come with mochi.  It's a layer of gooey sticky ricecake that's really fun to drink through a straw, as opposed to individual pieces of mochi.Also the drinks have...</td>\n",
       "    </tr>\n",
       "    <tr>\n",
       "      <th>18461</th>\n",
       "      <td>50117959</td>\n",
       "      <td>SOL MAYA RESTAURANT</td>\n",
       "      <td>American</td>\n",
       "      <td>Manhattan</td>\n",
       "      <td>2061</td>\n",
       "      <td>2 AVENUE</td>\n",
       "      <td>10029.00</td>\n",
       "      <td>+12124106950</td>\n",
       "      <td>40.79</td>\n",
       "      <td>-73.94</td>\n",
       "      <td>111.00</td>\n",
       "      <td>8.00</td>\n",
       "      <td>17000.00</td>\n",
       "      <td>0</td>\n",
       "      <td>RUekg91-5EwrKjmFGkIleA</td>\n",
       "      <td>triple-a-1-restaurant-new-york</td>\n",
       "      <td>Triple A 1 Restaurant</td>\n",
       "      <td>https://s3-media0.fl.yelpcdn.com/bphoto/GoETPnK2Kye8xaND9lyf6g/o.jpg</td>\n",
       "      <td>False</td>\n",
       "      <td>https://www.yelp.com/biz/triple-a-1-restaurant-new-york?adjust_creative=82uXkAt1Tiw7u9_h33zr1A&amp;utm_campaign=yelp_api_v3&amp;utm_medium=api_v3_phone_search&amp;utm_source=82uXkAt1Tiw7u9_h33zr1A</td>\n",
       "      <td>61</td>\n",
       "      <td>[{'alias': 'diners', 'title': 'Diners'}, {'alias': 'mexican', 'title': 'Mexican'}, {'alias': 'breakfast_brunch', 'title': 'Breakfast &amp; Brunch'}]</td>\n",
       "      <td>3.50</td>\n",
       "      <td>{'latitude': 40.790588, 'longitude': -73.94281}</td>\n",
       "      <td>['delivery', 'pickup']</td>\n",
       "      <td>$</td>\n",
       "      <td>{'address1': '2061 2nd Ave', 'address2': '', 'address3': '', 'city': 'New York', 'zip_code': '10029', 'country': 'US', 'state': 'NY', 'display_address': ['2061 2nd Ave', 'New York, NY 10029']}</td>\n",
       "      <td>+12124106950</td>\n",
       "      <td>(212) 410-6950</td>\n",
       "      <td>Because I've been going here since I was 7 years old And never let me down some of the best food in myOpinion.Service is good but food is average and EXPENSIVE. We arrived around 9am and ordered f...</td>\n",
       "    </tr>\n",
       "  </tbody>\n",
       "</table>\n",
       "<p>18462 rows × 30 columns</p>\n",
       "</div>"
      ],
      "text/plain": [
       "          CAMIS                          DBA CUISINE DESCRIPTION       BORO  \\\n",
       "0      30112340                      WENDY'S          Hamburgers   Brooklyn   \n",
       "1      40356018             RIVIERA CATERERS            American   Brooklyn   \n",
       "2      40356483           WILKEN'S FINE FOOD          Sandwiches   Brooklyn   \n",
       "3      40356731  TASTE THE TROPICS ICE CREAM     Frozen Desserts   Brooklyn   \n",
       "4      40356731  TASTE THE TROPICS ICE CREAM     Frozen Desserts   Brooklyn   \n",
       "...         ...                          ...                 ...        ...   \n",
       "18457  50113139                          98K             Chicken   Brooklyn   \n",
       "18458  50113139                          98K             Chicken   Brooklyn   \n",
       "18459  50113198      SENG SEAFOOD RESTAURANT             Seafood  Manhattan   \n",
       "18460  50117350                     SONG TEA          Coffee/Tea  Manhattan   \n",
       "18461  50117959          SOL MAYA RESTAURANT            American  Manhattan   \n",
       "\n",
       "      BUILDING            STREET  ZIPCODE         PHONE  Latitude  Longitude  \\\n",
       "0          469   FLATBUSH AVENUE 11225.00  +17182875005     40.66     -73.96   \n",
       "1         2780  STILLWELL AVENUE 11224.00  +17183723031     40.58     -73.98   \n",
       "2         7114          AVENUE U 11234.00  +17184443838     40.62     -73.91   \n",
       "3         1839   NOSTRAND AVENUE 11226.00  +17188560821     40.64     -73.95   \n",
       "4         1839   NOSTRAND AVENUE 11226.00  +17188560821     40.64     -73.95   \n",
       "...        ...               ...      ...           ...       ...        ...   \n",
       "18457       12   BAY   25 STREET 11214.00  +17183331088     40.60     -74.00   \n",
       "18458       12   BAY   25 STREET 11214.00  +17183331088     40.60     -74.00   \n",
       "18459       39     EAST BROADWAY 10002.00  +16467999378     40.71     -74.00   \n",
       "18460      488          7 AVENUE 10018.00  +16466697802     40.75     -73.99   \n",
       "18461     2061          2 AVENUE 10029.00  +12124106950     40.79     -73.94   \n",
       "\n",
       "       Community Board  Council District  Census Tract  Severe  \\\n",
       "0               309.00             40.00      32700.00       0   \n",
       "1               313.00             47.00      34800.00       0   \n",
       "2               318.00             46.00      70000.00       0   \n",
       "3               317.00             45.00      82800.00       0   \n",
       "4               317.00             45.00      82800.00       0   \n",
       "...                ...               ...           ...     ...   \n",
       "18457           311.00             47.00      28800.00       1   \n",
       "18458           311.00             47.00      28800.00       1   \n",
       "18459           103.00              1.00        800.00       0   \n",
       "18460           105.00              3.00      10900.00       0   \n",
       "18461           111.00              8.00      17000.00       0   \n",
       "\n",
       "                           id                             alias  \\\n",
       "0      AMxMPBkWi20dn_1BRalahA                 wendys-brooklyn-4   \n",
       "1      g8fAhVqBsC-BN6otcn85OA         riviera-caterers-brooklyn   \n",
       "2      Pe6MsH2DW0CXjvUtxUpI4A     wilkens-fine-foods-brooklyn-2   \n",
       "3      Q18r5FKi2qkQhtKZqWR8ww    taste-the-tropics-usa-brooklyn   \n",
       "4      Q18r5FKi2qkQhtKZqWR8ww    taste-the-tropics-usa-brooklyn   \n",
       "...                       ...                               ...   \n",
       "18457  XHL1bVCv3zZskXXTiOk3Nw            munchies-cafe-brooklyn   \n",
       "18458  --zlzg_JqUMb3KssgmT7MA       happy-home-cuisine-brooklyn   \n",
       "18459  rcwEQN8lxHzkr-QtfH_b8Q  seng-seafood-restaurant-new-york   \n",
       "18460  VAOGMSIeoou-6-Hnwsy5sw                 song-tea-new-york   \n",
       "18461  RUekg91-5EwrKjmFGkIleA    triple-a-1-restaurant-new-york   \n",
       "\n",
       "                          name  \\\n",
       "0                      Wendy's   \n",
       "1             Riviera Caterers   \n",
       "2           Wilkens Fine Foods   \n",
       "3        Taste the Tropics USA   \n",
       "4        Taste the Tropics USA   \n",
       "...                        ...   \n",
       "18457            Munchies Cafe   \n",
       "18458       Happy Home Cuisine   \n",
       "18459  Seng Seafood Restaurant   \n",
       "18460                 Song Tea   \n",
       "18461    Triple A 1 Restaurant   \n",
       "\n",
       "                                                                  image_url  \\\n",
       "0      https://s3-media0.fl.yelpcdn.com/bphoto/fR70FbX4_WV2-ofhsE89YA/o.jpg   \n",
       "1      https://s3-media0.fl.yelpcdn.com/bphoto/5qZ27Uarz2kNWxV3KktK1g/o.jpg   \n",
       "2      https://s3-media0.fl.yelpcdn.com/bphoto/gOyUSHz_oJWiN9Nw0AEpVg/o.jpg   \n",
       "3      https://s3-media0.fl.yelpcdn.com/bphoto/xW8S_DHdStqZiqjwQ_UUKw/o.jpg   \n",
       "4      https://s3-media0.fl.yelpcdn.com/bphoto/xW8S_DHdStqZiqjwQ_UUKw/o.jpg   \n",
       "...                                                                     ...   \n",
       "18457  https://s3-media0.fl.yelpcdn.com/bphoto/b329J79tnMNzKATdFw5Lfg/o.jpg   \n",
       "18458  https://s3-media0.fl.yelpcdn.com/bphoto/B2FPlMR4Nvu0roQlyMgVsg/o.jpg   \n",
       "18459  https://s3-media0.fl.yelpcdn.com/bphoto/VVyjCoK5-u1QCaUlq9UDtQ/o.jpg   \n",
       "18460  https://s3-media0.fl.yelpcdn.com/bphoto/HDrxhkHjJTqFYtEQp3zRew/o.jpg   \n",
       "18461  https://s3-media0.fl.yelpcdn.com/bphoto/GoETPnK2Kye8xaND9lyf6g/o.jpg   \n",
       "\n",
       "       is_closed  \\\n",
       "0          False   \n",
       "1          False   \n",
       "2          False   \n",
       "3          False   \n",
       "4          False   \n",
       "...          ...   \n",
       "18457       True   \n",
       "18458       True   \n",
       "18459      False   \n",
       "18460      False   \n",
       "18461      False   \n",
       "\n",
       "                                                                                                                                                                                              url  \\\n",
       "0                     https://www.yelp.com/biz/wendys-brooklyn-4?adjust_creative=82uXkAt1Tiw7u9_h33zr1A&utm_campaign=yelp_api_v3&utm_medium=api_v3_phone_search&utm_source=82uXkAt1Tiw7u9_h33zr1A   \n",
       "1             https://www.yelp.com/biz/riviera-caterers-brooklyn?adjust_creative=82uXkAt1Tiw7u9_h33zr1A&utm_campaign=yelp_api_v3&utm_medium=api_v3_phone_search&utm_source=82uXkAt1Tiw7u9_h33zr1A   \n",
       "2         https://www.yelp.com/biz/wilkens-fine-foods-brooklyn-2?adjust_creative=82uXkAt1Tiw7u9_h33zr1A&utm_campaign=yelp_api_v3&utm_medium=api_v3_phone_search&utm_source=82uXkAt1Tiw7u9_h33zr1A   \n",
       "3        https://www.yelp.com/biz/taste-the-tropics-usa-brooklyn?adjust_creative=82uXkAt1Tiw7u9_h33zr1A&utm_campaign=yelp_api_v3&utm_medium=api_v3_phone_search&utm_source=82uXkAt1Tiw7u9_h33zr1A   \n",
       "4        https://www.yelp.com/biz/taste-the-tropics-usa-brooklyn?adjust_creative=82uXkAt1Tiw7u9_h33zr1A&utm_campaign=yelp_api_v3&utm_medium=api_v3_phone_search&utm_source=82uXkAt1Tiw7u9_h33zr1A   \n",
       "...                                                                                                                                                                                           ...   \n",
       "18457            https://www.yelp.com/biz/munchies-cafe-brooklyn?adjust_creative=82uXkAt1Tiw7u9_h33zr1A&utm_campaign=yelp_api_v3&utm_medium=api_v3_phone_search&utm_source=82uXkAt1Tiw7u9_h33zr1A   \n",
       "18458       https://www.yelp.com/biz/happy-home-cuisine-brooklyn?adjust_creative=82uXkAt1Tiw7u9_h33zr1A&utm_campaign=yelp_api_v3&utm_medium=api_v3_phone_search&utm_source=82uXkAt1Tiw7u9_h33zr1A   \n",
       "18459  https://www.yelp.com/biz/seng-seafood-restaurant-new-york?adjust_creative=82uXkAt1Tiw7u9_h33zr1A&utm_campaign=yelp_api_v3&utm_medium=api_v3_phone_search&utm_source=82uXkAt1Tiw7u9_h33zr1A   \n",
       "18460                 https://www.yelp.com/biz/song-tea-new-york?adjust_creative=82uXkAt1Tiw7u9_h33zr1A&utm_campaign=yelp_api_v3&utm_medium=api_v3_phone_search&utm_source=82uXkAt1Tiw7u9_h33zr1A   \n",
       "18461    https://www.yelp.com/biz/triple-a-1-restaurant-new-york?adjust_creative=82uXkAt1Tiw7u9_h33zr1A&utm_campaign=yelp_api_v3&utm_medium=api_v3_phone_search&utm_source=82uXkAt1Tiw7u9_h33zr1A   \n",
       "\n",
       "       review_count  \\\n",
       "0                55   \n",
       "1                55   \n",
       "2                54   \n",
       "3                49   \n",
       "4                49   \n",
       "...             ...   \n",
       "18457           137   \n",
       "18458            36   \n",
       "18459            21   \n",
       "18460             8   \n",
       "18461            61   \n",
       "\n",
       "                                                                                                                                             categories  \\\n",
       "0                                                                [{'alias': 'hotdogs', 'title': 'Fast Food'}, {'alias': 'burgers', 'title': 'Burgers'}]   \n",
       "1                                                                                                          [{'alias': 'catering', 'title': 'Caterers'}]   \n",
       "2                                                                                                                [{'alias': 'delis', 'title': 'Delis'}]   \n",
       "3                                                                                         [{'alias': 'icecream', 'title': 'Ice Cream & Frozen Yogurt'}]   \n",
       "4                                                                                         [{'alias': 'icecream', 'title': 'Ice Cream & Frozen Yogurt'}]   \n",
       "...                                                                                                                                                 ...   \n",
       "18457                                                            [{'alias': 'desserts', 'title': 'Desserts'}, {'alias': 'chinese', 'title': 'Chinese'}]   \n",
       "18458                       [{'alias': 'bbq', 'title': 'Barbeque'}, {'alias': 'seafood', 'title': 'Seafood'}, {'alias': 'noodles', 'title': 'Noodles'}]   \n",
       "18459                 [{'alias': 'dimsum', 'title': 'Dim Sum'}, {'alias': 'seafood', 'title': 'Seafood'}, {'alias': 'cantonese', 'title': 'Cantonese'}]   \n",
       "18460                                                                                                   [{'alias': 'bubbletea', 'title': 'Bubble Tea'}]   \n",
       "18461  [{'alias': 'diners', 'title': 'Diners'}, {'alias': 'mexican', 'title': 'Mexican'}, {'alias': 'breakfast_brunch', 'title': 'Breakfast & Brunch'}]   \n",
       "\n",
       "       rating                                                     coordinates  \\\n",
       "0        1.50                {'latitude': 40.662952, 'longitude': -73.961753}   \n",
       "1        4.50                  {'latitude': 40.57952, 'longitude': -73.98243}   \n",
       "2        3.00                   {'latitude': 40.6199, 'longitude': -73.90685}   \n",
       "3        4.50                  {'latitude': 40.64083, 'longitude': -73.94835}   \n",
       "4        4.50                  {'latitude': 40.64083, 'longitude': -73.94835}   \n",
       "...       ...                                                             ...   \n",
       "18457    3.50                  {'latitude': 40.60394, 'longitude': -73.99796}   \n",
       "18458    3.50  {'latitude': 40.6039450276978, 'longitude': -73.9979839324951}   \n",
       "18459    4.00                   {'latitude': 40.71345, 'longitude': -73.9962}   \n",
       "18460    4.00                  {'latitude': 40.75255, 'longitude': -73.98972}   \n",
       "18461    3.50                 {'latitude': 40.790588, 'longitude': -73.94281}   \n",
       "\n",
       "                     transactions price  \\\n",
       "0                    ['delivery']     $   \n",
       "1                              []   NaN   \n",
       "2          ['pickup', 'delivery']    $$   \n",
       "3          ['pickup', 'delivery']     $   \n",
       "4          ['delivery', 'pickup']     $   \n",
       "...                           ...   ...   \n",
       "18457                          []     $   \n",
       "18458                ['delivery']     $   \n",
       "18459  ['restaurant_reservation']    $$   \n",
       "18460      ['delivery', 'pickup']   NaN   \n",
       "18461      ['delivery', 'pickup']     $   \n",
       "\n",
       "                                                                                                                                                                                                      location  \\\n",
       "0      {'address1': '469 Flatbush Ave', 'address2': '', 'address3': '', 'city': 'Brooklyn', 'zip_code': '11225', 'country': 'US', 'state': 'NY', 'display_address': ['469 Flatbush Ave', 'Brooklyn, NY 1122...   \n",
       "1      {'address1': '2780 Stillwell Ave', 'address2': '', 'address3': '', 'city': 'Brooklyn', 'zip_code': '11224', 'country': 'US', 'state': 'NY', 'display_address': ['2780 Stillwell Ave', 'Brooklyn, NY ...   \n",
       "2                 {'address1': '7114 Ave U', 'address2': '', 'address3': '', 'city': 'Brooklyn', 'zip_code': '11234', 'country': 'US', 'state': 'NY', 'display_address': ['7114 Ave U', 'Brooklyn, NY 11234']}   \n",
       "3      {'address1': '1839 Nostrand Ave', 'address2': '', 'address3': '', 'city': 'Brooklyn', 'zip_code': '11226', 'country': 'US', 'state': 'NY', 'display_address': ['1839 Nostrand Ave', 'Brooklyn, NY 11...   \n",
       "4      {'address1': '1839 Nostrand Ave', 'address2': '', 'address3': '', 'city': 'Brooklyn', 'zip_code': '11226', 'country': 'US', 'state': 'NY', 'display_address': ['1839 Nostrand Ave', 'Brooklyn, NY 11...   \n",
       "...                                                                                                                                                                                                        ...   \n",
       "18457     {'address1': '12 Bay 25th St', 'address2': '', 'address3': '', 'city': 'Brooklyn', 'zip_code': '11214', 'country': 'US', 'state': 'NY', 'display_address': ['12 Bay 25th St', 'Brooklyn, NY 11214']}   \n",
       "18458   {'address1': '12 Bay 25th St', 'address2': '', 'address3': None, 'city': 'Brooklyn', 'zip_code': '11214', 'country': 'US', 'state': 'NY', 'display_address': ['12 Bay 25th St', 'Brooklyn, NY 11214']}   \n",
       "18459  {'address1': '39 E Broadway', 'address2': 'Fl 2', 'address3': None, 'city': 'New York', 'zip_code': '10002', 'country': 'US', 'state': 'NY', 'display_address': ['39 E Broadway', 'Fl 2', 'New York,...   \n",
       "18460         {'address1': '488 7th Ave', 'address2': '', 'address3': None, 'city': 'New York', 'zip_code': '10018', 'country': 'US', 'state': 'NY', 'display_address': ['488 7th Ave', 'New York, NY 10018']}   \n",
       "18461         {'address1': '2061 2nd Ave', 'address2': '', 'address3': '', 'city': 'New York', 'zip_code': '10029', 'country': 'US', 'state': 'NY', 'display_address': ['2061 2nd Ave', 'New York, NY 10029']}   \n",
       "\n",
       "              phone   display_phone  \\\n",
       "0      +17182875005  (718) 287-5005   \n",
       "1      +17183723031  (718) 372-3031   \n",
       "2      +17184443838  (718) 444-3838   \n",
       "3      +17188560821  (718) 856-0821   \n",
       "4      +17188560821  (718) 856-0821   \n",
       "...             ...             ...   \n",
       "18457  +17183331088  (718) 333-1088   \n",
       "18458  +17183331088  (718) 333-1088   \n",
       "18459  +16467999378  (646) 799-9378   \n",
       "18460  +16466697802  (646) 669-7802   \n",
       "18461  +12124106950  (212) 410-6950   \n",
       "\n",
       "                                                                                                                                                                                                       Reviews  \n",
       "0      Forgot my root beer and the burger tasted very weird.If I can give this place no stars I absolutely would. The workers here are in efficient.  They do not work the best possible way. They cause th...  \n",
       "1      I had my wedding here a month ago and I would give Riviera 10 stars if I could. It was such a joy and ease to work with Adam, Tommy, and their staff.  A true diamond in the rough of Coney Island a...  \n",
       "2      We've recently discovered this gem on Uber Eats and they have the best sandwiches!!The broccoli rabe fried eggplant mozzarella sandwich was amazing. Having a fresh green veggie paired with a light...  \n",
       "3      We've ordered from these folks a number of times on Grubhub and have always been extremely satisfied. We've never been to the actual store but I have called over there a few times with some questi...  \n",
       "4      We've ordered from these folks a number of times on Grubhub and have always been extremely satisfied. We've never been to the actual store but I have called over there a few times with some questi...  \n",
       "...                                                                                                                                                                                                        ...  \n",
       "18457  This is my go to dessert place since its nearby and affordable. The Ice-cream is extremely good, it tastes fresh and seems to be made with the fresh ingredients as well. The coconut and green tea ...  \n",
       "18458  My family wanted bo zai fan and decided to come try here for outdoor dining on 10/3. There was 5 of us (plus baby stroller) sitting outside under the tent infront of the shop (indoor dining had ju...  \n",
       "18459  GREATEST PRICE FOR DIMSUM. You don't find prices like this anymore, not in NYC, not in Bay Area, not in Canada... It's $3.50 per dish (usually), and is pretty darn good. It hits the spot without b...  \n",
       "18460  I really like the drinks here that come with mochi.  It's a layer of gooey sticky ricecake that's really fun to drink through a straw, as opposed to individual pieces of mochi.Also the drinks have...  \n",
       "18461  Because I've been going here since I was 7 years old And never let me down some of the best food in myOpinion.Service is good but food is average and EXPENSIVE. We arrived around 9am and ordered f...  \n",
       "\n",
       "[18462 rows x 30 columns]"
      ]
     },
     "execution_count": 77,
     "metadata": {},
     "output_type": "execute_result"
    }
   ],
   "source": [
    "# Saving merged dataset to csv\n",
    "# df_1.to_csv('full_dataset.csv')\n",
    "df_1"
   ]
  },
  {
   "cell_type": "code",
   "execution_count": 78,
   "metadata": {
    "ExecuteTime": {
     "end_time": "2022-08-03T21:54:10.509393Z",
     "start_time": "2022-08-03T21:54:10.404979Z"
    }
   },
   "outputs": [
    {
     "name": "stdout",
     "output_type": "stream",
     "text": [
      "<class 'pandas.core.frame.DataFrame'>\n",
      "Int64Index: 18462 entries, 0 to 18461\n",
      "Data columns (total 30 columns):\n",
      " #   Column               Non-Null Count  Dtype  \n",
      "---  ------               --------------  -----  \n",
      " 0   CAMIS                18462 non-null  int64  \n",
      " 1   DBA                  18461 non-null  object \n",
      " 2   CUISINE DESCRIPTION  18462 non-null  object \n",
      " 3   BORO                 18462 non-null  object \n",
      " 4   BUILDING             18302 non-null  object \n",
      " 5   STREET               18462 non-null  object \n",
      " 6   ZIPCODE              18168 non-null  float64\n",
      " 7   PHONE                18462 non-null  object \n",
      " 8   Latitude             18420 non-null  float64\n",
      " 9   Longitude            18420 non-null  float64\n",
      " 10  Community Board      17992 non-null  float64\n",
      " 11  Council District     17992 non-null  float64\n",
      " 12  Census Tract         17992 non-null  float64\n",
      " 13  Severe               18462 non-null  int64  \n",
      " 14  id                   18462 non-null  object \n",
      " 15  alias                18462 non-null  object \n",
      " 16  name                 18462 non-null  object \n",
      " 17  image_url            17672 non-null  object \n",
      " 18  is_closed            18462 non-null  bool   \n",
      " 19  url                  18462 non-null  object \n",
      " 20  review_count         18462 non-null  int64  \n",
      " 21  categories           18462 non-null  object \n",
      " 22  rating               18462 non-null  float64\n",
      " 23  coordinates          18462 non-null  object \n",
      " 24  transactions         18462 non-null  object \n",
      " 25  price                15391 non-null  object \n",
      " 26  location             18462 non-null  object \n",
      " 27  phone                18462 non-null  object \n",
      " 28  display_phone        18462 non-null  object \n",
      " 29  Reviews              15681 non-null  object \n",
      "dtypes: bool(1), float64(7), int64(3), object(19)\n",
      "memory usage: 4.2+ MB\n"
     ]
    }
   ],
   "source": [
    "df_1.info()"
   ]
  },
  {
   "cell_type": "markdown",
   "metadata": {},
   "source": [
    "# Scrubbing The Data"
   ]
  },
  {
   "cell_type": "code",
   "execution_count": null,
   "metadata": {
    "ExecuteTime": {
     "end_time": "2022-07-26T17:22:05.116778Z",
     "start_time": "2022-07-26T17:22:05.112335Z"
    }
   },
   "outputs": [],
   "source": [
    "# Get missing reviews\n",
    "# Drop businesses missing reviews\n",
    "# Drop unneccessary columns\n",
    "# Check duplicates\n",
    "# ??Feature Engineering\n",
    "# Get coordinates\n",
    "# Get takeout/delivery\n",
    "# Get $$$$"
   ]
  },
  {
   "cell_type": "markdown",
   "metadata": {},
   "source": [
    "## Getting missing reviews"
   ]
  },
  {
   "cell_type": "code",
   "execution_count": 115,
   "metadata": {
    "ExecuteTime": {
     "end_time": "2022-08-03T22:27:59.113181Z",
     "start_time": "2022-08-03T22:27:59.095660Z"
    }
   },
   "outputs": [
    {
     "name": "stdout",
     "output_type": "stream",
     "text": [
      "There are 2781 businesses missing review data.\n"
     ]
    }
   ],
   "source": [
    "missing_reviews = df_1[df_1.Reviews.isna()]\n",
    "urls = missing_reviews['url']\n",
    "print('There are ' + str(len(list(urls))) + ' businesses missing review data.')"
   ]
  },
  {
   "cell_type": "code",
   "execution_count": 80,
   "metadata": {
    "ExecuteTime": {
     "end_time": "2022-08-03T21:56:43.701422Z",
     "start_time": "2022-08-03T21:56:43.696825Z"
    }
   },
   "outputs": [],
   "source": [
    "# Re-running function from above with the list of urls missing reviews\n",
    "if call_apis == True:\n",
    "    adding_reviews = get_text(list(urls))"
   ]
  },
  {
   "cell_type": "code",
   "execution_count": 81,
   "metadata": {
    "ExecuteTime": {
     "end_time": "2022-08-03T21:56:46.938639Z",
     "start_time": "2022-08-03T21:56:46.934181Z"
    }
   },
   "outputs": [],
   "source": [
    "# Saving the review text as a csv to the repository\n",
    "if call_apis == True:\n",
    "    mssing_rvws = pd.DataFrame(adding_reviews,columns=['Review_Text'])\n",
    "    mssing_rvws.to_csv('mssing_rvws.csv',index=False)"
   ]
  },
  {
   "cell_type": "code",
   "execution_count": 116,
   "metadata": {
    "ExecuteTime": {
     "end_time": "2022-08-03T22:28:21.965233Z",
     "start_time": "2022-08-03T22:28:21.708529Z"
    }
   },
   "outputs": [
    {
     "data": {
      "text/html": [
       "<div>\n",
       "<style scoped>\n",
       "    .dataframe tbody tr th:only-of-type {\n",
       "        vertical-align: middle;\n",
       "    }\n",
       "\n",
       "    .dataframe tbody tr th {\n",
       "        vertical-align: top;\n",
       "    }\n",
       "\n",
       "    .dataframe thead th {\n",
       "        text-align: right;\n",
       "    }\n",
       "</style>\n",
       "<table border=\"1\" class=\"dataframe\">\n",
       "  <thead>\n",
       "    <tr style=\"text-align: right;\">\n",
       "      <th></th>\n",
       "      <th>Review_Text</th>\n",
       "    </tr>\n",
       "  </thead>\n",
       "  <tbody>\n",
       "    <tr>\n",
       "      <th>0</th>\n",
       "      <td>We've ordered from these folks a number of times on Grubhub and have always been extremely satisfied. We've never been to the actual store but I have called over there a few times with some questi...</td>\n",
       "    </tr>\n",
       "    <tr>\n",
       "      <th>1</th>\n",
       "      <td>This place, in my opinion, is a hidden gem. All my friends and I eat here during the school day once, if not twice, per day. Lovely workers that know our orders, and make delicious sandwiches. Cle...</td>\n",
       "    </tr>\n",
       "    <tr>\n",
       "      <th>2</th>\n",
       "      <td>3.5 stars. 20 dollars for two bagels with bacon and cream cheese and a medium iced coffee. Heard it was the best in nyc but they are okay in my opinion. Coffee was good. Was the 30 min commute wor...</td>\n",
       "    </tr>\n",
       "    <tr>\n",
       "      <th>3</th>\n",
       "      <td>Very intrigued by the Italian decorations and the variety in the menu so we went inside. Greeted by amazing service. Everyone was very nice and kind, made me feel very welcomed, like part of the f...</td>\n",
       "    </tr>\n",
       "    <tr>\n",
       "      <th>4</th>\n",
       "      <td>This is a classic NY joint, a la McSorley's. When a project blew up, my friend asked if we could do something casual rather than Restaurant Week fine dining. And he's in Brooklyn so this is sorta ...</td>\n",
       "    </tr>\n",
       "  </tbody>\n",
       "</table>\n",
       "</div>"
      ],
      "text/plain": [
       "                                                                                                                                                                                               Review_Text\n",
       "0  We've ordered from these folks a number of times on Grubhub and have always been extremely satisfied. We've never been to the actual store but I have called over there a few times with some questi...\n",
       "1  This place, in my opinion, is a hidden gem. All my friends and I eat here during the school day once, if not twice, per day. Lovely workers that know our orders, and make delicious sandwiches. Cle...\n",
       "2  3.5 stars. 20 dollars for two bagels with bacon and cream cheese and a medium iced coffee. Heard it was the best in nyc but they are okay in my opinion. Coffee was good. Was the 30 min commute wor...\n",
       "3  Very intrigued by the Italian decorations and the variety in the menu so we went inside. Greeted by amazing service. Everyone was very nice and kind, made me feel very welcomed, like part of the f...\n",
       "4  This is a classic NY joint, a la McSorley's. When a project blew up, my friend asked if we could do something casual rather than Restaurant Week fine dining. And he's in Brooklyn so this is sorta ..."
      ]
     },
     "execution_count": 116,
     "metadata": {},
     "output_type": "execute_result"
    }
   ],
   "source": [
    "adding_reviews = pd.read_csv('mssing_rvws.csv')\n",
    "adding_reviews.head()"
   ]
  },
  {
   "cell_type": "code",
   "execution_count": 117,
   "metadata": {
    "ExecuteTime": {
     "end_time": "2022-08-03T22:31:04.990760Z",
     "start_time": "2022-08-03T22:31:04.958480Z"
    }
   },
   "outputs": [
    {
     "data": {
      "text/html": [
       "<div>\n",
       "<style scoped>\n",
       "    .dataframe tbody tr th:only-of-type {\n",
       "        vertical-align: middle;\n",
       "    }\n",
       "\n",
       "    .dataframe tbody tr th {\n",
       "        vertical-align: top;\n",
       "    }\n",
       "\n",
       "    .dataframe thead th {\n",
       "        text-align: right;\n",
       "    }\n",
       "</style>\n",
       "<table border=\"1\" class=\"dataframe\">\n",
       "  <thead>\n",
       "    <tr style=\"text-align: right;\">\n",
       "      <th></th>\n",
       "      <th>index</th>\n",
       "      <th>url</th>\n",
       "      <th>Review_Text</th>\n",
       "    </tr>\n",
       "  </thead>\n",
       "  <tbody>\n",
       "    <tr>\n",
       "      <th>0</th>\n",
       "      <td>5</td>\n",
       "      <td>https://www.yelp.com/biz/taste-the-tropics-usa-brooklyn?adjust_creative=82uXkAt1Tiw7u9_h33zr1A&amp;utm_campaign=yelp_api_v3&amp;utm_medium=api_v3_phone_search&amp;utm_source=82uXkAt1Tiw7u9_h33zr1A</td>\n",
       "      <td>We've ordered from these folks a number of times on Grubhub and have always been extremely satisfied. We've never been to the actual store but I have called over there a few times with some questi...</td>\n",
       "    </tr>\n",
       "    <tr>\n",
       "      <th>1</th>\n",
       "      <td>11</td>\n",
       "      <td>https://www.yelp.com/biz/ps-deli-and-grocery-manhattan?adjust_creative=82uXkAt1Tiw7u9_h33zr1A&amp;utm_campaign=yelp_api_v3&amp;utm_medium=api_v3_phone_search&amp;utm_source=82uXkAt1Tiw7u9_h33zr1A</td>\n",
       "      <td>This place, in my opinion, is a hidden gem. All my friends and I eat here during the school day once, if not twice, per day. Lovely workers that know our orders, and make delicious sandwiches. Cle...</td>\n",
       "    </tr>\n",
       "    <tr>\n",
       "      <th>2</th>\n",
       "      <td>15</td>\n",
       "      <td>https://www.yelp.com/biz/p-and-c-bagels-middle-village?adjust_creative=82uXkAt1Tiw7u9_h33zr1A&amp;utm_campaign=yelp_api_v3&amp;utm_medium=api_v3_phone_search&amp;utm_source=82uXkAt1Tiw7u9_h33zr1A</td>\n",
       "      <td>3.5 stars. 20 dollars for two bagels with bacon and cream cheese and a medium iced coffee. Heard it was the best in nyc but they are okay in my opinion. Coffee was good. Was the 30 min commute wor...</td>\n",
       "    </tr>\n",
       "    <tr>\n",
       "      <th>3</th>\n",
       "      <td>35</td>\n",
       "      <td>https://www.yelp.com/biz/isle-of-capri-new-york-2?adjust_creative=82uXkAt1Tiw7u9_h33zr1A&amp;utm_campaign=yelp_api_v3&amp;utm_medium=api_v3_phone_search&amp;utm_source=82uXkAt1Tiw7u9_h33zr1A</td>\n",
       "      <td>Very intrigued by the Italian decorations and the variety in the menu so we went inside. Greeted by amazing service. Everyone was very nice and kind, made me feel very welcomed, like part of the f...</td>\n",
       "    </tr>\n",
       "    <tr>\n",
       "      <th>4</th>\n",
       "      <td>37</td>\n",
       "      <td>https://www.yelp.com/biz/old-town-bar-and-restaurant-new-york?adjust_creative=82uXkAt1Tiw7u9_h33zr1A&amp;utm_campaign=yelp_api_v3&amp;utm_medium=api_v3_phone_search&amp;utm_source=82uXkAt1Tiw7u9_h33zr1A</td>\n",
       "      <td>This is a classic NY joint, a la McSorley's. When a project blew up, my friend asked if we could do something casual rather than Restaurant Week fine dining. And he's in Brooklyn so this is sorta ...</td>\n",
       "    </tr>\n",
       "    <tr>\n",
       "      <th>...</th>\n",
       "      <td>...</td>\n",
       "      <td>...</td>\n",
       "      <td>...</td>\n",
       "    </tr>\n",
       "    <tr>\n",
       "      <th>2776</th>\n",
       "      <td>18427</td>\n",
       "      <td>https://www.yelp.com/biz/tics-bar-and-restaurant-south-ozone-park?adjust_creative=82uXkAt1Tiw7u9_h33zr1A&amp;utm_campaign=yelp_api_v3&amp;utm_medium=api_v3_phone_search&amp;utm_source=82uXkAt1Tiw7u9_h33zr1A</td>\n",
       "      <td>NaN</td>\n",
       "    </tr>\n",
       "    <tr>\n",
       "      <th>2777</th>\n",
       "      <td>18438</td>\n",
       "      <td>https://www.yelp.com/biz/b-mvmnt-new-york?adjust_creative=82uXkAt1Tiw7u9_h33zr1A&amp;utm_campaign=yelp_api_v3&amp;utm_medium=api_v3_phone_search&amp;utm_source=82uXkAt1Tiw7u9_h33zr1A</td>\n",
       "      <td>NaN</td>\n",
       "    </tr>\n",
       "    <tr>\n",
       "      <th>2778</th>\n",
       "      <td>18444</td>\n",
       "      <td>https://www.yelp.com/biz/lower-east-side-pizza-new-york-2?adjust_creative=82uXkAt1Tiw7u9_h33zr1A&amp;utm_campaign=yelp_api_v3&amp;utm_medium=api_v3_phone_search&amp;utm_source=82uXkAt1Tiw7u9_h33zr1A</td>\n",
       "      <td>NaN</td>\n",
       "    </tr>\n",
       "    <tr>\n",
       "      <th>2779</th>\n",
       "      <td>18448</td>\n",
       "      <td>https://www.yelp.com/biz/east-wind-snack-shop-brooklyn?adjust_creative=82uXkAt1Tiw7u9_h33zr1A&amp;utm_campaign=yelp_api_v3&amp;utm_medium=api_v3_phone_search&amp;utm_source=82uXkAt1Tiw7u9_h33zr1A</td>\n",
       "      <td>NaN</td>\n",
       "    </tr>\n",
       "    <tr>\n",
       "      <th>2780</th>\n",
       "      <td>18451</td>\n",
       "      <td>https://www.yelp.com/biz/dunkin-forest-hills-5?adjust_creative=82uXkAt1Tiw7u9_h33zr1A&amp;utm_campaign=yelp_api_v3&amp;utm_medium=api_v3_phone_search&amp;utm_source=82uXkAt1Tiw7u9_h33zr1A</td>\n",
       "      <td>NaN</td>\n",
       "    </tr>\n",
       "  </tbody>\n",
       "</table>\n",
       "<p>2781 rows × 3 columns</p>\n",
       "</div>"
      ],
      "text/plain": [
       "      index  \\\n",
       "0         5   \n",
       "1        11   \n",
       "2        15   \n",
       "3        35   \n",
       "4        37   \n",
       "...     ...   \n",
       "2776  18427   \n",
       "2777  18438   \n",
       "2778  18444   \n",
       "2779  18448   \n",
       "2780  18451   \n",
       "\n",
       "                                                                                                                                                                                                     url  \\\n",
       "0               https://www.yelp.com/biz/taste-the-tropics-usa-brooklyn?adjust_creative=82uXkAt1Tiw7u9_h33zr1A&utm_campaign=yelp_api_v3&utm_medium=api_v3_phone_search&utm_source=82uXkAt1Tiw7u9_h33zr1A   \n",
       "1                https://www.yelp.com/biz/ps-deli-and-grocery-manhattan?adjust_creative=82uXkAt1Tiw7u9_h33zr1A&utm_campaign=yelp_api_v3&utm_medium=api_v3_phone_search&utm_source=82uXkAt1Tiw7u9_h33zr1A   \n",
       "2                https://www.yelp.com/biz/p-and-c-bagels-middle-village?adjust_creative=82uXkAt1Tiw7u9_h33zr1A&utm_campaign=yelp_api_v3&utm_medium=api_v3_phone_search&utm_source=82uXkAt1Tiw7u9_h33zr1A   \n",
       "3                     https://www.yelp.com/biz/isle-of-capri-new-york-2?adjust_creative=82uXkAt1Tiw7u9_h33zr1A&utm_campaign=yelp_api_v3&utm_medium=api_v3_phone_search&utm_source=82uXkAt1Tiw7u9_h33zr1A   \n",
       "4         https://www.yelp.com/biz/old-town-bar-and-restaurant-new-york?adjust_creative=82uXkAt1Tiw7u9_h33zr1A&utm_campaign=yelp_api_v3&utm_medium=api_v3_phone_search&utm_source=82uXkAt1Tiw7u9_h33zr1A   \n",
       "...                                                                                                                                                                                                  ...   \n",
       "2776  https://www.yelp.com/biz/tics-bar-and-restaurant-south-ozone-park?adjust_creative=82uXkAt1Tiw7u9_h33zr1A&utm_campaign=yelp_api_v3&utm_medium=api_v3_phone_search&utm_source=82uXkAt1Tiw7u9_h33zr1A   \n",
       "2777                          https://www.yelp.com/biz/b-mvmnt-new-york?adjust_creative=82uXkAt1Tiw7u9_h33zr1A&utm_campaign=yelp_api_v3&utm_medium=api_v3_phone_search&utm_source=82uXkAt1Tiw7u9_h33zr1A   \n",
       "2778          https://www.yelp.com/biz/lower-east-side-pizza-new-york-2?adjust_creative=82uXkAt1Tiw7u9_h33zr1A&utm_campaign=yelp_api_v3&utm_medium=api_v3_phone_search&utm_source=82uXkAt1Tiw7u9_h33zr1A   \n",
       "2779             https://www.yelp.com/biz/east-wind-snack-shop-brooklyn?adjust_creative=82uXkAt1Tiw7u9_h33zr1A&utm_campaign=yelp_api_v3&utm_medium=api_v3_phone_search&utm_source=82uXkAt1Tiw7u9_h33zr1A   \n",
       "2780                     https://www.yelp.com/biz/dunkin-forest-hills-5?adjust_creative=82uXkAt1Tiw7u9_h33zr1A&utm_campaign=yelp_api_v3&utm_medium=api_v3_phone_search&utm_source=82uXkAt1Tiw7u9_h33zr1A   \n",
       "\n",
       "                                                                                                                                                                                                  Review_Text  \n",
       "0     We've ordered from these folks a number of times on Grubhub and have always been extremely satisfied. We've never been to the actual store but I have called over there a few times with some questi...  \n",
       "1     This place, in my opinion, is a hidden gem. All my friends and I eat here during the school day once, if not twice, per day. Lovely workers that know our orders, and make delicious sandwiches. Cle...  \n",
       "2     3.5 stars. 20 dollars for two bagels with bacon and cream cheese and a medium iced coffee. Heard it was the best in nyc but they are okay in my opinion. Coffee was good. Was the 30 min commute wor...  \n",
       "3     Very intrigued by the Italian decorations and the variety in the menu so we went inside. Greeted by amazing service. Everyone was very nice and kind, made me feel very welcomed, like part of the f...  \n",
       "4     This is a classic NY joint, a la McSorley's. When a project blew up, my friend asked if we could do something casual rather than Restaurant Week fine dining. And he's in Brooklyn so this is sorta ...  \n",
       "...                                                                                                                                                                                                       ...  \n",
       "2776                                                                                                                                                                                                      NaN  \n",
       "2777                                                                                                                                                                                                      NaN  \n",
       "2778                                                                                                                                                                                                      NaN  \n",
       "2779                                                                                                                                                                                                      NaN  \n",
       "2780                                                                                                                                                                                                      NaN  \n",
       "\n",
       "[2781 rows x 3 columns]"
      ]
     },
     "execution_count": 117,
     "metadata": {},
     "output_type": "execute_result"
    }
   ],
   "source": [
    "# Creating a DF with the urls of businesses missing reviews\n",
    "urls_df = pd.DataFrame(urls)\n",
    "urls_df.reset_index(inplace=True)\n",
    "# Joining urls with review text data\n",
    "url_reviews_df = pd.concat([urls_df,adding_reviews],axis=1)\n",
    "url_reviews_df"
   ]
  },
  {
   "cell_type": "code",
   "execution_count": 102,
   "metadata": {
    "ExecuteTime": {
     "end_time": "2022-08-03T21:58:21.077034Z",
     "start_time": "2022-08-03T21:58:21.026228Z"
    }
   },
   "outputs": [
    {
     "data": {
      "text/html": [
       "<div>\n",
       "<style scoped>\n",
       "    .dataframe tbody tr th:only-of-type {\n",
       "        vertical-align: middle;\n",
       "    }\n",
       "\n",
       "    .dataframe tbody tr th {\n",
       "        vertical-align: top;\n",
       "    }\n",
       "\n",
       "    .dataframe thead th {\n",
       "        text-align: right;\n",
       "    }\n",
       "</style>\n",
       "<table border=\"1\" class=\"dataframe\">\n",
       "  <thead>\n",
       "    <tr style=\"text-align: right;\">\n",
       "      <th></th>\n",
       "      <th>CAMIS</th>\n",
       "      <th>DBA</th>\n",
       "      <th>CUISINE DESCRIPTION</th>\n",
       "      <th>BORO</th>\n",
       "      <th>BUILDING</th>\n",
       "      <th>STREET</th>\n",
       "      <th>ZIPCODE</th>\n",
       "      <th>PHONE</th>\n",
       "      <th>Latitude</th>\n",
       "      <th>Longitude</th>\n",
       "      <th>Community Board</th>\n",
       "      <th>Council District</th>\n",
       "      <th>Census Tract</th>\n",
       "      <th>Severe</th>\n",
       "      <th>id</th>\n",
       "      <th>alias</th>\n",
       "      <th>name</th>\n",
       "      <th>image_url</th>\n",
       "      <th>is_closed</th>\n",
       "      <th>url</th>\n",
       "      <th>review_count</th>\n",
       "      <th>categories</th>\n",
       "      <th>rating</th>\n",
       "      <th>coordinates</th>\n",
       "      <th>transactions</th>\n",
       "      <th>price</th>\n",
       "      <th>location</th>\n",
       "      <th>phone</th>\n",
       "      <th>display_phone</th>\n",
       "      <th>Reviews</th>\n",
       "      <th>Review_Text</th>\n",
       "    </tr>\n",
       "  </thead>\n",
       "  <tbody>\n",
       "    <tr>\n",
       "      <th>5</th>\n",
       "      <td>40356731.00</td>\n",
       "      <td>TASTE THE TROPICS ICE CREAM</td>\n",
       "      <td>Frozen Desserts</td>\n",
       "      <td>Brooklyn</td>\n",
       "      <td>1839</td>\n",
       "      <td>NOSTRAND AVENUE</td>\n",
       "      <td>11226.00</td>\n",
       "      <td>+17188560821</td>\n",
       "      <td>40.64</td>\n",
       "      <td>-73.95</td>\n",
       "      <td>317.00</td>\n",
       "      <td>45.00</td>\n",
       "      <td>82800.00</td>\n",
       "      <td>0.00</td>\n",
       "      <td>Q18r5FKi2qkQhtKZqWR8ww</td>\n",
       "      <td>taste-the-tropics-usa-brooklyn</td>\n",
       "      <td>Taste the Tropics USA</td>\n",
       "      <td>https://s3-media0.fl.yelpcdn.com/bphoto/xW8S_DHdStqZiqjwQ_UUKw/o.jpg</td>\n",
       "      <td>False</td>\n",
       "      <td>https://www.yelp.com/biz/taste-the-tropics-usa-brooklyn?adjust_creative=82uXkAt1Tiw7u9_h33zr1A&amp;utm_campaign=yelp_api_v3&amp;utm_medium=api_v3_phone_search&amp;utm_source=82uXkAt1Tiw7u9_h33zr1A</td>\n",
       "      <td>49.00</td>\n",
       "      <td>[{'alias': 'icecream', 'title': 'Ice Cream &amp; Frozen Yogurt'}]</td>\n",
       "      <td>4.50</td>\n",
       "      <td>{'latitude': 40.64083, 'longitude': -73.94835}</td>\n",
       "      <td>['delivery', 'pickup']</td>\n",
       "      <td>$</td>\n",
       "      <td>{'address1': '1839 Nostrand Ave', 'address2': '', 'address3': '', 'city': 'Brooklyn', 'zip_code': '11226', 'country': 'US', 'state': 'NY', 'display_address': ['1839 Nostrand Ave', 'Brooklyn, NY 11...</td>\n",
       "      <td>+17188560821</td>\n",
       "      <td>(718) 856-0821</td>\n",
       "      <td>NaN</td>\n",
       "      <td>Solid dive bar. Enjoyed a handful of bud light pitchers and was able to get a table. No complaints about my experience..The staff is great. Too bad the owner is a petty. Nice when the owner wants ...</td>\n",
       "    </tr>\n",
       "    <tr>\n",
       "      <th>11</th>\n",
       "      <td>40362264.00</td>\n",
       "      <td>P &amp; S DELI GROCERY</td>\n",
       "      <td>American</td>\n",
       "      <td>Manhattan</td>\n",
       "      <td>730</td>\n",
       "      <td>COLUMBUS AVENUE</td>\n",
       "      <td>10025.00</td>\n",
       "      <td>+12129323030</td>\n",
       "      <td>40.79</td>\n",
       "      <td>-73.97</td>\n",
       "      <td>107.00</td>\n",
       "      <td>6.00</td>\n",
       "      <td>18100.00</td>\n",
       "      <td>0.00</td>\n",
       "      <td>3WlZYZLQI3Q9hbNH-0ooLA</td>\n",
       "      <td>ps-deli-and-grocery-manhattan</td>\n",
       "      <td>PS Deli and Grocery</td>\n",
       "      <td>https://s3-media0.fl.yelpcdn.com/bphoto/UyEmCWMhKw8cU8atm611Fg/o.jpg</td>\n",
       "      <td>False</td>\n",
       "      <td>https://www.yelp.com/biz/ps-deli-and-grocery-manhattan?adjust_creative=82uXkAt1Tiw7u9_h33zr1A&amp;utm_campaign=yelp_api_v3&amp;utm_medium=api_v3_phone_search&amp;utm_source=82uXkAt1Tiw7u9_h33zr1A</td>\n",
       "      <td>6.00</td>\n",
       "      <td>[{'alias': 'grocery', 'title': 'Grocery'}]</td>\n",
       "      <td>4.00</td>\n",
       "      <td>{'latitude': 40.7924193888903, 'longitude': -73.9679123461246}</td>\n",
       "      <td>[]</td>\n",
       "      <td>$</td>\n",
       "      <td>{'address1': '724 Columbus Ave', 'address2': '', 'address3': '', 'city': 'Manhattan', 'zip_code': '10025', 'country': 'US', 'state': 'NY', 'display_address': ['724 Columbus Ave', 'Manhattan, NY 10...</td>\n",
       "      <td>+12129323030</td>\n",
       "      <td>(212) 932-3030</td>\n",
       "      <td>NaN</td>\n",
       "      <td>Great bar and marina to hang out  Worth seeking out  Went fishin with a buddy and hung out late at the bar with a great bunch of fisherman and localsLots of fun.  Look out for the live band on hol...</td>\n",
       "    </tr>\n",
       "    <tr>\n",
       "      <th>15</th>\n",
       "      <td>40363565.00</td>\n",
       "      <td>HOT BAGELS</td>\n",
       "      <td>Bagels/Pretzels</td>\n",
       "      <td>Queens</td>\n",
       "      <td>7905</td>\n",
       "      <td>METROPOLITAN AVENUE</td>\n",
       "      <td>11379.00</td>\n",
       "      <td>+17183268510</td>\n",
       "      <td>40.71</td>\n",
       "      <td>-73.87</td>\n",
       "      <td>405.00</td>\n",
       "      <td>30.00</td>\n",
       "      <td>65703.00</td>\n",
       "      <td>0.00</td>\n",
       "      <td>yI-QJOXrhVMZeuDd6_Ur7A</td>\n",
       "      <td>p-and-c-bagels-middle-village</td>\n",
       "      <td>P &amp; C Bagels</td>\n",
       "      <td>https://s3-media0.fl.yelpcdn.com/bphoto/D1d9ohV19y1_IRnrQI46rw/o.jpg</td>\n",
       "      <td>False</td>\n",
       "      <td>https://www.yelp.com/biz/p-and-c-bagels-middle-village?adjust_creative=82uXkAt1Tiw7u9_h33zr1A&amp;utm_campaign=yelp_api_v3&amp;utm_medium=api_v3_phone_search&amp;utm_source=82uXkAt1Tiw7u9_h33zr1A</td>\n",
       "      <td>75.00</td>\n",
       "      <td>[{'alias': 'bagels', 'title': 'Bagels'}]</td>\n",
       "      <td>3.00</td>\n",
       "      <td>{'latitude': 40.7133388, 'longitude': -73.8740688}</td>\n",
       "      <td>[]</td>\n",
       "      <td>$</td>\n",
       "      <td>{'address1': '7905 Metropolitan Ave', 'address2': '', 'address3': '', 'city': 'Middle Village', 'zip_code': '11379', 'country': 'US', 'state': 'NY', 'display_address': ['7905 Metropolitan Ave', 'M...</td>\n",
       "      <td>+17183268510</td>\n",
       "      <td>(718) 326-8510</td>\n",
       "      <td>NaN</td>\n",
       "      <td>An all out experience - from even before entering the restaurant. The walk to the actual restaurant is mesmerizing as you pass the Brooklyn bridge and walk on the cobblestone by the water. Upon en...</td>\n",
       "    </tr>\n",
       "    <tr>\n",
       "      <th>35</th>\n",
       "      <td>40364373.00</td>\n",
       "      <td>ISLE OF CAPRI RESTURANT</td>\n",
       "      <td>Italian</td>\n",
       "      <td>Manhattan</td>\n",
       "      <td>1028</td>\n",
       "      <td>3 AVENUE</td>\n",
       "      <td>10065.00</td>\n",
       "      <td>+12127581902</td>\n",
       "      <td>40.76</td>\n",
       "      <td>-73.97</td>\n",
       "      <td>108.00</td>\n",
       "      <td>4.00</td>\n",
       "      <td>11402.00</td>\n",
       "      <td>0.00</td>\n",
       "      <td>iQo5aJwTL_ZrXCdPFKq-RA</td>\n",
       "      <td>isle-of-capri-new-york-2</td>\n",
       "      <td>Isle of Capri</td>\n",
       "      <td>https://s3-media0.fl.yelpcdn.com/bphoto/XzX2wcVngvJZinZGS8tlgA/o.jpg</td>\n",
       "      <td>False</td>\n",
       "      <td>https://www.yelp.com/biz/isle-of-capri-new-york-2?adjust_creative=82uXkAt1Tiw7u9_h33zr1A&amp;utm_campaign=yelp_api_v3&amp;utm_medium=api_v3_phone_search&amp;utm_source=82uXkAt1Tiw7u9_h33zr1A</td>\n",
       "      <td>265.00</td>\n",
       "      <td>[{'alias': 'italian', 'title': 'Italian'}]</td>\n",
       "      <td>4.00</td>\n",
       "      <td>{'latitude': 40.76283, 'longitude': -73.96602}</td>\n",
       "      <td>['delivery']</td>\n",
       "      <td>$$$</td>\n",
       "      <td>{'address1': '1028 3rd Ave', 'address2': None, 'address3': '', 'city': 'New York', 'zip_code': '10065', 'country': 'US', 'state': 'NY', 'display_address': ['1028 3rd Ave', 'New York, NY 10065']}</td>\n",
       "      <td>+12127581902</td>\n",
       "      <td>(212) 758-1902</td>\n",
       "      <td>NaN</td>\n",
       "      <td>E. A. T. Madison Avenue has such a low rating. I guess the folks sat and ordered from the menu. They have so many items inside and there's the seating outside. I don't have a problem. You enter th...</td>\n",
       "    </tr>\n",
       "    <tr>\n",
       "      <th>37</th>\n",
       "      <td>40364389.00</td>\n",
       "      <td>OLD TOWN BAR &amp; RESTAURANT</td>\n",
       "      <td>American</td>\n",
       "      <td>Manhattan</td>\n",
       "      <td>45</td>\n",
       "      <td>EAST   18 STREET</td>\n",
       "      <td>10003.00</td>\n",
       "      <td>+12125296732</td>\n",
       "      <td>40.74</td>\n",
       "      <td>-73.99</td>\n",
       "      <td>105.00</td>\n",
       "      <td>2.00</td>\n",
       "      <td>5200.00</td>\n",
       "      <td>1.00</td>\n",
       "      <td>Q02uPdw8j8yDIVSPyJATjA</td>\n",
       "      <td>old-town-bar-and-restaurant-new-york</td>\n",
       "      <td>Old Town Bar &amp; Restaurant</td>\n",
       "      <td>https://s3-media0.fl.yelpcdn.com/bphoto/xeI64f-iBsz9m0mPN3411g/o.jpg</td>\n",
       "      <td>False</td>\n",
       "      <td>https://www.yelp.com/biz/old-town-bar-and-restaurant-new-york?adjust_creative=82uXkAt1Tiw7u9_h33zr1A&amp;utm_campaign=yelp_api_v3&amp;utm_medium=api_v3_phone_search&amp;utm_source=82uXkAt1Tiw7u9_h33zr1A</td>\n",
       "      <td>400.00</td>\n",
       "      <td>[{'alias': 'tradamerican', 'title': 'American (Traditional)'}, {'alias': 'bars', 'title': 'Bars'}]</td>\n",
       "      <td>3.50</td>\n",
       "      <td>{'latitude': 40.737594, 'longitude': -73.989166}</td>\n",
       "      <td>[]</td>\n",
       "      <td>$$</td>\n",
       "      <td>{'address1': '45 E 18th St', 'address2': '', 'address3': '', 'city': 'New York', 'zip_code': '10003', 'country': 'US', 'state': 'NY', 'display_address': ['45 E 18th St', 'New York, NY 10003']}</td>\n",
       "      <td>+12125296732</td>\n",
       "      <td>(212) 529-6732</td>\n",
       "      <td>NaN</td>\n",
       "      <td>I hardly do Updates, but felt this one was warranted. For me, someone who isn't into pizza much, Tommy's I believe is the best in Throggs Neck.  Crisp crust, perfect imo tasting sauce, with a nice...</td>\n",
       "    </tr>\n",
       "    <tr>\n",
       "      <th>...</th>\n",
       "      <td>...</td>\n",
       "      <td>...</td>\n",
       "      <td>...</td>\n",
       "      <td>...</td>\n",
       "      <td>...</td>\n",
       "      <td>...</td>\n",
       "      <td>...</td>\n",
       "      <td>...</td>\n",
       "      <td>...</td>\n",
       "      <td>...</td>\n",
       "      <td>...</td>\n",
       "      <td>...</td>\n",
       "      <td>...</td>\n",
       "      <td>...</td>\n",
       "      <td>...</td>\n",
       "      <td>...</td>\n",
       "      <td>...</td>\n",
       "      <td>...</td>\n",
       "      <td>...</td>\n",
       "      <td>...</td>\n",
       "      <td>...</td>\n",
       "      <td>...</td>\n",
       "      <td>...</td>\n",
       "      <td>...</td>\n",
       "      <td>...</td>\n",
       "      <td>...</td>\n",
       "      <td>...</td>\n",
       "      <td>...</td>\n",
       "      <td>...</td>\n",
       "      <td>...</td>\n",
       "      <td>...</td>\n",
       "    </tr>\n",
       "    <tr>\n",
       "      <th>2775</th>\n",
       "      <td>NaN</td>\n",
       "      <td>NaN</td>\n",
       "      <td>NaN</td>\n",
       "      <td>NaN</td>\n",
       "      <td>NaN</td>\n",
       "      <td>NaN</td>\n",
       "      <td>NaN</td>\n",
       "      <td>NaN</td>\n",
       "      <td>NaN</td>\n",
       "      <td>NaN</td>\n",
       "      <td>NaN</td>\n",
       "      <td>NaN</td>\n",
       "      <td>NaN</td>\n",
       "      <td>NaN</td>\n",
       "      <td>NaN</td>\n",
       "      <td>NaN</td>\n",
       "      <td>NaN</td>\n",
       "      <td>NaN</td>\n",
       "      <td>NaN</td>\n",
       "      <td>NaN</td>\n",
       "      <td>NaN</td>\n",
       "      <td>NaN</td>\n",
       "      <td>NaN</td>\n",
       "      <td>NaN</td>\n",
       "      <td>NaN</td>\n",
       "      <td>NaN</td>\n",
       "      <td>NaN</td>\n",
       "      <td>NaN</td>\n",
       "      <td>NaN</td>\n",
       "      <td>NaN</td>\n",
       "      <td>NaN</td>\n",
       "    </tr>\n",
       "    <tr>\n",
       "      <th>2776</th>\n",
       "      <td>NaN</td>\n",
       "      <td>NaN</td>\n",
       "      <td>NaN</td>\n",
       "      <td>NaN</td>\n",
       "      <td>NaN</td>\n",
       "      <td>NaN</td>\n",
       "      <td>NaN</td>\n",
       "      <td>NaN</td>\n",
       "      <td>NaN</td>\n",
       "      <td>NaN</td>\n",
       "      <td>NaN</td>\n",
       "      <td>NaN</td>\n",
       "      <td>NaN</td>\n",
       "      <td>NaN</td>\n",
       "      <td>NaN</td>\n",
       "      <td>NaN</td>\n",
       "      <td>NaN</td>\n",
       "      <td>NaN</td>\n",
       "      <td>NaN</td>\n",
       "      <td>NaN</td>\n",
       "      <td>NaN</td>\n",
       "      <td>NaN</td>\n",
       "      <td>NaN</td>\n",
       "      <td>NaN</td>\n",
       "      <td>NaN</td>\n",
       "      <td>NaN</td>\n",
       "      <td>NaN</td>\n",
       "      <td>NaN</td>\n",
       "      <td>NaN</td>\n",
       "      <td>NaN</td>\n",
       "      <td>NaN</td>\n",
       "    </tr>\n",
       "    <tr>\n",
       "      <th>2777</th>\n",
       "      <td>NaN</td>\n",
       "      <td>NaN</td>\n",
       "      <td>NaN</td>\n",
       "      <td>NaN</td>\n",
       "      <td>NaN</td>\n",
       "      <td>NaN</td>\n",
       "      <td>NaN</td>\n",
       "      <td>NaN</td>\n",
       "      <td>NaN</td>\n",
       "      <td>NaN</td>\n",
       "      <td>NaN</td>\n",
       "      <td>NaN</td>\n",
       "      <td>NaN</td>\n",
       "      <td>NaN</td>\n",
       "      <td>NaN</td>\n",
       "      <td>NaN</td>\n",
       "      <td>NaN</td>\n",
       "      <td>NaN</td>\n",
       "      <td>NaN</td>\n",
       "      <td>NaN</td>\n",
       "      <td>NaN</td>\n",
       "      <td>NaN</td>\n",
       "      <td>NaN</td>\n",
       "      <td>NaN</td>\n",
       "      <td>NaN</td>\n",
       "      <td>NaN</td>\n",
       "      <td>NaN</td>\n",
       "      <td>NaN</td>\n",
       "      <td>NaN</td>\n",
       "      <td>NaN</td>\n",
       "      <td>NaN</td>\n",
       "    </tr>\n",
       "    <tr>\n",
       "      <th>2778</th>\n",
       "      <td>NaN</td>\n",
       "      <td>NaN</td>\n",
       "      <td>NaN</td>\n",
       "      <td>NaN</td>\n",
       "      <td>NaN</td>\n",
       "      <td>NaN</td>\n",
       "      <td>NaN</td>\n",
       "      <td>NaN</td>\n",
       "      <td>NaN</td>\n",
       "      <td>NaN</td>\n",
       "      <td>NaN</td>\n",
       "      <td>NaN</td>\n",
       "      <td>NaN</td>\n",
       "      <td>NaN</td>\n",
       "      <td>NaN</td>\n",
       "      <td>NaN</td>\n",
       "      <td>NaN</td>\n",
       "      <td>NaN</td>\n",
       "      <td>NaN</td>\n",
       "      <td>NaN</td>\n",
       "      <td>NaN</td>\n",
       "      <td>NaN</td>\n",
       "      <td>NaN</td>\n",
       "      <td>NaN</td>\n",
       "      <td>NaN</td>\n",
       "      <td>NaN</td>\n",
       "      <td>NaN</td>\n",
       "      <td>NaN</td>\n",
       "      <td>NaN</td>\n",
       "      <td>NaN</td>\n",
       "      <td>NaN</td>\n",
       "    </tr>\n",
       "    <tr>\n",
       "      <th>2779</th>\n",
       "      <td>NaN</td>\n",
       "      <td>NaN</td>\n",
       "      <td>NaN</td>\n",
       "      <td>NaN</td>\n",
       "      <td>NaN</td>\n",
       "      <td>NaN</td>\n",
       "      <td>NaN</td>\n",
       "      <td>NaN</td>\n",
       "      <td>NaN</td>\n",
       "      <td>NaN</td>\n",
       "      <td>NaN</td>\n",
       "      <td>NaN</td>\n",
       "      <td>NaN</td>\n",
       "      <td>NaN</td>\n",
       "      <td>NaN</td>\n",
       "      <td>NaN</td>\n",
       "      <td>NaN</td>\n",
       "      <td>NaN</td>\n",
       "      <td>NaN</td>\n",
       "      <td>NaN</td>\n",
       "      <td>NaN</td>\n",
       "      <td>NaN</td>\n",
       "      <td>NaN</td>\n",
       "      <td>NaN</td>\n",
       "      <td>NaN</td>\n",
       "      <td>NaN</td>\n",
       "      <td>NaN</td>\n",
       "      <td>NaN</td>\n",
       "      <td>NaN</td>\n",
       "      <td>NaN</td>\n",
       "      <td>NaN</td>\n",
       "    </tr>\n",
       "  </tbody>\n",
       "</table>\n",
       "<p>5170 rows × 31 columns</p>\n",
       "</div>"
      ],
      "text/plain": [
       "           CAMIS                          DBA CUISINE DESCRIPTION       BORO  \\\n",
       "5    40356731.00  TASTE THE TROPICS ICE CREAM     Frozen Desserts   Brooklyn   \n",
       "11   40362264.00           P & S DELI GROCERY            American  Manhattan   \n",
       "15   40363565.00                   HOT BAGELS     Bagels/Pretzels     Queens   \n",
       "35   40364373.00      ISLE OF CAPRI RESTURANT             Italian  Manhattan   \n",
       "37   40364389.00    OLD TOWN BAR & RESTAURANT            American  Manhattan   \n",
       "...          ...                          ...                 ...        ...   \n",
       "2775         NaN                          NaN                 NaN        NaN   \n",
       "2776         NaN                          NaN                 NaN        NaN   \n",
       "2777         NaN                          NaN                 NaN        NaN   \n",
       "2778         NaN                          NaN                 NaN        NaN   \n",
       "2779         NaN                          NaN                 NaN        NaN   \n",
       "\n",
       "     BUILDING               STREET  ZIPCODE         PHONE  Latitude  \\\n",
       "5        1839      NOSTRAND AVENUE 11226.00  +17188560821     40.64   \n",
       "11        730      COLUMBUS AVENUE 10025.00  +12129323030     40.79   \n",
       "15       7905  METROPOLITAN AVENUE 11379.00  +17183268510     40.71   \n",
       "35       1028             3 AVENUE 10065.00  +12127581902     40.76   \n",
       "37         45     EAST   18 STREET 10003.00  +12125296732     40.74   \n",
       "...       ...                  ...      ...           ...       ...   \n",
       "2775      NaN                  NaN      NaN           NaN       NaN   \n",
       "2776      NaN                  NaN      NaN           NaN       NaN   \n",
       "2777      NaN                  NaN      NaN           NaN       NaN   \n",
       "2778      NaN                  NaN      NaN           NaN       NaN   \n",
       "2779      NaN                  NaN      NaN           NaN       NaN   \n",
       "\n",
       "      Longitude  Community Board  Council District  Census Tract  Severe  \\\n",
       "5        -73.95           317.00             45.00      82800.00    0.00   \n",
       "11       -73.97           107.00              6.00      18100.00    0.00   \n",
       "15       -73.87           405.00             30.00      65703.00    0.00   \n",
       "35       -73.97           108.00              4.00      11402.00    0.00   \n",
       "37       -73.99           105.00              2.00       5200.00    1.00   \n",
       "...         ...              ...               ...           ...     ...   \n",
       "2775        NaN              NaN               NaN           NaN     NaN   \n",
       "2776        NaN              NaN               NaN           NaN     NaN   \n",
       "2777        NaN              NaN               NaN           NaN     NaN   \n",
       "2778        NaN              NaN               NaN           NaN     NaN   \n",
       "2779        NaN              NaN               NaN           NaN     NaN   \n",
       "\n",
       "                          id                                 alias  \\\n",
       "5     Q18r5FKi2qkQhtKZqWR8ww        taste-the-tropics-usa-brooklyn   \n",
       "11    3WlZYZLQI3Q9hbNH-0ooLA         ps-deli-and-grocery-manhattan   \n",
       "15    yI-QJOXrhVMZeuDd6_Ur7A         p-and-c-bagels-middle-village   \n",
       "35    iQo5aJwTL_ZrXCdPFKq-RA              isle-of-capri-new-york-2   \n",
       "37    Q02uPdw8j8yDIVSPyJATjA  old-town-bar-and-restaurant-new-york   \n",
       "...                      ...                                   ...   \n",
       "2775                     NaN                                   NaN   \n",
       "2776                     NaN                                   NaN   \n",
       "2777                     NaN                                   NaN   \n",
       "2778                     NaN                                   NaN   \n",
       "2779                     NaN                                   NaN   \n",
       "\n",
       "                           name  \\\n",
       "5         Taste the Tropics USA   \n",
       "11          PS Deli and Grocery   \n",
       "15                 P & C Bagels   \n",
       "35                Isle of Capri   \n",
       "37    Old Town Bar & Restaurant   \n",
       "...                         ...   \n",
       "2775                        NaN   \n",
       "2776                        NaN   \n",
       "2777                        NaN   \n",
       "2778                        NaN   \n",
       "2779                        NaN   \n",
       "\n",
       "                                                                 image_url  \\\n",
       "5     https://s3-media0.fl.yelpcdn.com/bphoto/xW8S_DHdStqZiqjwQ_UUKw/o.jpg   \n",
       "11    https://s3-media0.fl.yelpcdn.com/bphoto/UyEmCWMhKw8cU8atm611Fg/o.jpg   \n",
       "15    https://s3-media0.fl.yelpcdn.com/bphoto/D1d9ohV19y1_IRnrQI46rw/o.jpg   \n",
       "35    https://s3-media0.fl.yelpcdn.com/bphoto/XzX2wcVngvJZinZGS8tlgA/o.jpg   \n",
       "37    https://s3-media0.fl.yelpcdn.com/bphoto/xeI64f-iBsz9m0mPN3411g/o.jpg   \n",
       "...                                                                    ...   \n",
       "2775                                                                   NaN   \n",
       "2776                                                                   NaN   \n",
       "2777                                                                   NaN   \n",
       "2778                                                                   NaN   \n",
       "2779                                                                   NaN   \n",
       "\n",
       "     is_closed  \\\n",
       "5        False   \n",
       "11       False   \n",
       "15       False   \n",
       "35       False   \n",
       "37       False   \n",
       "...        ...   \n",
       "2775       NaN   \n",
       "2776       NaN   \n",
       "2777       NaN   \n",
       "2778       NaN   \n",
       "2779       NaN   \n",
       "\n",
       "                                                                                                                                                                                                 url  \\\n",
       "5           https://www.yelp.com/biz/taste-the-tropics-usa-brooklyn?adjust_creative=82uXkAt1Tiw7u9_h33zr1A&utm_campaign=yelp_api_v3&utm_medium=api_v3_phone_search&utm_source=82uXkAt1Tiw7u9_h33zr1A   \n",
       "11           https://www.yelp.com/biz/ps-deli-and-grocery-manhattan?adjust_creative=82uXkAt1Tiw7u9_h33zr1A&utm_campaign=yelp_api_v3&utm_medium=api_v3_phone_search&utm_source=82uXkAt1Tiw7u9_h33zr1A   \n",
       "15           https://www.yelp.com/biz/p-and-c-bagels-middle-village?adjust_creative=82uXkAt1Tiw7u9_h33zr1A&utm_campaign=yelp_api_v3&utm_medium=api_v3_phone_search&utm_source=82uXkAt1Tiw7u9_h33zr1A   \n",
       "35                https://www.yelp.com/biz/isle-of-capri-new-york-2?adjust_creative=82uXkAt1Tiw7u9_h33zr1A&utm_campaign=yelp_api_v3&utm_medium=api_v3_phone_search&utm_source=82uXkAt1Tiw7u9_h33zr1A   \n",
       "37    https://www.yelp.com/biz/old-town-bar-and-restaurant-new-york?adjust_creative=82uXkAt1Tiw7u9_h33zr1A&utm_campaign=yelp_api_v3&utm_medium=api_v3_phone_search&utm_source=82uXkAt1Tiw7u9_h33zr1A   \n",
       "...                                                                                                                                                                                              ...   \n",
       "2775                                                                                                                                                                                             NaN   \n",
       "2776                                                                                                                                                                                             NaN   \n",
       "2777                                                                                                                                                                                             NaN   \n",
       "2778                                                                                                                                                                                             NaN   \n",
       "2779                                                                                                                                                                                             NaN   \n",
       "\n",
       "      review_count  \\\n",
       "5            49.00   \n",
       "11            6.00   \n",
       "15           75.00   \n",
       "35          265.00   \n",
       "37          400.00   \n",
       "...            ...   \n",
       "2775           NaN   \n",
       "2776           NaN   \n",
       "2777           NaN   \n",
       "2778           NaN   \n",
       "2779           NaN   \n",
       "\n",
       "                                                                                              categories  \\\n",
       "5                                          [{'alias': 'icecream', 'title': 'Ice Cream & Frozen Yogurt'}]   \n",
       "11                                                            [{'alias': 'grocery', 'title': 'Grocery'}]   \n",
       "15                                                              [{'alias': 'bagels', 'title': 'Bagels'}]   \n",
       "35                                                            [{'alias': 'italian', 'title': 'Italian'}]   \n",
       "37    [{'alias': 'tradamerican', 'title': 'American (Traditional)'}, {'alias': 'bars', 'title': 'Bars'}]   \n",
       "...                                                                                                  ...   \n",
       "2775                                                                                                 NaN   \n",
       "2776                                                                                                 NaN   \n",
       "2777                                                                                                 NaN   \n",
       "2778                                                                                                 NaN   \n",
       "2779                                                                                                 NaN   \n",
       "\n",
       "      rating                                                     coordinates  \\\n",
       "5       4.50                  {'latitude': 40.64083, 'longitude': -73.94835}   \n",
       "11      4.00  {'latitude': 40.7924193888903, 'longitude': -73.9679123461246}   \n",
       "15      3.00              {'latitude': 40.7133388, 'longitude': -73.8740688}   \n",
       "35      4.00                  {'latitude': 40.76283, 'longitude': -73.96602}   \n",
       "37      3.50                {'latitude': 40.737594, 'longitude': -73.989166}   \n",
       "...      ...                                                             ...   \n",
       "2775     NaN                                                             NaN   \n",
       "2776     NaN                                                             NaN   \n",
       "2777     NaN                                                             NaN   \n",
       "2778     NaN                                                             NaN   \n",
       "2779     NaN                                                             NaN   \n",
       "\n",
       "                transactions price  \\\n",
       "5     ['delivery', 'pickup']     $   \n",
       "11                        []     $   \n",
       "15                        []     $   \n",
       "35              ['delivery']   $$$   \n",
       "37                        []    $$   \n",
       "...                      ...   ...   \n",
       "2775                     NaN   NaN   \n",
       "2776                     NaN   NaN   \n",
       "2777                     NaN   NaN   \n",
       "2778                     NaN   NaN   \n",
       "2779                     NaN   NaN   \n",
       "\n",
       "                                                                                                                                                                                                     location  \\\n",
       "5     {'address1': '1839 Nostrand Ave', 'address2': '', 'address3': '', 'city': 'Brooklyn', 'zip_code': '11226', 'country': 'US', 'state': 'NY', 'display_address': ['1839 Nostrand Ave', 'Brooklyn, NY 11...   \n",
       "11    {'address1': '724 Columbus Ave', 'address2': '', 'address3': '', 'city': 'Manhattan', 'zip_code': '10025', 'country': 'US', 'state': 'NY', 'display_address': ['724 Columbus Ave', 'Manhattan, NY 10...   \n",
       "15    {'address1': '7905 Metropolitan Ave', 'address2': '', 'address3': '', 'city': 'Middle Village', 'zip_code': '11379', 'country': 'US', 'state': 'NY', 'display_address': ['7905 Metropolitan Ave', 'M...   \n",
       "35         {'address1': '1028 3rd Ave', 'address2': None, 'address3': '', 'city': 'New York', 'zip_code': '10065', 'country': 'US', 'state': 'NY', 'display_address': ['1028 3rd Ave', 'New York, NY 10065']}   \n",
       "37           {'address1': '45 E 18th St', 'address2': '', 'address3': '', 'city': 'New York', 'zip_code': '10003', 'country': 'US', 'state': 'NY', 'display_address': ['45 E 18th St', 'New York, NY 10003']}   \n",
       "...                                                                                                                                                                                                       ...   \n",
       "2775                                                                                                                                                                                                      NaN   \n",
       "2776                                                                                                                                                                                                      NaN   \n",
       "2777                                                                                                                                                                                                      NaN   \n",
       "2778                                                                                                                                                                                                      NaN   \n",
       "2779                                                                                                                                                                                                      NaN   \n",
       "\n",
       "             phone   display_phone Reviews  \\\n",
       "5     +17188560821  (718) 856-0821     NaN   \n",
       "11    +12129323030  (212) 932-3030     NaN   \n",
       "15    +17183268510  (718) 326-8510     NaN   \n",
       "35    +12127581902  (212) 758-1902     NaN   \n",
       "37    +12125296732  (212) 529-6732     NaN   \n",
       "...            ...             ...     ...   \n",
       "2775           NaN             NaN     NaN   \n",
       "2776           NaN             NaN     NaN   \n",
       "2777           NaN             NaN     NaN   \n",
       "2778           NaN             NaN     NaN   \n",
       "2779           NaN             NaN     NaN   \n",
       "\n",
       "                                                                                                                                                                                                  Review_Text  \n",
       "5     Solid dive bar. Enjoyed a handful of bud light pitchers and was able to get a table. No complaints about my experience..The staff is great. Too bad the owner is a petty. Nice when the owner wants ...  \n",
       "11    Great bar and marina to hang out  Worth seeking out  Went fishin with a buddy and hung out late at the bar with a great bunch of fisherman and localsLots of fun.  Look out for the live band on hol...  \n",
       "15    An all out experience - from even before entering the restaurant. The walk to the actual restaurant is mesmerizing as you pass the Brooklyn bridge and walk on the cobblestone by the water. Upon en...  \n",
       "35    E. A. T. Madison Avenue has such a low rating. I guess the folks sat and ordered from the menu. They have so many items inside and there's the seating outside. I don't have a problem. You enter th...  \n",
       "37    I hardly do Updates, but felt this one was warranted. For me, someone who isn't into pizza much, Tommy's I believe is the best in Throggs Neck.  Crisp crust, perfect imo tasting sauce, with a nice...  \n",
       "...                                                                                                                                                                                                       ...  \n",
       "2775                                                                                                                                                                                                      NaN  \n",
       "2776                                                                                                                                                                                                      NaN  \n",
       "2777                                                                                                                                                                                                      NaN  \n",
       "2778                                                                                                                                                                                                      NaN  \n",
       "2779                                                                                                                                                                                                      NaN  \n",
       "\n",
       "[5170 rows x 31 columns]"
      ]
     },
     "execution_count": 102,
     "metadata": {},
     "output_type": "execute_result"
    }
   ],
   "source": [
    "fill_in_missing_df = pd.concat([missing_reviews2,adding_reviews],axis=1)\n",
    "fill_in_missing_df"
   ]
  },
  {
   "cell_type": "code",
   "execution_count": 103,
   "metadata": {
    "ExecuteTime": {
     "end_time": "2022-08-03T21:58:22.427931Z",
     "start_time": "2022-08-03T21:58:22.422660Z"
    }
   },
   "outputs": [],
   "source": [
    "fill_in_missing_df.rename(columns={'reviews':'Reviews'},inplace=True)"
   ]
  },
  {
   "cell_type": "code",
   "execution_count": 104,
   "metadata": {
    "ExecuteTime": {
     "end_time": "2022-08-03T21:58:23.350601Z",
     "start_time": "2022-08-03T21:58:23.340987Z"
    }
   },
   "outputs": [
    {
     "data": {
      "text/plain": [
       "2609"
      ]
     },
     "execution_count": 104,
     "metadata": {},
     "output_type": "execute_result"
    }
   ],
   "source": [
    "fill_in_missing_df['Review_Text'].isna().sum()"
   ]
  },
  {
   "cell_type": "code",
   "execution_count": 105,
   "metadata": {
    "ExecuteTime": {
     "end_time": "2022-08-03T21:58:24.215279Z",
     "start_time": "2022-08-03T21:58:24.201306Z"
    }
   },
   "outputs": [],
   "source": [
    "fill_in_missing_df.drop(columns=['Reviews'],inplace=True)"
   ]
  },
  {
   "cell_type": "code",
   "execution_count": 106,
   "metadata": {
    "ExecuteTime": {
     "end_time": "2022-08-03T21:58:25.290966Z",
     "start_time": "2022-08-03T21:58:25.269237Z"
    }
   },
   "outputs": [],
   "source": [
    "# Appending businesses with new reviews to full dataset\n",
    "df_2 = pd.concat([df_1,fill_in_missing_df])"
   ]
  },
  {
   "cell_type": "code",
   "execution_count": 107,
   "metadata": {
    "ExecuteTime": {
     "end_time": "2022-08-03T21:58:26.063739Z",
     "start_time": "2022-08-03T21:58:26.011960Z"
    }
   },
   "outputs": [],
   "source": [
    "# dropping old rows without reviews\n",
    "df_2.dropna(subset=['Reviews'],inplace=True)"
   ]
  },
  {
   "cell_type": "code",
   "execution_count": 108,
   "metadata": {
    "ExecuteTime": {
     "end_time": "2022-08-03T21:58:26.724257Z",
     "start_time": "2022-08-03T21:58:26.716048Z"
    }
   },
   "outputs": [
    {
     "data": {
      "text/plain": [
       "15681"
      ]
     },
     "execution_count": 108,
     "metadata": {},
     "output_type": "execute_result"
    }
   ],
   "source": [
    "df_2['Review_Text'].isna().sum()"
   ]
  },
  {
   "cell_type": "code",
   "execution_count": 109,
   "metadata": {
    "ExecuteTime": {
     "end_time": "2022-08-03T21:58:28.034266Z",
     "start_time": "2022-08-03T21:58:28.014171Z"
    }
   },
   "outputs": [
    {
     "data": {
      "text/html": [
       "<div>\n",
       "<style scoped>\n",
       "    .dataframe tbody tr th:only-of-type {\n",
       "        vertical-align: middle;\n",
       "    }\n",
       "\n",
       "    .dataframe tbody tr th {\n",
       "        vertical-align: top;\n",
       "    }\n",
       "\n",
       "    .dataframe thead th {\n",
       "        text-align: right;\n",
       "    }\n",
       "</style>\n",
       "<table border=\"1\" class=\"dataframe\">\n",
       "  <thead>\n",
       "    <tr style=\"text-align: right;\">\n",
       "      <th></th>\n",
       "      <th>CAMIS</th>\n",
       "      <th>DBA</th>\n",
       "      <th>CUISINE DESCRIPTION</th>\n",
       "      <th>BORO</th>\n",
       "      <th>BUILDING</th>\n",
       "      <th>STREET</th>\n",
       "      <th>ZIPCODE</th>\n",
       "      <th>PHONE</th>\n",
       "      <th>Latitude</th>\n",
       "      <th>Longitude</th>\n",
       "      <th>Community Board</th>\n",
       "      <th>Council District</th>\n",
       "      <th>Census Tract</th>\n",
       "      <th>Severe</th>\n",
       "      <th>id</th>\n",
       "      <th>alias</th>\n",
       "      <th>name</th>\n",
       "      <th>image_url</th>\n",
       "      <th>is_closed</th>\n",
       "      <th>url</th>\n",
       "      <th>review_count</th>\n",
       "      <th>categories</th>\n",
       "      <th>rating</th>\n",
       "      <th>coordinates</th>\n",
       "      <th>transactions</th>\n",
       "      <th>price</th>\n",
       "      <th>location</th>\n",
       "      <th>phone</th>\n",
       "      <th>display_phone</th>\n",
       "      <th>Reviews</th>\n",
       "      <th>Review_Text</th>\n",
       "    </tr>\n",
       "  </thead>\n",
       "  <tbody>\n",
       "  </tbody>\n",
       "</table>\n",
       "</div>"
      ],
      "text/plain": [
       "Empty DataFrame\n",
       "Columns: [CAMIS, DBA, CUISINE DESCRIPTION, BORO, BUILDING, STREET, ZIPCODE, PHONE, Latitude, Longitude, Community Board, Council District, Census Tract, Severe, id, alias, name, image_url, is_closed, url, review_count, categories, rating, coordinates, transactions, price, location, phone, display_phone, Reviews, Review_Text]\n",
       "Index: []"
      ]
     },
     "execution_count": 109,
     "metadata": {},
     "output_type": "execute_result"
    }
   ],
   "source": [
    "df_2[df_2['Reviews'] == '']"
   ]
  },
  {
   "cell_type": "markdown",
   "metadata": {},
   "source": [
    "Still 220 businesses without reviews. Not too bad, but will try to extract these."
   ]
  },
  {
   "cell_type": "code",
   "execution_count": 97,
   "metadata": {
    "ExecuteTime": {
     "end_time": "2022-08-03T21:57:36.148706Z",
     "start_time": "2022-08-03T21:57:36.140413Z"
    }
   },
   "outputs": [],
   "source": [
    "missing_rvws2 = df_2[df_2['Reviews'] == '']['url']"
   ]
  },
  {
   "cell_type": "code",
   "execution_count": 98,
   "metadata": {
    "ExecuteTime": {
     "end_time": "2022-08-03T21:57:37.556798Z",
     "start_time": "2022-08-03T21:57:37.549477Z"
    }
   },
   "outputs": [
    {
     "data": {
      "text/plain": [
       "Series([], Name: url, dtype: object)"
      ]
     },
     "execution_count": 98,
     "metadata": {},
     "output_type": "execute_result"
    }
   ],
   "source": [
    "missing_rvws2"
   ]
  },
  {
   "cell_type": "code",
   "execution_count": null,
   "metadata": {
    "ExecuteTime": {
     "end_time": "2022-07-26T17:23:24.191956Z",
     "start_time": "2022-07-26T17:23:24.179961Z"
    }
   },
   "outputs": [],
   "source": [
    "# Extracting the last reviews\n",
    "# adding_reviews2 = get_text(list(missing_rvws2))"
   ]
  },
  {
   "cell_type": "code",
   "execution_count": null,
   "metadata": {
    "ExecuteTime": {
     "end_time": "2022-07-26T17:23:25.263643Z",
     "start_time": "2022-07-26T17:23:25.258400Z"
    }
   },
   "outputs": [],
   "source": [
    "# # Saving the review text as a csv to the repository\n",
    "# mssing_rvws2 = pd.DataFrame(adding_reviews2,columns=['Review_Text'])\n",
    "# mssing_rvws2.to_csv('mssing_rvws2.csv',index=False)"
   ]
  },
  {
   "cell_type": "code",
   "execution_count": 110,
   "metadata": {
    "ExecuteTime": {
     "end_time": "2022-08-03T21:58:37.200805Z",
     "start_time": "2022-08-03T21:58:37.170869Z"
    }
   },
   "outputs": [],
   "source": [
    "mssing_rvws2 = pd.read_csv('mssing_rvws2.csv')"
   ]
  },
  {
   "cell_type": "code",
   "execution_count": 111,
   "metadata": {
    "ExecuteTime": {
     "end_time": "2022-08-03T21:58:39.144708Z",
     "start_time": "2022-08-03T21:58:39.112128Z"
    }
   },
   "outputs": [
    {
     "ename": "NameError",
     "evalue": "name 'missing_rvws2_df' is not defined",
     "output_type": "error",
     "traceback": [
      "\u001b[0;31m---------------------------------------------------------------------------\u001b[0m",
      "\u001b[0;31mNameError\u001b[0m                                 Traceback (most recent call last)",
      "\u001b[0;32m<ipython-input-111-13562f485054>\u001b[0m in \u001b[0;36m<module>\u001b[0;34m\u001b[0m\n\u001b[0;32m----> 1\u001b[0;31m \u001b[0mfill_in_mssing_rvws_df2\u001b[0m \u001b[0;34m=\u001b[0m \u001b[0mpd\u001b[0m\u001b[0;34m.\u001b[0m\u001b[0mconcat\u001b[0m\u001b[0;34m(\u001b[0m\u001b[0;34m[\u001b[0m\u001b[0mmissing_rvws2_df\u001b[0m\u001b[0;34m,\u001b[0m\u001b[0mmssing_rvws2\u001b[0m\u001b[0;34m,\u001b[0m\u001b[0;34m]\u001b[0m\u001b[0;34m,\u001b[0m\u001b[0maxis\u001b[0m\u001b[0;34m=\u001b[0m\u001b[0;36m1\u001b[0m\u001b[0;34m,\u001b[0m\u001b[0mjoin\u001b[0m\u001b[0;34m=\u001b[0m\u001b[0;34m'outer'\u001b[0m\u001b[0;34m,\u001b[0m\u001b[0mignore_index\u001b[0m\u001b[0;34m=\u001b[0m\u001b[0;32mTrue\u001b[0m\u001b[0;34m)\u001b[0m\u001b[0;34m\u001b[0m\u001b[0;34m\u001b[0m\u001b[0m\n\u001b[0m\u001b[1;32m      2\u001b[0m \u001b[0mfill_in_mssing_rvws_df2\u001b[0m\u001b[0;34m\u001b[0m\u001b[0;34m\u001b[0m\u001b[0m\n",
      "\u001b[0;31mNameError\u001b[0m: name 'missing_rvws2_df' is not defined"
     ]
    }
   ],
   "source": [
    "fill_in_mssing_rvws_df2 = pd.concat([missing_rvws2_df,mssing_rvws2,],axis=1,join='outer',ignore_index=True)\n",
    "fill_in_mssing_rvws_df2"
   ]
  },
  {
   "cell_type": "code",
   "execution_count": null,
   "metadata": {
    "ExecuteTime": {
     "end_time": "2022-07-26T17:23:27.253863Z",
     "start_time": "2022-07-26T17:23:27.195841Z"
    }
   },
   "outputs": [],
   "source": [
    "fill_in_missing_df2 = pd.concat([missing_reviews2,adding_reviews],axis=1)\n",
    "fill_in_missing_df"
   ]
  },
  {
   "cell_type": "code",
   "execution_count": null,
   "metadata": {
    "ExecuteTime": {
     "end_time": "2022-07-26T17:23:29.422054Z",
     "start_time": "2022-07-26T17:23:29.388193Z"
    }
   },
   "outputs": [],
   "source": [
    "missing_reviews_2_df = df_2[df_2['Reviews'] == '']"
   ]
  },
  {
   "cell_type": "code",
   "execution_count": null,
   "metadata": {
    "ExecuteTime": {
     "end_time": "2022-07-26T17:23:30.341865Z",
     "start_time": "2022-07-26T17:23:30.256468Z"
    }
   },
   "outputs": [],
   "source": [
    "missing_reviews_2_df.reset_index(inplace=True)\n",
    "missing_reviews_2_df.drop(columns=['index'],inplace=True)"
   ]
  },
  {
   "cell_type": "code",
   "execution_count": null,
   "metadata": {
    "ExecuteTime": {
     "end_time": "2022-07-26T17:23:31.568577Z",
     "start_time": "2022-07-26T17:23:31.463189Z"
    }
   },
   "outputs": [],
   "source": [
    "fill_in_missing_df2 = pd.concat([missing_reviews_2_df,mssing_rvws2],axis=1)\n",
    "fill_in_missing_df2\n"
   ]
  },
  {
   "cell_type": "code",
   "execution_count": null,
   "metadata": {
    "ExecuteTime": {
     "end_time": "2022-07-26T17:23:32.460274Z",
     "start_time": "2022-07-26T17:23:32.391228Z"
    }
   },
   "outputs": [],
   "source": [
    "fill_in_missing_df2.drop(columns=['Reviews'],inplace=True)\n",
    "fill_in_missing_df2.rename(columns={'Review_Text':'Reviews'},inplace=True)\n",
    "fill_in_missing_df2"
   ]
  },
  {
   "cell_type": "code",
   "execution_count": null,
   "metadata": {
    "ExecuteTime": {
     "end_time": "2022-07-26T17:23:33.358036Z",
     "start_time": "2022-07-26T17:23:33.300428Z"
    }
   },
   "outputs": [],
   "source": [
    "# Appending businesses with newly gathered reviews to full dataset\n",
    "df_3 = pd.concat([df_2,fill_in_missing_df2])"
   ]
  },
  {
   "cell_type": "code",
   "execution_count": null,
   "metadata": {
    "ExecuteTime": {
     "end_time": "2022-07-26T17:23:34.136855Z",
     "start_time": "2022-07-26T17:23:34.089361Z"
    }
   },
   "outputs": [],
   "source": [
    "df_1"
   ]
  },
  {
   "cell_type": "code",
   "execution_count": null,
   "metadata": {
    "ExecuteTime": {
     "end_time": "2022-07-26T17:23:34.829413Z",
     "start_time": "2022-07-26T17:23:34.798934Z"
    }
   },
   "outputs": [],
   "source": [
    "# Dropping old rows without reviews\n",
    "df_3 = df_3[df_3.Reviews != '']\n",
    "df_3"
   ]
  },
  {
   "cell_type": "code",
   "execution_count": null,
   "metadata": {},
   "outputs": [],
   "source": []
  },
  {
   "cell_type": "code",
   "execution_count": null,
   "metadata": {
    "ExecuteTime": {
     "end_time": "2022-07-26T17:23:36.667429Z",
     "start_time": "2022-07-26T17:23:36.620441Z"
    }
   },
   "outputs": [],
   "source": [
    "# Checking for duplicated rows\n",
    "df_3[df_3.duplicated(keep='first')]"
   ]
  },
  {
   "cell_type": "code",
   "execution_count": null,
   "metadata": {
    "ExecuteTime": {
     "end_time": "2022-07-26T17:23:37.384436Z",
     "start_time": "2022-07-26T17:23:37.353433Z"
    }
   },
   "outputs": [],
   "source": [
    "# Dropping Duplicated Rows\n",
    "df_3.drop_duplicates(keep='first',inplace=True)"
   ]
  },
  {
   "cell_type": "code",
   "execution_count": null,
   "metadata": {
    "ExecuteTime": {
     "end_time": "2022-07-26T17:23:38.150324Z",
     "start_time": "2022-07-26T17:23:38.119531Z"
    }
   },
   "outputs": [],
   "source": [
    "df_3"
   ]
  },
  {
   "cell_type": "code",
   "execution_count": null,
   "metadata": {
    "ExecuteTime": {
     "end_time": "2022-07-26T17:23:38.843106Z",
     "start_time": "2022-07-26T17:23:38.817045Z"
    }
   },
   "outputs": [],
   "source": [
    "# Resetting the index\n",
    "df_3.reset_index(inplace=True)\n",
    "df_3.drop(columns='index',inplace=True)"
   ]
  },
  {
   "cell_type": "code",
   "execution_count": null,
   "metadata": {
    "ExecuteTime": {
     "end_time": "2022-07-26T17:23:39.455864Z",
     "start_time": "2022-07-26T17:23:39.427615Z"
    }
   },
   "outputs": [],
   "source": [
    "df_3.info()"
   ]
  },
  {
   "cell_type": "code",
   "execution_count": null,
   "metadata": {
    "ExecuteTime": {
     "end_time": "2022-07-26T17:23:40.235476Z",
     "start_time": "2022-07-26T17:23:40.205368Z"
    }
   },
   "outputs": [],
   "source": [
    "# Looking at the distributions for each Boro\n",
    "df_3['BORO'].value_counts()"
   ]
  },
  {
   "cell_type": "code",
   "execution_count": null,
   "metadata": {
    "ExecuteTime": {
     "end_time": "2022-07-26T17:23:41.000320Z",
     "start_time": "2022-07-26T17:23:40.965444Z"
    }
   },
   "outputs": [],
   "source": [
    "# Inspecting missing Boro's\n",
    "df_3[df_3['BORO'] == '0' ]"
   ]
  },
  {
   "cell_type": "code",
   "execution_count": null,
   "metadata": {
    "ExecuteTime": {
     "end_time": "2022-07-26T17:23:42.042166Z",
     "start_time": "2022-07-26T17:23:42.001389Z"
    }
   },
   "outputs": [],
   "source": [
    "# Imputing missing BORO labels\n",
    "df_3.loc[6780:6781]['BORO'] = 'Brooklyn'\n",
    "df_3.loc[10182:10182]['BORO'] = 'Manhattan'"
   ]
  },
  {
   "cell_type": "code",
   "execution_count": null,
   "metadata": {
    "ExecuteTime": {
     "end_time": "2022-07-26T17:23:43.534761Z",
     "start_time": "2022-07-26T17:23:43.507814Z"
    },
    "scrolled": true
   },
   "outputs": [],
   "source": [
    "# Looking at Restaurants with missing zipcodes\n",
    "df_3[df_3['ZIPCODE'].isna()]"
   ]
  },
  {
   "cell_type": "code",
   "execution_count": null,
   "metadata": {
    "ExecuteTime": {
     "end_time": "2022-07-26T17:23:44.312678Z",
     "start_time": "2022-07-26T17:23:44.289223Z"
    },
    "scrolled": true
   },
   "outputs": [],
   "source": [
    "# Looking at Restaurants with missing zipcodes\n",
    "missing_zips = df_3['ZIPCODE'].isna()"
   ]
  },
  {
   "cell_type": "code",
   "execution_count": null,
   "metadata": {
    "ExecuteTime": {
     "end_time": "2022-07-26T17:23:45.052287Z",
     "start_time": "2022-07-26T17:23:45.023347Z"
    }
   },
   "outputs": [],
   "source": [
    "# Converting location data from str to dict dtype\n",
    "df_3['location'] = df_3['location'].apply(lambda x: ast.literal_eval(x))"
   ]
  },
  {
   "cell_type": "code",
   "execution_count": null,
   "metadata": {
    "ExecuteTime": {
     "end_time": "2022-07-26T17:23:45.513980Z",
     "start_time": "2022-07-26T17:23:45.487567Z"
    }
   },
   "outputs": [],
   "source": [
    "# Confirming change\n",
    "type(df_3.iloc[0]['location'])"
   ]
  },
  {
   "cell_type": "code",
   "execution_count": null,
   "metadata": {
    "ExecuteTime": {
     "end_time": "2022-07-26T17:23:45.943320Z",
     "start_time": "2022-07-26T17:23:45.913660Z"
    }
   },
   "outputs": [],
   "source": [
    "# Imputing Zipcodes missing from NYC data with Yelp value\n",
    "addrss_list = list(df_3['location'])\n",
    "zip_list =[]\n",
    "\n",
    "for zipcode in addrss_list:\n",
    "    zip_list.append(zipcode['zip_code'])\n",
    "    \n",
    "df_3['Zip_code'] = zip_list\n",
    "df_3.drop(columns=['ZIPCODE'],inplace=True)"
   ]
  },
  {
   "cell_type": "code",
   "execution_count": null,
   "metadata": {
    "ExecuteTime": {
     "end_time": "2022-07-26T17:23:46.396219Z",
     "start_time": "2022-07-26T17:23:46.364341Z"
    }
   },
   "outputs": [],
   "source": [
    "df_3['price'].value_counts()"
   ]
  },
  {
   "cell_type": "code",
   "execution_count": null,
   "metadata": {
    "ExecuteTime": {
     "end_time": "2022-07-26T17:23:47.454462Z",
     "start_time": "2022-07-26T17:23:47.428875Z"
    }
   },
   "outputs": [],
   "source": [
    "# Converting all review text into string objects\n",
    "df_3['Reviews'].astype(str,errors='raise')"
   ]
  },
  {
   "cell_type": "markdown",
   "metadata": {},
   "source": [
    "# Exploring The Dataset"
   ]
  },
  {
   "cell_type": "code",
   "execution_count": null,
   "metadata": {
    "ExecuteTime": {
     "end_time": "2022-07-26T17:23:49.211725Z",
     "start_time": "2022-07-26T17:23:49.199681Z"
    }
   },
   "outputs": [],
   "source": [
    "# Checking for bussiness still missing review data\n",
    "df_1['Reviews'].isna().sum()"
   ]
  },
  {
   "cell_type": "code",
   "execution_count": null,
   "metadata": {
    "ExecuteTime": {
     "end_time": "2022-07-26T17:23:50.387885Z",
     "start_time": "2022-07-26T17:23:50.358560Z"
    }
   },
   "outputs": [],
   "source": [
    "# Dropping businesses missing reviews\n",
    "df_4 = df_1.dropna(subset=['Reviews'])"
   ]
  },
  {
   "cell_type": "code",
   "execution_count": null,
   "metadata": {
    "ExecuteTime": {
     "end_time": "2022-07-26T17:23:51.948050Z",
     "start_time": "2022-07-26T17:23:51.935959Z"
    }
   },
   "outputs": [],
   "source": [
    "df_4['Reviews'].isna().sum()"
   ]
  },
  {
   "cell_type": "code",
   "execution_count": null,
   "metadata": {
    "ExecuteTime": {
     "end_time": "2022-07-26T17:23:54.168782Z",
     "start_time": "2022-07-26T17:23:53.596167Z"
    }
   },
   "outputs": [],
   "source": [
    "# Check for duplicates\n",
    "df_4.duplicated(keep='first').sum()"
   ]
  },
  {
   "cell_type": "code",
   "execution_count": null,
   "metadata": {
    "ExecuteTime": {
     "end_time": "2022-07-26T17:23:54.907769Z",
     "start_time": "2022-07-26T17:23:54.506417Z"
    }
   },
   "outputs": [],
   "source": [
    "# drop duplicates\n",
    "df_4.drop_duplicates(keep='first', inplace=True)"
   ]
  },
  {
   "cell_type": "code",
   "execution_count": null,
   "metadata": {
    "ExecuteTime": {
     "end_time": "2022-07-26T17:23:55.542472Z",
     "start_time": "2022-07-26T17:23:55.522209Z"
    }
   },
   "outputs": [],
   "source": [
    "# Dropping unneccessary columns\n",
    "eda_df = df_4.drop(columns=['display_phone','phone','location','coordinates',\n",
    "                 'categories','is_closed','url','image_url','name','alias'])"
   ]
  },
  {
   "cell_type": "code",
   "execution_count": null,
   "metadata": {
    "ExecuteTime": {
     "end_time": "2022-07-26T17:23:56.531160Z",
     "start_time": "2022-07-26T17:23:56.494248Z"
    }
   },
   "outputs": [],
   "source": [
    "eda_df['price'].value_counts()"
   ]
  },
  {
   "cell_type": "code",
   "execution_count": null,
   "metadata": {
    "ExecuteTime": {
     "end_time": "2022-07-26T17:23:57.197225Z",
     "start_time": "2022-07-26T17:23:57.165598Z"
    }
   },
   "outputs": [],
   "source": [
    "eda_df['rating'].value_counts()"
   ]
  },
  {
   "cell_type": "code",
   "execution_count": null,
   "metadata": {
    "ExecuteTime": {
     "end_time": "2022-07-26T17:23:59.835066Z",
     "start_time": "2022-07-26T17:23:59.132905Z"
    }
   },
   "outputs": [],
   "source": [
    "#Get the distribution of the ratings\n",
    "x=eda_df['rating'].value_counts()\n",
    "x=x.sort_index()\n",
    "#plot\n",
    "plt.figure(figsize=(8,4))\n",
    "ax= sns.barplot(x.index, x.values, alpha=0.8)\n",
    "plt.title(\"Star Rating Distribution\")\n",
    "plt.ylabel('# of businesses', fontsize=12)\n",
    "plt.xlabel('Star Ratings ', fontsize=12)\n",
    "\n",
    "#adding the text labels\n",
    "rects = ax.patches\n",
    "labels = x.values\n",
    "for rect, label in zip(rects, labels):\n",
    "    height = rect.get_height()\n",
    "    ax.text(rect.get_x() + rect.get_width()/2, height + 5, label, ha='center', va='bottom')\n",
    "\n",
    "plt.show()"
   ]
  },
  {
   "cell_type": "code",
   "execution_count": null,
   "metadata": {
    "ExecuteTime": {
     "end_time": "2022-07-26T17:24:00.085554Z",
     "start_time": "2022-07-26T17:24:00.074432Z"
    }
   },
   "outputs": [],
   "source": [
    "fig = plt.figure()"
   ]
  },
  {
   "cell_type": "code",
   "execution_count": null,
   "metadata": {
    "ExecuteTime": {
     "end_time": "2022-07-26T17:24:02.111154Z",
     "start_time": "2022-07-26T17:24:02.077936Z"
    }
   },
   "outputs": [],
   "source": [
    "eda_df['rating'].value_counts()"
   ]
  },
  {
   "cell_type": "code",
   "execution_count": null,
   "metadata": {
    "ExecuteTime": {
     "end_time": "2022-07-26T17:24:03.593590Z",
     "start_time": "2022-07-26T17:24:02.965986Z"
    }
   },
   "outputs": [],
   "source": [
    "sns.distplot(eda_df.rating, kde=False)"
   ]
  },
  {
   "cell_type": "code",
   "execution_count": null,
   "metadata": {
    "ExecuteTime": {
     "end_time": "2022-07-26T17:24:03.764694Z",
     "start_time": "2022-07-26T17:24:03.744804Z"
    }
   },
   "outputs": [],
   "source": [
    "cuisines = pd.DataFrame(eda_df['CUISINE DESCRIPTION'].value_counts())\n",
    "cuisines.reset_index(inplace=True)\n",
    "cuisines[0:10]"
   ]
  },
  {
   "cell_type": "code",
   "execution_count": null,
   "metadata": {
    "ExecuteTime": {
     "end_time": "2022-07-26T17:24:05.782618Z",
     "start_time": "2022-07-26T17:24:04.666242Z"
    }
   },
   "outputs": [],
   "source": [
    "# What are the popular Cuisine categories?\n",
    "cuisine_cats = eda_df['CUISINE DESCRIPTION']\n",
    "\n",
    "x = cuisine_cats.value_counts()\n",
    "\n",
    "print(\"There are \",len(x),\" different types of cuisines in NYC\")\n",
    "\n",
    "#prep for chart\n",
    "x = x.sort_values(ascending=False)\n",
    "x = x.iloc[0:20]\n",
    "\n",
    "#chart\n",
    "plt.figure(figsize=(16,4))\n",
    "ax = sns.barplot(x.index, x.values, alpha=0.8)#,color=color[5])\n",
    "plt.title(\"What are the top categories?\",fontsize=25)\n",
    "locs, labels = plt.xticks()\n",
    "plt.setp(labels, rotation=80)\n",
    "plt.ylabel('# businesses', fontsize=12)\n",
    "plt.xlabel('Category', fontsize=12)\n",
    "\n",
    "#adding the text labels\n",
    "rects = ax.patches\n",
    "labels = x.values\n",
    "for rect, label in zip(rects, labels):\n",
    "    height = rect.get_height()\n",
    "    ax.text(rect.get_x() + rect.get_width()/2, height + 5, label, ha='center', va='bottom')\n",
    "\n",
    "plt.show()"
   ]
  },
  {
   "cell_type": "code",
   "execution_count": null,
   "metadata": {
    "ExecuteTime": {
     "end_time": "2022-07-26T17:24:05.799315Z",
     "start_time": "2022-07-26T17:24:05.787917Z"
    }
   },
   "outputs": [],
   "source": [
    "eda_df.columns"
   ]
  },
  {
   "cell_type": "code",
   "execution_count": null,
   "metadata": {
    "ExecuteTime": {
     "end_time": "2022-07-26T17:24:06.285562Z",
     "start_time": "2022-07-26T17:24:06.250997Z"
    }
   },
   "outputs": [],
   "source": [
    "# Most reviewed restaurants\n",
    "eda_df[['CAMIS','id','DBA', 'review_count', 'rating']].sort_values(ascending=False, by=\"review_count\")[0:50]"
   ]
  },
  {
   "cell_type": "code",
   "execution_count": null,
   "metadata": {
    "ExecuteTime": {
     "end_time": "2022-07-26T17:24:07.070357Z",
     "start_time": "2022-07-26T17:24:07.064998Z"
    }
   },
   "outputs": [],
   "source": [
    "# Look at all the feautres compared to the 0 class and 1 class"
   ]
  },
  {
   "cell_type": "code",
   "execution_count": null,
   "metadata": {
    "ExecuteTime": {
     "end_time": "2022-07-26T17:24:07.975737Z",
     "start_time": "2022-07-26T17:24:07.967988Z"
    }
   },
   "outputs": [],
   "source": [
    "labels_df = eda_df['Severe']\n",
    "labels_df.shape"
   ]
  },
  {
   "cell_type": "code",
   "execution_count": null,
   "metadata": {
    "ExecuteTime": {
     "end_time": "2022-07-26T17:24:09.036651Z",
     "start_time": "2022-07-26T17:24:08.734419Z"
    }
   },
   "outputs": [],
   "source": [
    "fig, ax = plt.subplots(figsize=(9.2, 5))\n",
    "\n",
    "n_obs = labels_df.shape\n",
    "\n",
    "(eda_df['Severe']\n",
    "    .value_counts()\n",
    "    .plot.barh(title=\"Proportion of Restaurants with Severe Violations\", ax=ax)\n",
    ")\n",
    "ax.set_ylabel(\"Severe Violations\")\n",
    "\n",
    "fig.tight_layout()"
   ]
  },
  {
   "cell_type": "code",
   "execution_count": null,
   "metadata": {
    "ExecuteTime": {
     "end_time": "2022-07-26T17:24:09.597133Z",
     "start_time": "2022-07-26T17:24:09.545265Z"
    }
   },
   "outputs": [],
   "source": [
    "counts = (eda_df[['BORO', 'Severe']]\n",
    "              .groupby(['BORO', 'Severe'])\n",
    "              .size()\n",
    "              .unstack('Severe')\n",
    "         )\n",
    "counts"
   ]
  },
  {
   "cell_type": "code",
   "execution_count": null,
   "metadata": {
    "ExecuteTime": {
     "end_time": "2022-07-26T17:24:11.563965Z",
     "start_time": "2022-07-26T17:24:11.055158Z"
    }
   },
   "outputs": [],
   "source": [
    "ax = counts.plot.barh()\n",
    "ax.legend(\n",
    "    loc='center right', \n",
    "    bbox_to_anchor=(1.3, 0.5), \n",
    "    title='Severe Violations'\n",
    ");"
   ]
  },
  {
   "cell_type": "code",
   "execution_count": null,
   "metadata": {
    "ExecuteTime": {
     "end_time": "2022-07-26T17:24:11.860808Z",
     "start_time": "2022-07-26T17:24:11.852002Z"
    }
   },
   "outputs": [],
   "source": [
    "severe_counts = counts.sum(axis='columns')\n",
    "severe_counts"
   ]
  },
  {
   "cell_type": "code",
   "execution_count": null,
   "metadata": {
    "ExecuteTime": {
     "end_time": "2022-07-26T17:24:12.668952Z",
     "start_time": "2022-07-26T17:24:12.652142Z"
    }
   },
   "outputs": [],
   "source": [
    "props = counts.div(severe_counts, axis='index')\n",
    "props"
   ]
  },
  {
   "cell_type": "code",
   "execution_count": null,
   "metadata": {
    "ExecuteTime": {
     "end_time": "2022-07-26T17:24:13.679434Z",
     "start_time": "2022-07-26T17:24:13.313199Z"
    }
   },
   "outputs": [],
   "source": [
    "# Prototyping Stack Barh plot\n",
    "ax = props.plot.barh(stacked=True)\n",
    "ax.set_title('Severe Violations by Boro')\n",
    "ax.set_xlabel('Proportion of Restaurants w/Severe Violations ')\n",
    "ax.legend(\n",
    "    loc='center left', \n",
    "    bbox_to_anchor=(1.05, 0.5),\n",
    "    title='Severe Violations'\n",
    ");"
   ]
  },
  {
   "cell_type": "code",
   "execution_count": null,
   "metadata": {
    "ExecuteTime": {
     "end_time": "2022-07-26T17:24:13.997130Z",
     "start_time": "2022-07-26T17:24:13.988251Z"
    }
   },
   "outputs": [],
   "source": [
    "def violation_rate_plot(col, target, data, ax=None):\n",
    "    \"\"\"Stacked bar chart of severe health and safety violations rate against \n",
    "    each feature of the data. \n",
    "    \n",
    "    Args:\n",
    "        col (string): column name of feature variable\n",
    "        target (string): column name of target variable\n",
    "        data (pandas DataFrame): dataframe that contains columns \n",
    "            `col` and `target`\n",
    "        ax (matplotlib axes object, optional): matplotlib axes \n",
    "            object to attach plot to\n",
    "    \"\"\"\n",
    "    counts = (eda_df[[target, col]]\n",
    "                  .groupby([target, col])\n",
    "                  .size()\n",
    "                  .unstack(target)\n",
    "             )\n",
    "    group_counts = counts.sum(axis='columns')\n",
    "    props = counts.div(group_counts, axis='index')\n",
    "\n",
    "    props.plot(kind=\"barh\", stacked=True, ax=ax)\n",
    "\n",
    "    ax.legend().remove()"
   ]
  },
  {
   "cell_type": "code",
   "execution_count": null,
   "metadata": {
    "ExecuteTime": {
     "end_time": "2022-07-26T17:24:15.366970Z",
     "start_time": "2022-07-26T17:24:15.360066Z"
    }
   },
   "outputs": [],
   "source": [
    "eda_df.columns"
   ]
  },
  {
   "cell_type": "code",
   "execution_count": null,
   "metadata": {
    "ExecuteTime": {
     "end_time": "2022-07-26T17:24:17.263069Z",
     "start_time": "2022-07-26T17:24:15.491374Z"
    }
   },
   "outputs": [],
   "source": [
    "# Loop through several columns and plot against both severe violations.\n",
    "\n",
    "cols_to_plot = [\n",
    "    'rating',\n",
    "    'transactions',\n",
    "    'price'\n",
    "]\n",
    "\n",
    "fig, ax = plt.subplots(\n",
    "    len(cols_to_plot), figsize=(10,len(cols_to_plot)*2.5)\n",
    ")\n",
    "for idx, col in enumerate(cols_to_plot):\n",
    "    \n",
    "    violation_rate_plot(\n",
    "        col, 'Severe', eda_df, ax=ax[idx]\n",
    "    )\n",
    "    \n",
    "\n",
    "ax[0].legend(\n",
    "    loc='lower center', bbox_to_anchor=(0.5, 1.05), title='Severe Violations'\n",
    ")\n",
    "fig.tight_layout()"
   ]
  },
  {
   "cell_type": "code",
   "execution_count": null,
   "metadata": {
    "ExecuteTime": {
     "end_time": "2022-07-26T17:24:17.289412Z",
     "start_time": "2022-07-26T17:24:16.265Z"
    }
   },
   "outputs": [],
   "source": [
    "# import street map\n",
    "# https://data.cityofnewyork.us/City-Government/Borough-Boundaries/tqmj-j8zm\n",
    "\n",
    "street_map = gpd.read_file('data/Borough_Boundaries/geo_export_392103e7-13e2-43bf-aaf0-7e5c6a24b7b2.shp')\n"
   ]
  },
  {
   "cell_type": "code",
   "execution_count": null,
   "metadata": {
    "ExecuteTime": {
     "end_time": "2022-07-26T17:24:17.426958Z",
     "start_time": "2022-07-26T17:24:17.418172Z"
    }
   },
   "outputs": [],
   "source": [
    "geo_eda = eda_df.copy()"
   ]
  },
  {
   "cell_type": "code",
   "execution_count": null,
   "metadata": {
    "ExecuteTime": {
     "end_time": "2022-07-26T17:24:18.242870Z",
     "start_time": "2022-07-26T17:24:18.227072Z"
    }
   },
   "outputs": [],
   "source": [
    "geo_eda.dropna(axis=0, subset=['Latitude','Longitude'], inplace=True)"
   ]
  },
  {
   "cell_type": "code",
   "execution_count": null,
   "metadata": {
    "ExecuteTime": {
     "end_time": "2022-07-26T17:24:18.950489Z",
     "start_time": "2022-07-26T17:24:18.923427Z"
    }
   },
   "outputs": [],
   "source": [
    "# Remove the most extreme .1% latitudes, &\n",
    "# the most extreme .1% longitudes\n",
    "\n",
    "geo_eda = geo_eda[\n",
    " (geo_eda['Latitude'] >= np.percentile(geo_eda['Latitude'], 0.05)) & \n",
    " (geo_eda['Latitude'] < np.percentile(geo_eda['Latitude'], 99.95)) &\n",
    " (geo_eda['Longitude'] >= np.percentile(geo_eda['Longitude'], 0.05)) & \n",
    " (geo_eda['Longitude'] <= np.percentile(geo_eda['Longitude'], 99.95))\n",
    "]"
   ]
  },
  {
   "cell_type": "code",
   "execution_count": null,
   "metadata": {
    "ExecuteTime": {
     "end_time": "2022-07-26T17:24:19.706799Z",
     "start_time": "2022-07-26T17:24:19.623266Z"
    }
   },
   "outputs": [],
   "source": [
    "geo_eda = geo_eda[geo_eda['Longitude'] != 0]"
   ]
  },
  {
   "cell_type": "code",
   "execution_count": null,
   "metadata": {
    "ExecuteTime": {
     "end_time": "2022-07-26T17:24:20.226927Z",
     "start_time": "2022-07-26T17:24:20.216188Z"
    }
   },
   "outputs": [],
   "source": [
    "geo_eda = geo_eda[geo_eda['Latitude'] != 0]"
   ]
  },
  {
   "cell_type": "code",
   "execution_count": null,
   "metadata": {
    "ExecuteTime": {
     "end_time": "2022-07-26T17:24:20.880138Z",
     "start_time": "2022-07-26T17:24:20.870424Z"
    }
   },
   "outputs": [],
   "source": [
    "print(geo_eda['Longitude'].max())\n",
    "print(geo_eda['Longitude'].min())\n",
    "print(geo_eda['Latitude'].max())\n",
    "print(geo_eda['Latitude'].min())"
   ]
  },
  {
   "cell_type": "code",
   "execution_count": null,
   "metadata": {
    "ExecuteTime": {
     "end_time": "2022-07-26T17:24:21.724012Z",
     "start_time": "2022-07-26T17:24:21.407779Z"
    }
   },
   "outputs": [],
   "source": [
    "# designate coordinate system\n",
    "crs = {'init':'epsg:4326'}\n",
    "# zip x and y coordinates into single feature\n",
    "geometry = [Point(xy) for xy in zip(geo_eda['Longitude'], geo_eda['Latitude'])]"
   ]
  },
  {
   "cell_type": "code",
   "execution_count": null,
   "metadata": {
    "ExecuteTime": {
     "end_time": "2022-07-26T17:24:22.749699Z",
     "start_time": "2022-07-26T17:24:21.875758Z"
    }
   },
   "outputs": [],
   "source": [
    "# create GeoPandas dataframe\n",
    "geo_df = gpd.GeoDataFrame(geo_eda, crs=crs, geometry = geometry)"
   ]
  },
  {
   "cell_type": "code",
   "execution_count": null,
   "metadata": {
    "ExecuteTime": {
     "end_time": "2022-07-26T17:24:23.111440Z",
     "start_time": "2022-07-26T17:24:22.758424Z"
    }
   },
   "outputs": [],
   "source": [
    "# Plotting map\n",
    "fig, ax = plt.subplots(figsize=(15,15))\n",
    "street_map.plot(ax=ax, alpha=.5,color='gray')\n",
    "geo_df[geo_df['Severe'] == 0].plot(ax=ax, alpha=.1, markersize=20,color='blue',label='Pass')\n",
    "geo_df[geo_df['Severe'] == 1].plot(ax=ax, alpha=.1, markersize=20,color='red',label='Fail')\n",
    "plt.legend(prop={'size':15});"
   ]
  },
  {
   "cell_type": "markdown",
   "metadata": {},
   "source": [
    "# Preprocessing For Further EDA"
   ]
  },
  {
   "cell_type": "markdown",
   "metadata": {},
   "source": [
    "### Lets find most frequent words in Negative reviews"
   ]
  },
  {
   "cell_type": "markdown",
   "metadata": {},
   "source": [
    "Basically, we will find most frequent words in reviews to get an overview of why users gave low ratings. These words could be related to those business attributes or services about which users are most unhappy.\n",
    "\n"
   ]
  },
  {
   "cell_type": "code",
   "execution_count": null,
   "metadata": {
    "ExecuteTime": {
     "end_time": "2022-07-26T17:24:24.825296Z",
     "start_time": "2022-07-26T17:24:24.809495Z"
    }
   },
   "outputs": [],
   "source": [
    "txt_eda = df_4.copy()"
   ]
  },
  {
   "cell_type": "code",
   "execution_count": null,
   "metadata": {
    "ExecuteTime": {
     "end_time": "2022-07-26T17:24:25.585004Z",
     "start_time": "2022-07-26T17:24:25.527184Z"
    }
   },
   "outputs": [],
   "source": [
    "passed_df = txt_eda.loc[txt_eda['Severe']==0]\n",
    "passed_df"
   ]
  },
  {
   "cell_type": "code",
   "execution_count": null,
   "metadata": {
    "ExecuteTime": {
     "end_time": "2022-07-26T17:24:29.419594Z",
     "start_time": "2022-07-26T17:24:26.462228Z"
    }
   },
   "outputs": [],
   "source": [
    "failed_df = txt_eda.loc[txt_eda['Severe']==1]\n",
    "failed_df"
   ]
  },
  {
   "cell_type": "code",
   "execution_count": null,
   "metadata": {
    "ExecuteTime": {
     "end_time": "2022-07-26T17:24:29.465244Z",
     "start_time": "2022-07-26T17:24:29.433134Z"
    }
   },
   "outputs": [],
   "source": [
    "passed_corpus = passed_df['Reviews'].to_list()\n",
    "passed_corpus[:5]"
   ]
  },
  {
   "cell_type": "code",
   "execution_count": null,
   "metadata": {
    "ExecuteTime": {
     "end_time": "2022-07-26T17:24:29.487408Z",
     "start_time": "2022-07-26T17:24:29.475842Z"
    }
   },
   "outputs": [],
   "source": [
    "failed_corpus = failed_df['Reviews'].to_list()\n",
    "failed_corpus[:5]"
   ]
  },
  {
   "cell_type": "code",
   "execution_count": null,
   "metadata": {
    "ExecuteTime": {
     "end_time": "2022-07-26T17:25:40.921145Z",
     "start_time": "2022-07-26T17:24:29.494874Z"
    }
   },
   "outputs": [],
   "source": [
    "# Tokenizing the corpus of review text from restaurants that have severly failed their inspection\n",
    "failed_tokens = word_tokenize(','.join(failed_corpus))\n"
   ]
  },
  {
   "cell_type": "code",
   "execution_count": null,
   "metadata": {
    "ExecuteTime": {
     "end_time": "2022-07-26T17:28:24.897185Z",
     "start_time": "2022-07-26T17:25:40.924524Z"
    }
   },
   "outputs": [],
   "source": [
    "# Tokenizing the corpus of review text from restaurants that have not severly  their inspection\n",
    "passed_tokens = word_tokenize(','.join(passed_corpus))"
   ]
  },
  {
   "cell_type": "code",
   "execution_count": null,
   "metadata": {
    "ExecuteTime": {
     "end_time": "2022-07-26T17:28:24.932368Z",
     "start_time": "2022-07-26T17:28:24.904881Z"
    }
   },
   "outputs": [],
   "source": [
    "# Importing English stop words\n",
    "stopwords_list = stopwords.words('english')\n",
    "# Add punctuation marks to the stopwords_list\n",
    "stopwords_list.extend(string.punctuation)\n",
    "additional_punc = ['“','”','...',\"''\",'’','``']\n",
    "stopwords_list.extend(additional_punc)"
   ]
  },
  {
   "cell_type": "code",
   "execution_count": null,
   "metadata": {
    "ExecuteTime": {
     "end_time": "2022-07-26T17:28:48.485212Z",
     "start_time": "2022-07-26T17:28:24.941851Z"
    }
   },
   "outputs": [],
   "source": [
    "# Removing stopwords from failed_corpus\n",
    "stopped_failed_tokens = [w.lower() for w in failed_tokens if w.lower() not in stopwords_list]\n",
    "stopped_failed_tokens[:10]"
   ]
  },
  {
   "cell_type": "code",
   "execution_count": null,
   "metadata": {
    "ExecuteTime": {
     "end_time": "2022-07-26T17:29:40.694205Z",
     "start_time": "2022-07-26T17:28:48.536397Z"
    }
   },
   "outputs": [],
   "source": [
    "# Removing stopwords from passed_corpus\n",
    "stopped_passed_tokens = [w.lower() for w in passed_tokens if w.lower() not in stopwords_list]\n",
    "stopped_passed_tokens[:10]"
   ]
  },
  {
   "cell_type": "code",
   "execution_count": null,
   "metadata": {
    "ExecuteTime": {
     "end_time": "2022-07-26T17:29:44.817645Z",
     "start_time": "2022-07-26T17:29:40.699563Z"
    }
   },
   "outputs": [],
   "source": [
    "# Creating FreqDist from stopped_failed_tokens\n",
    "freq_failed = FreqDist(stopped_failed_tokens)\n",
    "freq_failed.most_common(15)"
   ]
  },
  {
   "cell_type": "code",
   "execution_count": null,
   "metadata": {
    "ExecuteTime": {
     "end_time": "2022-07-26T17:29:53.099059Z",
     "start_time": "2022-07-26T17:29:44.822725Z"
    }
   },
   "outputs": [],
   "source": [
    "# Creating FreqDist from stopped_passed_tokens\n",
    "freq_passed = FreqDist(stopped_passed_tokens)\n",
    "freq_passed.most_common(15)"
   ]
  },
  {
   "cell_type": "code",
   "execution_count": null,
   "metadata": {
    "ExecuteTime": {
     "end_time": "2022-07-26T17:29:53.123715Z",
     "start_time": "2022-07-26T17:29:53.116837Z"
    }
   },
   "outputs": [],
   "source": [
    "# Functionizing wordcloud generator\n",
    "def wordcloud_generator(tokens, collocations=False, background_color='black', \n",
    "                       colormap='Reds', display=True):\n",
    "\n",
    "    \n",
    "    # Initalize a WordCloud\n",
    "    wordcloud = WordCloud(collocations=collocations, \n",
    "                          background_color=background_color, \n",
    "                          colormap=colormap, \n",
    "                          width=500, height=300)\n",
    "\n",
    "    # Generate wordcloud from tokens\n",
    "    wordcloud.generate(','.join(tokens))\n",
    "\n",
    "    # Plot with matplotlib\n",
    "    if display:\n",
    "        plt.figure(figsize = (12, 15), facecolor = None) \n",
    "        plt.imshow(wordcloud) \n",
    "        plt.axis('off');\n",
    "        \n",
    "    return wordcloud\n",
    "    "
   ]
  },
  {
   "cell_type": "code",
   "execution_count": null,
   "metadata": {
    "ExecuteTime": {
     "end_time": "2022-07-26T17:30:28.592816Z",
     "start_time": "2022-07-26T17:29:53.131543Z"
    }
   },
   "outputs": [],
   "source": [
    "# Generating a WordCloud for reviews from restaurants that have failed their inspection\n",
    "failed_cloud = wordcloud_generator(stopped_failed_tokens, collocations=True)"
   ]
  },
  {
   "cell_type": "code",
   "execution_count": null,
   "metadata": {
    "ExecuteTime": {
     "end_time": "2022-07-26T17:31:25.878862Z",
     "start_time": "2022-07-26T17:30:28.630805Z"
    }
   },
   "outputs": [],
   "source": [
    "# Generate a WordCloud from reviews of restaurants that have not severely failed an inspection\n",
    "passsed_cloud = wordcloud_generator(stopped_passed_tokens, colormap='Greens',\n",
    "                                     collocations=True)"
   ]
  },
  {
   "cell_type": "markdown",
   "metadata": {},
   "source": [
    "### Bigrams"
   ]
  },
  {
   "cell_type": "code",
   "execution_count": null,
   "metadata": {
    "ExecuteTime": {
     "end_time": "2022-07-26T17:31:50.780477Z",
     "start_time": "2022-07-26T17:31:25.887942Z"
    }
   },
   "outputs": [],
   "source": [
    "# Bigrams from reviews of failed inspections\n",
    "bigram_measures = nltk.collocations.BigramAssocMeasures()\n",
    "review_finder = nltk.BigramCollocationFinder.from_words(stopped_failed_tokens)\n",
    "reviews_scored = review_finder.score_ngrams(bigram_measures.raw_freq)"
   ]
  },
  {
   "cell_type": "code",
   "execution_count": null,
   "metadata": {
    "ExecuteTime": {
     "end_time": "2022-07-26T17:31:52.099214Z",
     "start_time": "2022-07-26T17:31:50.784645Z"
    }
   },
   "outputs": [],
   "source": [
    "# df from the Bigrams\n",
    "pd.DataFrame(reviews_scored, columns=[\"Word\",\"Freq\"]).head(10)"
   ]
  },
  {
   "cell_type": "code",
   "execution_count": null,
   "metadata": {
    "ExecuteTime": {
     "end_time": "2022-07-26T17:32:40.272083Z",
     "start_time": "2022-07-26T17:31:52.111555Z"
    }
   },
   "outputs": [],
   "source": [
    "# Bigrams from reviews of restaurants passed their inspections\n",
    "bigram_measures = nltk.collocations.BigramAssocMeasures()\n",
    "review_finder = nltk.BigramCollocationFinder.from_words(stopped_passed_tokens)\n",
    "reviews_scored = review_finder.score_ngrams(bigram_measures.raw_freq)"
   ]
  },
  {
   "cell_type": "code",
   "execution_count": null,
   "metadata": {
    "ExecuteTime": {
     "end_time": "2022-07-26T17:32:42.660599Z",
     "start_time": "2022-07-26T17:32:40.290828Z"
    }
   },
   "outputs": [],
   "source": [
    "# df from the Bigrams\n",
    "pd.DataFrame(reviews_scored, columns=[\"Word\",\"Freq\"]).head(10)"
   ]
  },
  {
   "cell_type": "code",
   "execution_count": null,
   "metadata": {
    "ExecuteTime": {
     "end_time": "2022-07-26T17:32:42.807923Z",
     "start_time": "2022-07-26T17:32:42.763062Z"
    }
   },
   "outputs": [],
   "source": [
    "# FREQ DIST PLOT FOR MOST FREQ WORDS IN PASSED AND FAILED RESTAURANTS"
   ]
  },
  {
   "cell_type": "code",
   "execution_count": null,
   "metadata": {
    "ExecuteTime": {
     "end_time": "2022-07-26T17:32:47.051820Z",
     "start_time": "2022-07-26T17:32:42.814119Z"
    }
   },
   "outputs": [],
   "source": [
    "fdist = FreqDist(stopped_failed_tokens)\n",
    "plt.figure(figsize=(10, 10))\n",
    "fdist.plot(30);"
   ]
  },
  {
   "cell_type": "code",
   "execution_count": null,
   "metadata": {
    "ExecuteTime": {
     "end_time": "2022-07-26T17:32:47.937963Z",
     "start_time": "2022-07-26T17:32:47.075751Z"
    }
   },
   "outputs": [],
   "source": [
    "nltk.download('vader_lexicon')"
   ]
  },
  {
   "cell_type": "code",
   "execution_count": null,
   "metadata": {
    "ExecuteTime": {
     "end_time": "2022-07-26T17:32:48.030758Z",
     "start_time": "2022-07-26T17:32:47.943669Z"
    }
   },
   "outputs": [],
   "source": [
    "sid = SentimentIntensityAnalyzer()"
   ]
  },
  {
   "cell_type": "code",
   "execution_count": null,
   "metadata": {
    "ExecuteTime": {
     "end_time": "2022-07-26T17:32:48.045124Z",
     "start_time": "2022-07-26T17:32:48.040087Z"
    }
   },
   "outputs": [],
   "source": [
    "a =  'This is an excellent restaurant!'"
   ]
  },
  {
   "cell_type": "code",
   "execution_count": null,
   "metadata": {
    "ExecuteTime": {
     "end_time": "2022-07-26T17:32:48.084857Z",
     "start_time": "2022-07-26T17:32:48.052509Z"
    }
   },
   "outputs": [],
   "source": [
    "sid.polarity_scores(a)"
   ]
  },
  {
   "cell_type": "code",
   "execution_count": null,
   "metadata": {},
   "outputs": [],
   "source": []
  },
  {
   "cell_type": "code",
   "execution_count": null,
   "metadata": {
    "ExecuteTime": {
     "end_time": "2022-07-26T17:32:48.519941Z",
     "start_time": "2022-07-26T17:32:48.091182Z"
    }
   },
   "outputs": [],
   "source": [
    "df_5['price'].value_counts()"
   ]
  },
  {
   "cell_type": "code",
   "execution_count": null,
   "metadata": {
    "ExecuteTime": {
     "end_time": "2022-07-26T17:33:24.449678Z",
     "start_time": "2022-07-26T17:33:24.402392Z"
    }
   },
   "outputs": [],
   "source": [
    "# Mapping prices to ordinal categories\n",
    "price_dict={'$$$$': 4, '$$$': 3, '$$': 2, '$': 1}\n",
    "\n",
    "df_5['prices'] = df_5['price'].map(price_dict)"
   ]
  },
  {
   "cell_type": "code",
   "execution_count": null,
   "metadata": {
    "ExecuteTime": {
     "end_time": "2022-07-26T17:33:25.865078Z",
     "start_time": "2022-07-26T17:33:25.824750Z"
    }
   },
   "outputs": [],
   "source": [
    "# Imputing a zeros for NAN values\n",
    "df_5['prices'].fillna(0,inplace=True)"
   ]
  },
  {
   "cell_type": "code",
   "execution_count": null,
   "metadata": {
    "ExecuteTime": {
     "end_time": "2022-07-26T17:33:26.696532Z",
     "start_time": "2022-07-26T17:33:26.670932Z"
    }
   },
   "outputs": [],
   "source": [
    "transactions = df_5['transactions']"
   ]
  },
  {
   "cell_type": "code",
   "execution_count": null,
   "metadata": {
    "ExecuteTime": {
     "end_time": "2022-07-26T17:33:28.735890Z",
     "start_time": "2022-07-26T17:33:28.698513Z"
    }
   },
   "outputs": [],
   "source": [
    "# Use ast module to convert string objects into list\n",
    "transactions = transactions.apply(lambda x: ast.literal_eval(x))"
   ]
  },
  {
   "cell_type": "code",
   "execution_count": null,
   "metadata": {
    "ExecuteTime": {
     "end_time": "2022-07-26T17:33:29.483753Z",
     "start_time": "2022-07-26T17:33:29.454026Z"
    }
   },
   "outputs": [],
   "source": [
    "# Change list into dicts\n",
    "dcts = transactions.apply(lambda x: {c: 1 for c in x})\n",
    "\n",
    "# Create new dataframe based on the list of dictionaries.\n",
    "ohe_df = pd.DataFrame(dcts.tolist()).fillna(0)\n"
   ]
  },
  {
   "cell_type": "code",
   "execution_count": null,
   "metadata": {
    "ExecuteTime": {
     "end_time": "2022-07-26T17:33:31.307427Z",
     "start_time": "2022-07-26T17:33:31.277561Z"
    }
   },
   "outputs": [],
   "source": [
    "ohe_df"
   ]
  },
  {
   "cell_type": "code",
   "execution_count": null,
   "metadata": {
    "ExecuteTime": {
     "end_time": "2022-07-26T17:33:32.055935Z",
     "start_time": "2022-07-26T17:33:32.031168Z"
    }
   },
   "outputs": [],
   "source": [
    "# Concatenate dummy variales with the full dataset\n",
    "df_5 = pd.concat([df_5,ohe_df],axis=1)\n",
    "df_5.head()"
   ]
  },
  {
   "cell_type": "code",
   "execution_count": null,
   "metadata": {
    "ExecuteTime": {
     "end_time": "2022-07-26T17:33:33.199120Z",
     "start_time": "2022-07-26T17:33:33.162899Z"
    }
   },
   "outputs": [],
   "source": [
    "df_5.drop(columns=['price','transactions'],inplace=True)"
   ]
  },
  {
   "cell_type": "markdown",
   "metadata": {},
   "source": [
    "# Preprocessing For Modeling"
   ]
  },
  {
   "cell_type": "code",
   "execution_count": null,
   "metadata": {
    "ExecuteTime": {
     "end_time": "2022-07-26T17:33:38.380337Z",
     "start_time": "2022-07-26T17:33:38.372181Z"
    },
    "scrolled": true
   },
   "outputs": [],
   "source": [
    "df_4.columns"
   ]
  },
  {
   "cell_type": "code",
   "execution_count": null,
   "metadata": {
    "ExecuteTime": {
     "end_time": "2022-07-26T17:33:39.879961Z",
     "start_time": "2022-07-26T17:33:39.360436Z"
    }
   },
   "outputs": [],
   "source": [
    "# Dropping unneccessary columns\n",
    "model_df = df_4.drop(columns=['CAMIS', 'DBA', 'CUISINE DESCRIPTION', 'BORO',\n",
    "                               'BUILDING', 'STREET','ZIPCODE', 'PHONE',\n",
    "                               'Latitude', 'Longitude', 'Community Board',\n",
    "                               'Council District', 'Census Tract', \n",
    "                               'id', 'alias', 'name','image_url', 'is_closed',\n",
    "                               'url', 'review_count', 'categories', 'rating',\n",
    "                               'coordinates', 'transactions', 'price',\n",
    "                               'location', 'phone','display_phone'])"
   ]
  },
  {
   "cell_type": "code",
   "execution_count": null,
   "metadata": {
    "ExecuteTime": {
     "end_time": "2022-07-26T17:33:41.196213Z",
     "start_time": "2022-07-26T17:33:41.167497Z"
    }
   },
   "outputs": [],
   "source": [
    "model_df.head(3)"
   ]
  },
  {
   "cell_type": "code",
   "execution_count": null,
   "metadata": {
    "ExecuteTime": {
     "end_time": "2022-07-26T17:33:44.118078Z",
     "start_time": "2022-07-26T17:33:44.102743Z"
    }
   },
   "outputs": [],
   "source": [
    "model_df['Reviews'].isna().sum()"
   ]
  },
  {
   "cell_type": "code",
   "execution_count": null,
   "metadata": {
    "ExecuteTime": {
     "end_time": "2022-07-26T17:33:46.669502Z",
     "start_time": "2022-07-26T17:33:45.318875Z"
    }
   },
   "outputs": [],
   "source": [
    "# Checking for duplicates\n",
    "model_df.duplicated(keep='first').sum()"
   ]
  },
  {
   "cell_type": "code",
   "execution_count": null,
   "metadata": {
    "ExecuteTime": {
     "end_time": "2022-07-26T17:33:47.393606Z",
     "start_time": "2022-07-26T17:33:46.933455Z"
    }
   },
   "outputs": [],
   "source": [
    "# Dropping duplicates\n",
    "model_df.drop_duplicates(keep='first', inplace=True)\n",
    "\n",
    "# Confirming duplicates have been dropped\n",
    "\n",
    "model_df.duplicated(keep='first').sum()"
   ]
  },
  {
   "cell_type": "code",
   "execution_count": null,
   "metadata": {
    "ExecuteTime": {
     "end_time": "2022-07-26T17:33:48.350733Z",
     "start_time": "2022-07-26T17:33:48.322616Z"
    }
   },
   "outputs": [],
   "source": [
    "# Checking Class Balance\n",
    "model_df['Severe'].value_counts()"
   ]
  },
  {
   "cell_type": "code",
   "execution_count": null,
   "metadata": {
    "ExecuteTime": {
     "end_time": "2022-07-26T17:33:49.299625Z",
     "start_time": "2022-07-26T17:33:49.253910Z"
    }
   },
   "outputs": [],
   "source": [
    "# Make X and y\n",
    "y = model_df['Severe'].copy()\n",
    "X = model_df['Reviews'].copy()"
   ]
  },
  {
   "cell_type": "code",
   "execution_count": null,
   "metadata": {
    "ExecuteTime": {
     "end_time": "2022-07-26T17:33:50.162591Z",
     "start_time": "2022-07-26T17:33:50.052988Z"
    }
   },
   "outputs": [],
   "source": [
    "# Train Test Split\n",
    "X_train, X_test, y_train, y_test = train_test_split(X, y, test_size=0.3,\n",
    "                                                    random_state=42)\n"
   ]
  },
  {
   "cell_type": "code",
   "execution_count": null,
   "metadata": {
    "ExecuteTime": {
     "end_time": "2022-07-26T17:33:50.832208Z",
     "start_time": "2022-07-26T17:33:50.810873Z"
    }
   },
   "outputs": [],
   "source": [
    "# Using NLTK's Regular Expressions Tokenizer from nltk.tokenize\n",
    "tokenizer = RegexpTokenizer(r'[a-zA-Z0-9]+')\n",
    "tokenizer"
   ]
  },
  {
   "cell_type": "code",
   "execution_count": null,
   "metadata": {
    "ExecuteTime": {
     "end_time": "2022-07-26T17:33:51.420304Z",
     "start_time": "2022-07-26T17:33:51.406624Z"
    }
   },
   "outputs": [],
   "source": [
    "# Creating a Count Vectorizer the RE tokenizer's .tokenize method\n",
    "vectorizer = CountVectorizer(lowercase=True, tokenizer=tokenizer.tokenize,\n",
    "                            stop_words=stopwords_list)"
   ]
  },
  {
   "cell_type": "code",
   "execution_count": null,
   "metadata": {
    "ExecuteTime": {
     "end_time": "2022-07-26T17:34:10.686624Z",
     "start_time": "2022-07-26T17:33:53.471594Z"
    }
   },
   "outputs": [],
   "source": [
    "# Vectorizing the data and saving X_train_bow and X_test_bow\n",
    "X_train_bow = vectorizer.fit_transform(X_train)\n",
    "X_test_bow = vectorizer.transform(X_test)\n",
    "X_train_bow"
   ]
  },
  {
   "cell_type": "code",
   "execution_count": null,
   "metadata": {},
   "outputs": [],
   "source": []
  },
  {
   "cell_type": "markdown",
   "metadata": {},
   "source": [
    "# Models"
   ]
  },
  {
   "cell_type": "markdown",
   "metadata": {},
   "source": [
    "## Bag-of-Words Model\n",
    "\n"
   ]
  },
  {
   "cell_type": "code",
   "execution_count": null,
   "metadata": {
    "ExecuteTime": {
     "end_time": "2022-07-26T17:34:16.429440Z",
     "start_time": "2022-07-26T17:34:10.726070Z"
    }
   },
   "outputs": [],
   "source": [
    "# Create and fit a Decision Tree Classifier\n",
    "dt = DecisionTreeClassifier(class_weight='balanced', max_depth=10)\n",
    "dt.fit(X_train_bow,y_train)"
   ]
  },
  {
   "cell_type": "code",
   "execution_count": null,
   "metadata": {
    "ExecuteTime": {
     "end_time": "2022-07-26T17:34:16.465756Z",
     "start_time": "2022-07-26T17:34:16.436160Z"
    }
   },
   "outputs": [],
   "source": [
    "# Extract predictions for the train and test sets\n",
    "y_hat_test = dt.predict(X_test_bow)\n"
   ]
  },
  {
   "cell_type": "code",
   "execution_count": null,
   "metadata": {
    "ExecuteTime": {
     "end_time": "2022-07-26T17:34:24.887739Z",
     "start_time": "2022-07-26T17:34:24.862941Z"
    }
   },
   "outputs": [],
   "source": [
    "def evaluate_model(y_test,y_hat_test,X_test,clf=None,\n",
    "                  scoring=metrics.recall_score,verbose=False,\n",
    "                  scorer=False,classes=['Passed','Failed']):\n",
    "    \"\"\"Quick/simple classification model evaluation\"\"\"\n",
    "\n",
    "    print(metrics.classification_report(y_test,y_hat_test,\n",
    "                                        target_names=classes))\n",
    "    \n",
    "    metrics.plot_confusion_matrix(clf,X_test,y_test,normalize='true',\n",
    "                                 cmap='Blues',display_labels=classes)\n",
    "    plt.show()\n",
    "    if verbose:\n",
    "        print(\"MODEL PARAMETERS:\")\n",
    "        print(pd.Series(dt.get_params()))\n",
    "        \n",
    "    if scorer:\n",
    "        \n",
    "        return scoring(y_test,y_hat_test)"
   ]
  },
  {
   "cell_type": "code",
   "execution_count": null,
   "metadata": {
    "ExecuteTime": {
     "end_time": "2022-07-26T17:34:26.532837Z",
     "start_time": "2022-07-26T17:34:26.046453Z"
    }
   },
   "outputs": [],
   "source": [
    "# Evaluating the moodel using function\n",
    "evaluate_model(y_test,y_hat_test,X_test_bow,dt)"
   ]
  },
  {
   "cell_type": "code",
   "execution_count": null,
   "metadata": {
    "ExecuteTime": {
     "end_time": "2022-07-26T17:34:27.720062Z",
     "start_time": "2022-07-26T17:34:26.708295Z"
    }
   },
   "outputs": [],
   "source": [
    "# Plot the top 30 most important features\n",
    "with plt.style.context('seaborn-talk'):\n",
    "\n",
    "# Get Feature Importance\n",
    "    importance = pd.Series(dt.feature_importances_,index=vectorizer.get_feature_names())\n",
    "\n",
    "# Sort values \n",
    "\n",
    "\n",
    "# Take the .tail 30 and plot kind='barh'\n",
    "    importance.sort_values().tail(30).plot(kind='barh')"
   ]
  },
  {
   "cell_type": "code",
   "execution_count": null,
   "metadata": {
    "ExecuteTime": {
     "end_time": "2022-07-26T17:34:27.995037Z",
     "start_time": "2022-07-26T17:34:27.901758Z"
    },
    "scrolled": true
   },
   "outputs": [],
   "source": [
    "count_vect = CountVectorizer()\n",
    "tf_transform = TfidfTransformer(use_idf=True)\n",
    "\n",
    "text_pipe = Pipeline(steps=[\n",
    "    ('count_vectorizer',count_vect),\n",
    "    ('tf_transformer',tf_transform)])\n",
    "\n",
    "full_pipe = Pipeline(steps=[\n",
    "    ('text_pipe',text_pipe),\n",
    "    ('clf',DecisionTreeClassifier(class_weight='balanced'))\n",
    "])\n",
    "full_pipe"
   ]
  },
  {
   "cell_type": "code",
   "execution_count": null,
   "metadata": {
    "ExecuteTime": {
     "end_time": "2022-07-26T17:34:49.869843Z",
     "start_time": "2022-07-26T17:34:29.109391Z"
    }
   },
   "outputs": [],
   "source": [
    "\n",
    "## Preview current X_train\n",
    "X_train_pipe = text_pipe.fit_transform(X_train)\n",
    "X_test_pipe = text_pipe.transform(X_test)\n",
    "X_train_pipe\n"
   ]
  },
  {
   "cell_type": "code",
   "execution_count": null,
   "metadata": {
    "ExecuteTime": {
     "end_time": "2022-07-26T17:34:50.000703Z",
     "start_time": "2022-07-26T17:34:49.930522Z"
    }
   },
   "outputs": [],
   "source": [
    "from sklearn import set_config"
   ]
  },
  {
   "cell_type": "code",
   "execution_count": null,
   "metadata": {
    "ExecuteTime": {
     "end_time": "2022-07-26T17:34:50.132736Z",
     "start_time": "2022-07-26T17:34:50.007783Z"
    }
   },
   "outputs": [],
   "source": [
    "set_config(display='diagram')\n",
    "\n",
    "full_pipe"
   ]
  },
  {
   "cell_type": "code",
   "execution_count": null,
   "metadata": {
    "ExecuteTime": {
     "end_time": "2022-07-26T17:55:17.521314Z",
     "start_time": "2022-07-26T17:34:50.140716Z"
    }
   },
   "outputs": [],
   "source": [
    "from sklearn.model_selection import GridSearchCV\n",
    "## Make a tokenizer with TweetTokenizer\n",
    "tokenizer = RegexpTokenizer(r'[a-zA-Z0-9]+')\n",
    "vectorizer = CountVectorizer(ngram_range=[1,2])\n",
    "## Make params Grid\n",
    "#### use_idf: True/False\n",
    "#### tokenizer: None, tokenizer.tokenize\n",
    "#### criterion: gini, entropy\n",
    "#### stopwords\n",
    "\n",
    "params = {'text_pipe__tf_transformer__use_idf':[True, False],\n",
    "         'text_pipe__count_vectorizer__tokenizer':[None,tokenizer.tokenize],\n",
    "         'text_pipe__count_vectorizer__stop_words':[None,stopwords_list],\n",
    "         'clf__criterion':['gini', 'entropy']}\n",
    "\n",
    "## Make and fit grid\n",
    "grid = GridSearchCV(full_pipe,params,cv=3)\n",
    "grid.fit(X_train,y_train)\n",
    "## Display best params\n",
    "grid.best_params_"
   ]
  },
  {
   "cell_type": "code",
   "execution_count": null,
   "metadata": {
    "ExecuteTime": {
     "end_time": "2022-07-26T17:55:17.576702Z",
     "start_time": "2022-07-26T17:55:17.526866Z"
    }
   },
   "outputs": [],
   "source": [
    "vec = CountVectorizer(token_pattern=r\"([a-zA-Z]+(?:'[a-z]+)?)\",\n",
    "                      stop_words=sw, ngram_range=[1,2],\n",
    "                      min_df=2, max_df=25)\n",
    "X = vec.fit_transform(corpus.body)\n",
    "\n",
    "df_cv = pd.DataFrame(X.toarray(), columns=vec.get_feature_names())\n",
    "df_cv"
   ]
  },
  {
   "cell_type": "code",
   "execution_count": null,
   "metadata": {
    "ExecuteTime": {
     "end_time": "2022-07-26T17:55:39.613117Z",
     "start_time": "2022-07-26T17:55:36.644384Z"
    }
   },
   "outputs": [],
   "source": [
    "## Evluate the best_estimator\n",
    "best_pipe = grid.best_estimator_\n",
    "y_hat_test = grid.predict(X_test)"
   ]
  },
  {
   "cell_type": "code",
   "execution_count": null,
   "metadata": {
    "ExecuteTime": {
     "end_time": "2022-07-26T17:55:44.861331Z",
     "start_time": "2022-07-26T17:55:40.714860Z"
    }
   },
   "outputs": [],
   "source": [
    "evaluate_model(y_test,y_hat_test,X_test,best_pipe)"
   ]
  },
  {
   "cell_type": "code",
   "execution_count": null,
   "metadata": {},
   "outputs": [],
   "source": []
  },
  {
   "cell_type": "code",
   "execution_count": null,
   "metadata": {},
   "outputs": [],
   "source": []
  },
  {
   "cell_type": "markdown",
   "metadata": {},
   "source": [
    "## Getting Feature Importances\n"
   ]
  },
  {
   "cell_type": "code",
   "execution_count": null,
   "metadata": {
    "ExecuteTime": {
     "end_time": "2022-07-26T17:55:56.330958Z",
     "start_time": "2022-07-26T17:55:44.867332Z"
    }
   },
   "outputs": [],
   "source": [
    "X_train_pipe = text_pipe.fit_transform(X_train)\n",
    "X_test_pipe = text_pipe.transform(X_test)\n",
    "X_train_pipe"
   ]
  },
  {
   "cell_type": "code",
   "execution_count": null,
   "metadata": {
    "ExecuteTime": {
     "end_time": "2022-07-26T17:55:56.348426Z",
     "start_time": "2022-07-26T17:55:56.336490Z"
    }
   },
   "outputs": [],
   "source": [
    "X_train_pipe.shape"
   ]
  },
  {
   "cell_type": "code",
   "execution_count": null,
   "metadata": {
    "ExecuteTime": {
     "end_time": "2022-07-26T17:55:56.454480Z",
     "start_time": "2022-07-26T17:55:56.354175Z"
    }
   },
   "outputs": [],
   "source": [
    "features = text_pipe.named_steps['count_vectorizer'].get_feature_names()"
   ]
  },
  {
   "cell_type": "code",
   "execution_count": null,
   "metadata": {
    "ExecuteTime": {
     "end_time": "2022-07-26T17:55:56.469396Z",
     "start_time": "2022-07-26T17:55:56.459497Z"
    }
   },
   "outputs": [],
   "source": [
    "len(features)"
   ]
  },
  {
   "cell_type": "code",
   "execution_count": null,
   "metadata": {
    "ExecuteTime": {
     "end_time": "2022-07-26T17:55:56.549317Z",
     "start_time": "2022-07-26T17:55:56.472791Z"
    }
   },
   "outputs": [],
   "source": [
    "# vectorizer.get_feature_names()\n",
    "rf = best_pipe.named_steps['clf']\n",
    "with plt.style.context('seaborn-talk'):\n",
    "    importance = pd.Series(rf.feature_importances_,index=features)#vectorizer.get_feature_names())\n",
    "    importance.sort_values(inplace=True)\n",
    "\n",
    "    importance.sort_values().tail(30).plot(kind='barh')"
   ]
  },
  {
   "cell_type": "code",
   "execution_count": null,
   "metadata": {
    "ExecuteTime": {
     "end_time": "2022-07-26T17:58:57.936030Z",
     "start_time": "2022-07-26T17:58:57.893870Z"
    }
   },
   "outputs": [],
   "source": [
    "top_word_probs = {}\n",
    "for word in importance.tail(20).index:\n",
    "    rows = df['text'].str.contains(word,regex=False,case=False)\n",
    "    val_count= df[rows]['source'].value_counts(normalize=True)\n",
    "    top_word_probs[word] = val_count\n",
    "#     print(f'\\n\\n{word}:\\n{val_count}')"
   ]
  },
  {
   "cell_type": "code",
   "execution_count": null,
   "metadata": {
    "ExecuteTime": {
     "end_time": "2022-07-26T17:55:56.558453Z",
     "start_time": "2022-07-26T17:55:51.727Z"
    }
   },
   "outputs": [],
   "source": [
    "\n",
    "top_probs = pd.DataFrame(top_word_probs).T\n",
    "top_probs.style.background_gradient(axis=1)"
   ]
  },
  {
   "cell_type": "code",
   "execution_count": null,
   "metadata": {},
   "outputs": [],
   "source": []
  },
  {
   "cell_type": "code",
   "execution_count": null,
   "metadata": {},
   "outputs": [],
   "source": []
  },
  {
   "cell_type": "code",
   "execution_count": null,
   "metadata": {},
   "outputs": [],
   "source": []
  },
  {
   "cell_type": "code",
   "execution_count": null,
   "metadata": {},
   "outputs": [],
   "source": []
  },
  {
   "cell_type": "code",
   "execution_count": null,
   "metadata": {},
   "outputs": [],
   "source": []
  },
  {
   "cell_type": "code",
   "execution_count": null,
   "metadata": {
    "ExecuteTime": {
     "end_time": "2022-07-26T17:55:56.845812Z",
     "start_time": "2022-07-26T17:55:56.812515Z"
    }
   },
   "outputs": [],
   "source": [
    "### Function to produce the model's coefficients\n",
    "\n",
    "def eval_clf(model, X_test_tf,y_test,cmap='Reds',\n",
    "                            normalize='true',classes=['Unvaccinated', 'Vaccinated'],figsize=(10,4),\n",
    "                            X_train = None, y_train = None,):\n",
    "    \"\"\"Evaluates a scikit-learn binary classification model.\n",
    "\n",
    "    Args:\n",
    "        model ([type]): [description]\n",
    "        X_test_tf ([type]): [description]\n",
    "        y_test ([type]): [description]\n",
    "        cmap (str, optional): [description]. Defaults to 'Reds'.\n",
    "        normalize (str, optional): [description]. Defaults to 'true'.\n",
    "        classes ([type], optional): [description]. Defaults to None.\n",
    "        figsize (tuple, optional): [description]. Defaults to (8,4).\n",
    "        X_train ([type], optional): [description]. Defaults to None.\n",
    "        y_train ([type], optional): [description]. Defaults to None.\n",
    "    \"\"\"\n",
    "    \n",
    "    \n",
    "    y_hat_test = model.predict(X_test_tf)\n",
    "    print(metrics.classification_report(y_test, y_hat_test,target_names=classes))\n",
    "    \n",
    "\n",
    "    fig,ax = plt.subplots(ncols=2,figsize=figsize)\n",
    "    plt.grid(False)\n",
    "    plot_confusion_matrix(model, X_test_tf,y_test,cmap=cmap, \n",
    "                                  normalize=normalize,display_labels=classes,\n",
    "                                 ax=ax[0])\n",
    "    for a in ax:\n",
    "        a.grid(False)   \n",
    "        \n",
    "    curve = metrics.plot_roc_curve(model,X_test_tf,y_test,ax=ax[1])\n",
    "    curve.ax_.grid()\n",
    "    curve.ax_.plot([0,1],[0,1],ls=':')\n",
    "    fig.tight_layout()\n",
    "    plt.show()\n",
    "    \n",
    "    ## Add comparing Scores if X_train and y_train provided.\n",
    "    if (X_train is not None) & (y_train is not None):\n",
    "        print(f\"Training Score = {model.score(X_train,y_train):.2f}\")\n",
    "        print(f\"Test Score = {model.score(X_test_tf,y_test):.2f}\")"
   ]
  },
  {
   "cell_type": "code",
   "execution_count": null,
   "metadata": {
    "ExecuteTime": {
     "end_time": "2022-07-26T17:55:59.130816Z",
     "start_time": "2022-07-26T17:55:59.104411Z"
    }
   },
   "outputs": [],
   "source": [
    "## Creating baseline classifier model\n",
    "\n",
    "base = DummyClassifier(strategy='stratified', random_state = 42)\n",
    "\n",
    "base.fit(X_train_df, y_train)\n",
    "\n",
    "eval_clf(base,X_test_tf,y_test,X_train=X_train_df,y_train=y_train)"
   ]
  },
  {
   "cell_type": "code",
   "execution_count": null,
   "metadata": {},
   "outputs": [],
   "source": []
  },
  {
   "cell_type": "markdown",
   "metadata": {},
   "source": [
    "## TF-IDF Models\n"
   ]
  },
  {
   "cell_type": "code",
   "execution_count": null,
   "metadata": {
    "ExecuteTime": {
     "end_time": "2022-07-26T17:56:03.117277Z",
     "start_time": "2022-07-26T17:56:03.111083Z"
    }
   },
   "outputs": [],
   "source": [
    "## Make a Regular Expression Tokenizer from nltk.tokenize\n",
    "tokenizer = RegexpTokenizer(r'[a-zA-Z0-9]+')"
   ]
  },
  {
   "cell_type": "code",
   "execution_count": null,
   "metadata": {
    "ExecuteTime": {
     "end_time": "2022-07-26T17:56:03.664108Z",
     "start_time": "2022-07-26T17:56:03.630553Z"
    }
   },
   "outputs": [],
   "source": [
    "## Make a TfIdf Vectorizer using tweet tokenizer's .tokenize method\n",
    "vectorizer = TfidfVectorizer(tokenizer=tokenizer.tokenize,\n",
    "                             stop_words=stopwords_list)\n",
    "\n",
    "# Vectorize data and make X_train_tfidf and X_test_tfidf\n",
    "X_train_tfidf = vectorizer.fit_transform(X_train)\n",
    "X_test_tfidf = vectorizer.transform(X_test)\n",
    "X_train_tfidf\n"
   ]
  },
  {
   "cell_type": "code",
   "execution_count": null,
   "metadata": {
    "ExecuteTime": {
     "end_time": "2022-07-26T17:56:06.373970Z",
     "start_time": "2022-07-26T17:56:06.348217Z"
    }
   },
   "outputs": [],
   "source": [
    "tf_vec = TfidfVectorizer(token_pattern=r\"([a-zA-Z]+(?:'[a-z]+)?)\", stop_words=stopwords_list)\n",
    "X = tf_vec.fit_transform(X_train)\n",
    "\n",
    "df = pd.DataFrame(X.toarray(), columns = tf_vec.get_feature_names())\n",
    "df.head()"
   ]
  },
  {
   "cell_type": "code",
   "execution_count": null,
   "metadata": {
    "ExecuteTime": {
     "end_time": "2022-07-26T17:56:07.184496Z",
     "start_time": "2022-07-26T17:56:07.155009Z"
    }
   },
   "outputs": [],
   "source": [
    "df.iloc[33].sort_values(ascending=False)[:10]"
   ]
  },
  {
   "cell_type": "code",
   "execution_count": null,
   "metadata": {},
   "outputs": [],
   "source": []
  },
  {
   "cell_type": "code",
   "execution_count": null,
   "metadata": {
    "ExecuteTime": {
     "end_time": "2022-07-26T17:56:21.999885Z",
     "start_time": "2022-07-26T17:56:10.053311Z"
    }
   },
   "outputs": [],
   "source": [
    "# Comparing to the CountVectorizor\n",
    "vec = CountVectorizer(token_pattern=r\"([a-zA-Z]+(?:'[a-z]+)?)\", stop_words=stopwords_list)\n",
    "X = vec.fit_transform(X_train)\n",
    "\n",
    "df_cv = pd.DataFrame(X.toarray(), columns=vec.get_feature_names())\n",
    "df_cv"
   ]
  },
  {
   "cell_type": "code",
   "execution_count": null,
   "metadata": {
    "ExecuteTime": {
     "end_time": "2022-07-26T17:56:22.042269Z",
     "start_time": "2022-07-26T17:56:22.009106Z"
    }
   },
   "outputs": [],
   "source": [
    "df_cv.iloc[33].sort_values(ascending=False)[:10]"
   ]
  },
  {
   "cell_type": "code",
   "execution_count": null,
   "metadata": {
    "ExecuteTime": {
     "end_time": "2022-07-26T17:56:22.070973Z",
     "start_time": "2022-07-26T17:56:22.047334Z"
    }
   },
   "outputs": [],
   "source": [
    "tf_vec.vocabulary_"
   ]
  },
  {
   "cell_type": "markdown",
   "metadata": {
    "ExecuteTime": {
     "end_time": "2022-05-25T22:25:45.624914Z",
     "start_time": "2022-05-25T22:25:45.612791Z"
    }
   },
   "source": [
    "### Modeling Baseline"
   ]
  },
  {
   "cell_type": "code",
   "execution_count": null,
   "metadata": {
    "ExecuteTime": {
     "end_time": "2022-07-26T17:56:31.179884Z",
     "start_time": "2022-07-26T17:56:31.152450Z"
    }
   },
   "outputs": [],
   "source": [
    "## Make and fit a decision tree  (class_weight='balanced')\n",
    "dt = DecisionTreeClassifier(max_depth=6, class_weight='balanced')\n",
    "dt.fit(X_train_tfidf,y_train)"
   ]
  },
  {
   "cell_type": "code",
   "execution_count": null,
   "metadata": {
    "ExecuteTime": {
     "end_time": "2022-07-26T17:56:22.076394Z",
     "start_time": "2022-07-26T17:56:16.210Z"
    }
   },
   "outputs": [],
   "source": [
    "def evaluate_classification(model, X_test_tf,y_test,cmap='Greens',\n",
    "                            normalize='true',classes=None,figsize=(10,4),\n",
    "                            X_train = None, y_train = None,):\n",
    "    \"\"\"Evaluates a scikit-learn binary classification model.\n",
    "\n",
    "    Args:\n",
    "        model (classifier): any sklearn classification model.\n",
    "        X_test_tf (Frame or Array): X data\n",
    "        y_test (Series or Array): y data\n",
    "        cmap (str, optional): Colormap for confusion matrix. Defaults to 'Greens'.\n",
    "        normalize (str, optional): normalize argument for plot_confusion_matrix. \n",
    "                                    Defaults to 'true'.\n",
    "        classes (list, optional): List of class names for display. Defaults to None.\n",
    "        figsize (tuple, optional): figure size Defaults to (8,4).\n",
    "        \n",
    "        X_train (Frame or Array, optional): If provided, compare model.score \n",
    "                                for train and test. Defaults to None.\n",
    "        y_train (Series or Array, optional): If provided, compare model.score \n",
    "                                for train and test. Defaults to None.\n",
    "    \"\"\"\n",
    "    \n",
    "    ## Get Predictions and Classification Report\n",
    "    y_hat_test = model.predict(X_test_tf)\n",
    "    print(metrics.classification_report(y_test, y_hat_test,target_names=classes))\n",
    "    \n",
    "    ## Plot Confusion Matrid and roc curve\n",
    "    fig,ax = plt.subplots(ncols=2, figsize=figsize)\n",
    "    metrics.plot_confusion_matrix(model, X_test_tf,y_test,cmap=cmap, \n",
    "                                  normalize=normalize,display_labels=classes,\n",
    "                                 ax=ax[0])\n",
    "    \n",
    "    ## if roc curve erorrs, delete second ax\n",
    "    try:\n",
    "        curve = metrics.plot_roc_curve(model,X_test_tf,y_test,ax=ax[1])\n",
    "        curve.ax_.grid()\n",
    "        curve.ax_.plot([0,1],[0,1],ls=':')\n",
    "        fig.tight_layout()\n",
    "    except:\n",
    "        fig.delaxes(ax[1])\n",
    "    plt.show()\n",
    "    \n",
    "    ## Add comparing Scores if X_train and y_train provided.\n",
    "    if (X_train is not None) & (y_train is not None):\n",
    "        print(f\"Training Score = {model.score(X_train,y_train):.2f}\")\n",
    "        print(f\"Test Score = {model.score(X_test_tf,y_test):.2f}\")\n",
    "        \n",
    "    \n",
    "def plot_importance(tree, X_train_df, top_n=20,figsize=(10,10)):\n",
    "    \n",
    "    df_importance = pd.Series(tree.feature_importances_,\n",
    "                              index=X_train_df.columns)\n",
    "    df_importance.sort_values(ascending=True).tail(top_n).plot(\n",
    "        kind='barh',figsize=figsize,title='Feature Importances',\n",
    "    ylabel='Feature',)\n",
    "    return df_importance"
   ]
  },
  {
   "cell_type": "code",
   "execution_count": null,
   "metadata": {
    "ExecuteTime": {
     "end_time": "2022-07-26T17:56:22.084149Z",
     "start_time": "2022-07-26T17:56:16.688Z"
    }
   },
   "outputs": [],
   "source": [
    "## Evaluate Model using function\n",
    "evaluate_classification(dt,X_test_tfidf,y_test,X_train=X_train_tfidf,y_train=y_train)"
   ]
  },
  {
   "cell_type": "code",
   "execution_count": null,
   "metadata": {
    "ExecuteTime": {
     "end_time": "2022-07-26T17:56:22.086869Z",
     "start_time": "2022-07-26T17:56:17.320Z"
    }
   },
   "outputs": [],
   "source": [
    "# Plot the top 30 most important features\n",
    "with plt.style.context('seaborn-talk'):\n",
    "\n",
    "    ## Get Feature Importance\n",
    "    importance = pd.Series(dt.feature_importances_,\n",
    "                           index=vectorizer.get_feature_names())\n",
    "\n",
    "    ## Take the .tail 30 and plot kind='barh'\n",
    "    importance.sort_values().tail(30).plot(kind='barh')"
   ]
  },
  {
   "cell_type": "code",
   "execution_count": null,
   "metadata": {
    "ExecuteTime": {
     "end_time": "2022-07-26T17:56:22.089705Z",
     "start_time": "2022-07-26T17:56:17.958Z"
    }
   },
   "outputs": [],
   "source": [
    "## Make a text preprocessing pipeline\n",
    "text_pipe = Pipeline(steps=[\n",
    "    ('count_vectorizer',CountVectorizer()),\n",
    "    ('tf_transformer',TfidfTransformer(use_idf=True))\n",
    "])\n",
    "text_pipe"
   ]
  },
  {
   "cell_type": "code",
   "execution_count": null,
   "metadata": {
    "ExecuteTime": {
     "end_time": "2022-07-26T17:56:22.092638Z",
     "start_time": "2022-07-26T17:56:18.344Z"
    }
   },
   "outputs": [],
   "source": [
    "## Test out the text pipeline on X_train\n",
    "X_train_pipe = text_pipe.fit_transform(X_train)\n",
    "X_test_pipe = text_pipe.transform(X_test)\n",
    "X_train_pipe"
   ]
  },
  {
   "cell_type": "code",
   "execution_count": null,
   "metadata": {
    "ExecuteTime": {
     "end_time": "2022-07-26T17:56:22.103725Z",
     "start_time": "2022-07-26T17:56:18.750Z"
    }
   },
   "outputs": [],
   "source": [
    "## Make a full pipeline with the random forest model as the second step\n",
    "full_pipe = Pipeline([('text_pipe',text_pipe),\n",
    "                     ('clf',DecisionTreeClassifier(max_depth=6,class_weight='balanced'))])\n",
    "full_pipe"
   ]
  },
  {
   "cell_type": "code",
   "execution_count": null,
   "metadata": {
    "ExecuteTime": {
     "end_time": "2022-07-26T17:56:22.106431Z",
     "start_time": "2022-07-26T17:56:19.087Z"
    }
   },
   "outputs": [],
   "source": [
    "## Modeling with full pipeline\n",
    "full_pipe.fit(X_train,y_train)\n",
    "evaluate_classification(full_pipe,X_test,y_test,X_train=X_train, y_train=y_train)"
   ]
  },
  {
   "cell_type": "code",
   "execution_count": null,
   "metadata": {},
   "outputs": [],
   "source": []
  },
  {
   "cell_type": "code",
   "execution_count": null,
   "metadata": {
    "ExecuteTime": {
     "end_time": "2022-07-29T01:32:05.417989Z",
     "start_time": "2022-07-29T01:32:05.349005Z"
    }
   },
   "outputs": [],
   "source": [
    "# DTREE Model"
   ]
  },
  {
   "cell_type": "code",
   "execution_count": null,
   "metadata": {},
   "outputs": [],
   "source": []
  },
  {
   "cell_type": "code",
   "execution_count": null,
   "metadata": {},
   "outputs": [],
   "source": []
  },
  {
   "cell_type": "code",
   "execution_count": null,
   "metadata": {
    "ExecuteTime": {
     "end_time": "2022-07-29T01:32:12.027494Z",
     "start_time": "2022-07-29T01:32:12.017691Z"
    }
   },
   "outputs": [],
   "source": [
    "# SVM Model"
   ]
  },
  {
   "cell_type": "code",
   "execution_count": null,
   "metadata": {},
   "outputs": [],
   "source": []
  },
  {
   "cell_type": "code",
   "execution_count": null,
   "metadata": {},
   "outputs": [],
   "source": []
  },
  {
   "cell_type": "code",
   "execution_count": null,
   "metadata": {},
   "outputs": [],
   "source": []
  },
  {
   "cell_type": "markdown",
   "metadata": {},
   "source": [
    "##  RNN Model"
   ]
  },
  {
   "cell_type": "code",
   "execution_count": null,
   "metadata": {
    "ExecuteTime": {
     "end_time": "2022-07-29T01:33:13.626989Z",
     "start_time": "2022-07-29T01:33:13.620447Z"
    }
   },
   "outputs": [],
   "source": [
    "# All lowercase\n",
    "# No stopword removal\n",
    "# No stemming/lemma"
   ]
  },
  {
   "cell_type": "markdown",
   "metadata": {},
   "source": [
    "##  Deep NLP Models\n"
   ]
  },
  {
   "cell_type": "code",
   "execution_count": 1,
   "metadata": {
    "ExecuteTime": {
     "end_time": "2022-07-29T01:40:19.758328Z",
     "start_time": "2022-07-29T01:40:08.017229Z"
    }
   },
   "outputs": [],
   "source": [
    "from gensim.models import Word2Vec\n",
    "from nltk import word_tokenize"
   ]
  },
  {
   "cell_type": "code",
   "execution_count": null,
   "metadata": {},
   "outputs": [],
   "source": [
    "# TO-DO\n",
    "# Deep NLP\n",
    "# Train on word2vec /glove model\n",
    "# LSTM or GRU layers\n",
    "# Sequential – keras models \n",
    "# Blackbox models (lime)\n",
    "# #"
   ]
  },
  {
   "cell_type": "markdown",
   "metadata": {},
   "source": [
    "## Interpreting LIME"
   ]
  },
  {
   "cell_type": "code",
   "execution_count": 3,
   "metadata": {
    "ExecuteTime": {
     "end_time": "2022-07-29T01:55:03.617225Z",
     "start_time": "2022-07-29T01:55:03.579344Z"
    }
   },
   "outputs": [],
   "source": [
    "# https://www.kdnuggets.com/2022/01/explain-nlp-models-lime.html"
   ]
  },
  {
   "cell_type": "code",
   "execution_count": 2,
   "metadata": {
    "ExecuteTime": {
     "end_time": "2022-07-29T01:54:10.810810Z",
     "start_time": "2022-07-29T01:54:08.866690Z"
    }
   },
   "outputs": [
    {
     "ename": "ModuleNotFoundError",
     "evalue": "No module named 'lime'",
     "output_type": "error",
     "traceback": [
      "\u001b[0;31m---------------------------------------------------------------------------\u001b[0m",
      "\u001b[0;31mModuleNotFoundError\u001b[0m                       Traceback (most recent call last)",
      "\u001b[0;32m<ipython-input-2-07464ae56979>\u001b[0m in \u001b[0;36m<module>\u001b[0;34m\u001b[0m\n\u001b[1;32m      1\u001b[0m \u001b[0;31m# for LIME import necessary packages\u001b[0m\u001b[0;34m\u001b[0m\u001b[0;34m\u001b[0m\u001b[0;34m\u001b[0m\u001b[0m\n\u001b[0;32m----> 2\u001b[0;31m \u001b[0;32mfrom\u001b[0m \u001b[0mlime\u001b[0m \u001b[0;32mimport\u001b[0m \u001b[0mlime_text\u001b[0m\u001b[0;34m\u001b[0m\u001b[0;34m\u001b[0m\u001b[0m\n\u001b[0m\u001b[1;32m      3\u001b[0m \u001b[0;32mfrom\u001b[0m \u001b[0mlime\u001b[0m\u001b[0;34m.\u001b[0m\u001b[0mlime_text\u001b[0m \u001b[0;32mimport\u001b[0m \u001b[0mLimeTextExplainer\u001b[0m\u001b[0;34m\u001b[0m\u001b[0;34m\u001b[0m\u001b[0m\n\u001b[1;32m      4\u001b[0m \u001b[0;32mfrom\u001b[0m \u001b[0msklearn\u001b[0m\u001b[0;34m.\u001b[0m\u001b[0mpipeline\u001b[0m \u001b[0;32mimport\u001b[0m \u001b[0mmake_pipeline\u001b[0m\u001b[0;34m\u001b[0m\u001b[0;34m\u001b[0m\u001b[0m\n\u001b[1;32m      5\u001b[0m \u001b[0;32mfrom\u001b[0m \u001b[0mlime\u001b[0m\u001b[0;34m.\u001b[0m\u001b[0mlime_text\u001b[0m \u001b[0;32mimport\u001b[0m \u001b[0mIndexedString\u001b[0m\u001b[0;34m,\u001b[0m\u001b[0mIndexedCharacters\u001b[0m\u001b[0;34m\u001b[0m\u001b[0;34m\u001b[0m\u001b[0m\n",
      "\u001b[0;31mModuleNotFoundError\u001b[0m: No module named 'lime'"
     ]
    }
   ],
   "source": [
    "# for LIME import necessary packages\n",
    "from lime import lime_text\n",
    "from lime.lime_text import LimeTextExplainer\n",
    "from sklearn.pipeline import make_pipeline\n",
    "from lime.lime_text import IndexedString,IndexedCharacters\n",
    "from lime.lime_base import LimeBase\n",
    "from sklearn.linear_model import Ridge, lars_path\n",
    "from lime.lime_text import explanation\n",
    "from functools import partial\n",
    "import scipy as sp\n",
    "from sklearn.utils import check_random_state\n"
   ]
  },
  {
   "cell_type": "markdown",
   "metadata": {},
   "source": [
    "# Interpreting Results"
   ]
  },
  {
   "cell_type": "code",
   "execution_count": null,
   "metadata": {},
   "outputs": [],
   "source": [
    "# get the names of the features\n",
    "feature_names = np.array(vec.get_feature_names())\n",
    "\n",
    "def get_top_features(features, model, level, limit, bottom=False):\n",
    "    \"\"\" Get the top (most likely to see violations) and bottom (least\n",
    "        likely to see violations) features for a given model.\n",
    "        \n",
    "        :param features: an array of the feature names\n",
    "        :param model: a fitted linear regression model\n",
    "        :param level: 0, 1, 2 for *, **, *** violation levels\n",
    "        :param limit: how many features to return\n",
    "        :param worst: if we want the bottom features rather than the top \n",
    "    \"\"\"\n",
    "    # sort order for the coefficients\n",
    "    sorted_coeffs = np.argsort(model.coef_[i])\n",
    "    \n",
    "    if bottom:\n",
    "        # get the features at the end of the sorted list\n",
    "        return features[sorted_coeffs[-1 * limit:]]\n",
    "    else:\n",
    "        # get the features at the beginning of the sorted list\n",
    "        return features[sorted_coeffs[:limit]]\n",
    "    \n",
    "# get the features that indicate we are most and least likely to see violations\n",
    "worst_feature_sets = [get_top_features(feature_names, ols, i, 100) for i in range(3)]\n",
    "best_feature_sets = [get_top_features(feature_names, ols, i, 100, bottom=True) for i in range(3)]\n",
    "\n",
    "# reduce the independent feature sets to just the ones\n",
    "# that we see in common across the per-level models (*, **, ***)\n",
    "worst = reduce(np.intersect1d, best_feature_sets)\n",
    "best = reduce(np.intersect1d, worst_feature_sets)\n",
    "\n",
    "# display as a pretty table\n",
    "html_fmt = \"<table><th>More Violations</th><th>Fewer Violations</th><tbody>{}</tbody></table>\"\n",
    "table_rows = [\"<tr><td>{}</td><td>{}</td></tr>\".format(w, b) for w, b in zip(worst, best)]\n",
    "table_body = \"\\n\".join(table_rows)\n",
    "display.HTML(html_fmt.format(table_body))"
   ]
  },
  {
   "cell_type": "code",
   "execution_count": null,
   "metadata": {},
   "outputs": [],
   "source": []
  },
  {
   "cell_type": "code",
   "execution_count": null,
   "metadata": {},
   "outputs": [],
   "source": []
  },
  {
   "cell_type": "code",
   "execution_count": null,
   "metadata": {},
   "outputs": [],
   "source": []
  },
  {
   "cell_type": "markdown",
   "metadata": {},
   "source": [
    "# Conclusions"
   ]
  },
  {
   "cell_type": "markdown",
   "metadata": {},
   "source": [
    "## Best Model Results"
   ]
  },
  {
   "cell_type": "code",
   "execution_count": null,
   "metadata": {},
   "outputs": [],
   "source": []
  },
  {
   "cell_type": "markdown",
   "metadata": {},
   "source": [
    "## Takeaways and Recommended Actions"
   ]
  },
  {
   "cell_type": "code",
   "execution_count": null,
   "metadata": {},
   "outputs": [],
   "source": []
  },
  {
   "cell_type": "code",
   "execution_count": null,
   "metadata": {},
   "outputs": [],
   "source": []
  },
  {
   "cell_type": "markdown",
   "metadata": {},
   "source": [
    "##  Next Steps and Future Work"
   ]
  },
  {
   "cell_type": "code",
   "execution_count": null,
   "metadata": {},
   "outputs": [],
   "source": []
  }
 ],
 "metadata": {
  "kernelspec": {
   "display_name": "Python (learn-env)",
   "language": "python",
   "name": "learn-env"
  },
  "language_info": {
   "codemirror_mode": {
    "name": "ipython",
    "version": 3
   },
   "file_extension": ".py",
   "mimetype": "text/x-python",
   "name": "python",
   "nbconvert_exporter": "python",
   "pygments_lexer": "ipython3",
   "version": "3.8.5"
  },
  "toc": {
   "base_numbering": 1,
   "nav_menu": {},
   "number_sections": true,
   "sideBar": true,
   "skip_h1_title": false,
   "title_cell": "Table of Contents",
   "title_sidebar": "Contents",
   "toc_cell": false,
   "toc_position": {
    "height": "calc(100% - 180px)",
    "left": "10px",
    "top": "150px",
    "width": "207px"
   },
   "toc_section_display": true,
   "toc_window_display": true
  }
 },
 "nbformat": 4,
 "nbformat_minor": 4
}
